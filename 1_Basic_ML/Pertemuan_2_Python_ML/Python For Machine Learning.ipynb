{
 "cells": [
  {
   "cell_type": "markdown",
   "metadata": {},
   "source": [
    "# Basic Python Programming\n",
    "\n",
    "### Print"
   ]
  },
  {
   "cell_type": "code",
   "execution_count": 180,
   "metadata": {},
   "outputs": [
    {
     "name": "stdout",
     "output_type": "stream",
     "text": [
      "Hello World 123 1213\n"
     ]
    }
   ],
   "source": [
    "print (\"Hello World 123 1213\")"
   ]
  },
  {
   "cell_type": "code",
   "execution_count": 179,
   "metadata": {},
   "outputs": [
    {
     "name": "stdout",
     "output_type": "stream",
     "text": [
      "8\n"
     ]
    }
   ],
   "source": [
    "print(2+6)"
   ]
  },
  {
   "cell_type": "markdown",
   "metadata": {},
   "source": [
    "### Print dengan string formatting\n",
    "\n",
    "\n",
    "- `%` old method, \n",
    "- `%s` formating string, \n",
    "- `%.2f` formating float 2 digit decimal, \n",
    "- `%d` formating integer \n",
    "\n",
    "\n",
    "- `'{} {}'.format()` new method,\n"
   ]
  },
  {
   "cell_type": "code",
   "execution_count": 182,
   "metadata": {},
   "outputs": [
    {
     "name": "stdout",
     "output_type": "stream",
     "text": [
      "nilai 100 \n"
     ]
    }
   ],
   "source": [
    "print(\"nilai %s \" % '100')"
   ]
  },
  {
   "cell_type": "code",
   "execution_count": 183,
   "metadata": {},
   "outputs": [
    {
     "name": "stdout",
     "output_type": "stream",
     "text": [
      "nilai 100 \n"
     ]
    }
   ],
   "source": [
    "print(\"nilai %d \" % 100)"
   ]
  },
  {
   "cell_type": "code",
   "execution_count": 185,
   "metadata": {},
   "outputs": [
    {
     "name": "stdout",
     "output_type": "stream",
     "text": [
      "jumlah 1 dengan 2 adalah 3\n"
     ]
    }
   ],
   "source": [
    "print(\"jumlah %d dengan %d adalah %d\" % (1, 2, 3))"
   ]
  },
  {
   "cell_type": "code",
   "execution_count": 187,
   "metadata": {},
   "outputs": [
    {
     "name": "stdout",
     "output_type": "stream",
     "text": [
      "jumlah 1 dengan 2 adalah 3\n"
     ]
    }
   ],
   "source": [
    "print(\"jumlah \" + str(1) + \" dengan \" + str(2) + \" adalah \" + str(3))"
   ]
  },
  {
   "cell_type": "code",
   "execution_count": 60,
   "metadata": {},
   "outputs": [
    {
     "name": "stdout",
     "output_type": "stream",
     "text": [
      "nilai 110.053 \n"
     ]
    }
   ],
   "source": [
    "print(\"nilai %s \" % (100.05 + 10.003))"
   ]
  },
  {
   "cell_type": "code",
   "execution_count": 61,
   "metadata": {},
   "outputs": [
    {
     "name": "stdout",
     "output_type": "stream",
     "text": [
      "nilai 110.05 \n"
     ]
    }
   ],
   "source": [
    "print(\"nilai %.2f \" % (100.05 + 10.003))"
   ]
  },
  {
   "cell_type": "markdown",
   "metadata": {},
   "source": [
    "### Print tuple\n",
    "- tuple dalam python berbentuk `(value1, value2, value3)`"
   ]
  },
  {
   "cell_type": "code",
   "execution_count": 188,
   "metadata": {},
   "outputs": [
    {
     "name": "stdout",
     "output_type": "stream",
     "text": [
      "nilai  5  adalah bilangan ganjil\n"
     ]
    }
   ],
   "source": [
    "print(\"nilai \", 2 + 3, \" adalah bilangan ganjil\")"
   ]
  },
  {
   "cell_type": "code",
   "execution_count": 189,
   "metadata": {},
   "outputs": [
    {
     "name": "stdout",
     "output_type": "stream",
     "text": [
      "hello 13.45 123 text\n"
     ]
    }
   ],
   "source": [
    "print(\"hello\", 13.45, \"123 text\")"
   ]
  },
  {
   "cell_type": "markdown",
   "metadata": {},
   "source": [
    "### Kometar\n",
    "- pada python menggunakan tanga `#` atau `\"\"\"` untuk multiple comment"
   ]
  },
  {
   "cell_type": "code",
   "execution_count": 190,
   "metadata": {},
   "outputs": [
    {
     "name": "stdout",
     "output_type": "stream",
     "text": [
      "Helo World\n",
      "Hello World 2\n"
     ]
    }
   ],
   "source": [
    "# ini program print\n",
    "print (\"Helo World\") \n",
    "\n",
    "\"\"\"\n",
    "Multiple\n",
    "Comment\n",
    "in Python\n",
    "\"\"\"\n",
    "# multiple\n",
    "# comment\n",
    "# menggunakan #\n",
    "\n",
    "print(\"Hello World 2\")"
   ]
  },
  {
   "cell_type": "markdown",
   "metadata": {},
   "source": [
    "### Help & Documentation\n",
    "- Gunakan `help()` dan `dir()` untuk melihat detail package yang digunakan\n",
    "- contohnya kita akan coba import libraray `math`"
   ]
  },
  {
   "cell_type": "code",
   "execution_count": 17,
   "metadata": {},
   "outputs": [],
   "source": [
    "import math"
   ]
  },
  {
   "cell_type": "code",
   "execution_count": 191,
   "metadata": {},
   "outputs": [
    {
     "data": {
      "text/plain": [
       "['__doc__',\n",
       " '__loader__',\n",
       " '__name__',\n",
       " '__package__',\n",
       " '__spec__',\n",
       " 'acos',\n",
       " 'acosh',\n",
       " 'asin',\n",
       " 'asinh',\n",
       " 'atan',\n",
       " 'atan2',\n",
       " 'atanh',\n",
       " 'ceil',\n",
       " 'copysign',\n",
       " 'cos',\n",
       " 'cosh',\n",
       " 'degrees',\n",
       " 'e',\n",
       " 'erf',\n",
       " 'erfc',\n",
       " 'exp',\n",
       " 'expm1',\n",
       " 'fabs',\n",
       " 'factorial',\n",
       " 'floor',\n",
       " 'fmod',\n",
       " 'frexp',\n",
       " 'fsum',\n",
       " 'gamma',\n",
       " 'gcd',\n",
       " 'hypot',\n",
       " 'inf',\n",
       " 'isclose',\n",
       " 'isfinite',\n",
       " 'isinf',\n",
       " 'isnan',\n",
       " 'ldexp',\n",
       " 'lgamma',\n",
       " 'log',\n",
       " 'log10',\n",
       " 'log1p',\n",
       " 'log2',\n",
       " 'modf',\n",
       " 'nan',\n",
       " 'pi',\n",
       " 'pow',\n",
       " 'radians',\n",
       " 'sin',\n",
       " 'sinh',\n",
       " 'sqrt',\n",
       " 'tan',\n",
       " 'tanh',\n",
       " 'tau',\n",
       " 'trunc']"
      ]
     },
     "execution_count": 191,
     "metadata": {},
     "output_type": "execute_result"
    }
   ],
   "source": [
    "dir(math)"
   ]
  },
  {
   "cell_type": "code",
   "execution_count": 192,
   "metadata": {},
   "outputs": [
    {
     "name": "stdout",
     "output_type": "stream",
     "text": [
      "Help on built-in module math:\n",
      "\n",
      "NAME\n",
      "    math\n",
      "\n",
      "DESCRIPTION\n",
      "    This module is always available.  It provides access to the\n",
      "    mathematical functions defined by the C standard.\n",
      "\n",
      "FUNCTIONS\n",
      "    acos(...)\n",
      "        acos(x)\n",
      "        \n",
      "        Return the arc cosine (measured in radians) of x.\n",
      "    \n",
      "    acosh(...)\n",
      "        acosh(x)\n",
      "        \n",
      "        Return the inverse hyperbolic cosine of x.\n",
      "    \n",
      "    asin(...)\n",
      "        asin(x)\n",
      "        \n",
      "        Return the arc sine (measured in radians) of x.\n",
      "    \n",
      "    asinh(...)\n",
      "        asinh(x)\n",
      "        \n",
      "        Return the inverse hyperbolic sine of x.\n",
      "    \n",
      "    atan(...)\n",
      "        atan(x)\n",
      "        \n",
      "        Return the arc tangent (measured in radians) of x.\n",
      "    \n",
      "    atan2(...)\n",
      "        atan2(y, x)\n",
      "        \n",
      "        Return the arc tangent (measured in radians) of y/x.\n",
      "        Unlike atan(y/x), the signs of both x and y are considered.\n",
      "    \n",
      "    atanh(...)\n",
      "        atanh(x)\n",
      "        \n",
      "        Return the inverse hyperbolic tangent of x.\n",
      "    \n",
      "    ceil(...)\n",
      "        ceil(x)\n",
      "        \n",
      "        Return the ceiling of x as an Integral.\n",
      "        This is the smallest integer >= x.\n",
      "    \n",
      "    copysign(...)\n",
      "        copysign(x, y)\n",
      "        \n",
      "        Return a float with the magnitude (absolute value) of x but the sign \n",
      "        of y. On platforms that support signed zeros, copysign(1.0, -0.0) \n",
      "        returns -1.0.\n",
      "    \n",
      "    cos(...)\n",
      "        cos(x)\n",
      "        \n",
      "        Return the cosine of x (measured in radians).\n",
      "    \n",
      "    cosh(...)\n",
      "        cosh(x)\n",
      "        \n",
      "        Return the hyperbolic cosine of x.\n",
      "    \n",
      "    degrees(...)\n",
      "        degrees(x)\n",
      "        \n",
      "        Convert angle x from radians to degrees.\n",
      "    \n",
      "    erf(...)\n",
      "        erf(x)\n",
      "        \n",
      "        Error function at x.\n",
      "    \n",
      "    erfc(...)\n",
      "        erfc(x)\n",
      "        \n",
      "        Complementary error function at x.\n",
      "    \n",
      "    exp(...)\n",
      "        exp(x)\n",
      "        \n",
      "        Return e raised to the power of x.\n",
      "    \n",
      "    expm1(...)\n",
      "        expm1(x)\n",
      "        \n",
      "        Return exp(x)-1.\n",
      "        This function avoids the loss of precision involved in the direct evaluation of exp(x)-1 for small x.\n",
      "    \n",
      "    fabs(...)\n",
      "        fabs(x)\n",
      "        \n",
      "        Return the absolute value of the float x.\n",
      "    \n",
      "    factorial(...)\n",
      "        factorial(x) -> Integral\n",
      "        \n",
      "        Find x!. Raise a ValueError if x is negative or non-integral.\n",
      "    \n",
      "    floor(...)\n",
      "        floor(x)\n",
      "        \n",
      "        Return the floor of x as an Integral.\n",
      "        This is the largest integer <= x.\n",
      "    \n",
      "    fmod(...)\n",
      "        fmod(x, y)\n",
      "        \n",
      "        Return fmod(x, y), according to platform C.  x % y may differ.\n",
      "    \n",
      "    frexp(...)\n",
      "        frexp(x)\n",
      "        \n",
      "        Return the mantissa and exponent of x, as pair (m, e).\n",
      "        m is a float and e is an int, such that x = m * 2.**e.\n",
      "        If x is 0, m and e are both 0.  Else 0.5 <= abs(m) < 1.0.\n",
      "    \n",
      "    fsum(...)\n",
      "        fsum(iterable)\n",
      "        \n",
      "        Return an accurate floating point sum of values in the iterable.\n",
      "        Assumes IEEE-754 floating point arithmetic.\n",
      "    \n",
      "    gamma(...)\n",
      "        gamma(x)\n",
      "        \n",
      "        Gamma function at x.\n",
      "    \n",
      "    gcd(...)\n",
      "        gcd(x, y) -> int\n",
      "        greatest common divisor of x and y\n",
      "    \n",
      "    hypot(...)\n",
      "        hypot(x, y)\n",
      "        \n",
      "        Return the Euclidean distance, sqrt(x*x + y*y).\n",
      "    \n",
      "    isclose(...)\n",
      "        isclose(a, b, *, rel_tol=1e-09, abs_tol=0.0) -> bool\n",
      "        \n",
      "        Determine whether two floating point numbers are close in value.\n",
      "        \n",
      "           rel_tol\n",
      "               maximum difference for being considered \"close\", relative to the\n",
      "               magnitude of the input values\n",
      "            abs_tol\n",
      "               maximum difference for being considered \"close\", regardless of the\n",
      "               magnitude of the input values\n",
      "        \n",
      "        Return True if a is close in value to b, and False otherwise.\n",
      "        \n",
      "        For the values to be considered close, the difference between them\n",
      "        must be smaller than at least one of the tolerances.\n",
      "        \n",
      "        -inf, inf and NaN behave similarly to the IEEE 754 Standard.  That\n",
      "        is, NaN is not close to anything, even itself.  inf and -inf are\n",
      "        only close to themselves.\n",
      "    \n",
      "    isfinite(...)\n",
      "        isfinite(x) -> bool\n",
      "        \n",
      "        Return True if x is neither an infinity nor a NaN, and False otherwise.\n",
      "    \n",
      "    isinf(...)\n",
      "        isinf(x) -> bool\n",
      "        \n",
      "        Return True if x is a positive or negative infinity, and False otherwise.\n",
      "    \n",
      "    isnan(...)\n",
      "        isnan(x) -> bool\n",
      "        \n",
      "        Return True if x is a NaN (not a number), and False otherwise.\n",
      "    \n",
      "    ldexp(...)\n",
      "        ldexp(x, i)\n",
      "        \n",
      "        Return x * (2**i).\n",
      "    \n",
      "    lgamma(...)\n",
      "        lgamma(x)\n",
      "        \n",
      "        Natural logarithm of absolute value of Gamma function at x.\n",
      "    \n",
      "    log(...)\n",
      "        log(x[, base])\n",
      "        \n",
      "        Return the logarithm of x to the given base.\n",
      "        If the base not specified, returns the natural logarithm (base e) of x.\n",
      "    \n",
      "    log10(...)\n",
      "        log10(x)\n",
      "        \n",
      "        Return the base 10 logarithm of x.\n",
      "    \n",
      "    log1p(...)\n",
      "        log1p(x)\n",
      "        \n",
      "        Return the natural logarithm of 1+x (base e).\n",
      "        The result is computed in a way which is accurate for x near zero.\n",
      "    \n",
      "    log2(...)\n",
      "        log2(x)\n",
      "        \n",
      "        Return the base 2 logarithm of x.\n",
      "    \n",
      "    modf(...)\n",
      "        modf(x)\n",
      "        \n",
      "        Return the fractional and integer parts of x.  Both results carry the sign\n",
      "        of x and are floats.\n",
      "    \n",
      "    pow(...)\n",
      "        pow(x, y)\n",
      "        \n",
      "        Return x**y (x to the power of y).\n",
      "    \n",
      "    radians(...)\n",
      "        radians(x)\n",
      "        \n",
      "        Convert angle x from degrees to radians.\n",
      "    \n",
      "    sin(...)\n",
      "        sin(x)\n",
      "        \n",
      "        Return the sine of x (measured in radians).\n",
      "    \n",
      "    sinh(...)\n",
      "        sinh(x)\n",
      "        \n",
      "        Return the hyperbolic sine of x.\n",
      "    \n",
      "    sqrt(...)\n",
      "        sqrt(x)\n",
      "        \n",
      "        Return the square root of x.\n",
      "    \n",
      "    tan(...)\n",
      "        tan(x)\n",
      "        \n",
      "        Return the tangent of x (measured in radians).\n",
      "    \n",
      "    tanh(...)\n",
      "        tanh(x)\n",
      "        \n",
      "        Return the hyperbolic tangent of x.\n",
      "    \n",
      "    trunc(...)\n",
      "        trunc(x:Real) -> Integral\n",
      "        \n",
      "        Truncates x to the nearest Integral toward 0. Uses the __trunc__ magic method.\n",
      "\n",
      "DATA\n",
      "    e = 2.718281828459045\n",
      "    inf = inf\n",
      "    nan = nan\n",
      "    pi = 3.141592653589793\n",
      "    tau = 6.283185307179586\n",
      "\n",
      "FILE\n",
      "    (built-in)\n",
      "\n",
      "\n"
     ]
    }
   ],
   "source": [
    "help(math)"
   ]
  },
  {
   "cell_type": "code",
   "execution_count": 193,
   "metadata": {},
   "outputs": [
    {
     "name": "stdout",
     "output_type": "stream",
     "text": [
      "Help on built-in function asin in module math:\n",
      "\n",
      "asin(...)\n",
      "    asin(x)\n",
      "    \n",
      "    Return the arc sine (measured in radians) of x.\n",
      "\n"
     ]
    }
   ],
   "source": [
    "help(math.asin)"
   ]
  },
  {
   "cell_type": "markdown",
   "metadata": {},
   "source": [
    "### Variable\n",
    "- Dapat diawali huruf atau `_` (underscore)"
   ]
  },
  {
   "cell_type": "code",
   "execution_count": 194,
   "metadata": {},
   "outputs": [],
   "source": [
    "_umur = 20"
   ]
  },
  {
   "cell_type": "code",
   "execution_count": 195,
   "metadata": {},
   "outputs": [
    {
     "data": {
      "text/plain": [
       "int"
      ]
     },
     "execution_count": 195,
     "metadata": {},
     "output_type": "execute_result"
    }
   ],
   "source": [
    "type(_umur)"
   ]
  },
  {
   "cell_type": "code",
   "execution_count": 196,
   "metadata": {},
   "outputs": [],
   "source": [
    "_umur = '20'"
   ]
  },
  {
   "cell_type": "code",
   "execution_count": 197,
   "metadata": {},
   "outputs": [
    {
     "data": {
      "text/plain": [
       "str"
      ]
     },
     "execution_count": 197,
     "metadata": {},
     "output_type": "execute_result"
    }
   ],
   "source": [
    "type(_umur)"
   ]
  },
  {
   "cell_type": "code",
   "execution_count": 198,
   "metadata": {},
   "outputs": [],
   "source": [
    "_umur = True"
   ]
  },
  {
   "cell_type": "code",
   "execution_count": 199,
   "metadata": {},
   "outputs": [
    {
     "data": {
      "text/plain": [
       "bool"
      ]
     },
     "execution_count": 199,
     "metadata": {},
     "output_type": "execute_result"
    }
   ],
   "source": [
    "type(_umur)"
   ]
  },
  {
   "cell_type": "code",
   "execution_count": 200,
   "metadata": {},
   "outputs": [],
   "source": [
    "_umur = [20, \"hi\", 3.14]"
   ]
  },
  {
   "cell_type": "code",
   "execution_count": 201,
   "metadata": {},
   "outputs": [
    {
     "data": {
      "text/plain": [
       "list"
      ]
     },
     "execution_count": 201,
     "metadata": {},
     "output_type": "execute_result"
    }
   ],
   "source": [
    "type(_umur)"
   ]
  },
  {
   "cell_type": "code",
   "execution_count": 202,
   "metadata": {},
   "outputs": [],
   "source": [
    "_umur = set([20, \"hi\", 3.14])"
   ]
  },
  {
   "cell_type": "code",
   "execution_count": 203,
   "metadata": {},
   "outputs": [
    {
     "data": {
      "text/plain": [
       "set"
      ]
     },
     "execution_count": 203,
     "metadata": {},
     "output_type": "execute_result"
    }
   ],
   "source": [
    "type(_umur)"
   ]
  },
  {
   "cell_type": "code",
   "execution_count": 204,
   "metadata": {},
   "outputs": [
    {
     "data": {
      "text/plain": [
       "{20, 3.14, 'hi'}"
      ]
     },
     "execution_count": 204,
     "metadata": {},
     "output_type": "execute_result"
    }
   ],
   "source": [
    "_umur"
   ]
  },
  {
   "cell_type": "markdown",
   "metadata": {},
   "source": [
    "### Casting variable atau type conversion\n",
    "```\n",
    "int() untuk mengubah menjadi integer;\n",
    "long() untuk mengubah menjadi integer panjang;\n",
    "float() untuk mengubah menjadi float;\n",
    "bool() untuk mengubah menjadi boolean;\n",
    "chr() untuk mengubah menjadi karakter;\n",
    "str() untuk mengubah menjadi string.\n",
    "bin() untuk mengubah menjadi bilangan Biner.\n",
    "hex() untuk mengubah menjadi bilangan Heksadesimal.\n",
    "oct() untuk mengubah menjadi bilangan okta.\n",
    "```"
   ]
  },
  {
   "cell_type": "code",
   "execution_count": 205,
   "metadata": {},
   "outputs": [],
   "source": [
    "_umur = 30"
   ]
  },
  {
   "cell_type": "code",
   "execution_count": 206,
   "metadata": {},
   "outputs": [
    {
     "data": {
      "text/plain": [
       "int"
      ]
     },
     "execution_count": 206,
     "metadata": {},
     "output_type": "execute_result"
    }
   ],
   "source": [
    "type(_umur)"
   ]
  },
  {
   "cell_type": "code",
   "execution_count": 207,
   "metadata": {},
   "outputs": [],
   "source": [
    "_umur = str(_umur)"
   ]
  },
  {
   "cell_type": "code",
   "execution_count": 208,
   "metadata": {},
   "outputs": [
    {
     "data": {
      "text/plain": [
       "str"
      ]
     },
     "execution_count": 208,
     "metadata": {},
     "output_type": "execute_result"
    }
   ],
   "source": [
    "type(_umur)"
   ]
  },
  {
   "cell_type": "code",
   "execution_count": 209,
   "metadata": {},
   "outputs": [
    {
     "data": {
      "text/plain": [
       "'30'"
      ]
     },
     "execution_count": 209,
     "metadata": {},
     "output_type": "execute_result"
    }
   ],
   "source": [
    "_umur"
   ]
  },
  {
   "cell_type": "code",
   "execution_count": 210,
   "metadata": {},
   "outputs": [],
   "source": [
    "_umur = float(_umur)"
   ]
  },
  {
   "cell_type": "code",
   "execution_count": 211,
   "metadata": {},
   "outputs": [
    {
     "data": {
      "text/plain": [
       "30.0"
      ]
     },
     "execution_count": 211,
     "metadata": {},
     "output_type": "execute_result"
    }
   ],
   "source": [
    "_umur"
   ]
  },
  {
   "cell_type": "code",
   "execution_count": 213,
   "metadata": {},
   "outputs": [
    {
     "name": "stdout",
     "output_type": "stream",
     "text": [
      "nilai 5\n"
     ]
    }
   ],
   "source": [
    "nilai = 2+3\n",
    "print (\"nilai \" + str(nilai))"
   ]
  },
  {
   "cell_type": "markdown",
   "metadata": {},
   "source": [
    "### Input \n",
    "- dapat menggunakan perintah `input()` yang akan mengembalikan data dengan tipe data string"
   ]
  },
  {
   "cell_type": "code",
   "execution_count": 216,
   "metadata": {},
   "outputs": [
    {
     "name": "stdout",
     "output_type": "stream",
     "text": [
      "data :1\n",
      "<class 'str'>\n"
     ]
    }
   ],
   "source": [
    "data = input(\"data :\")\n",
    "\n",
    "print(type(data))"
   ]
  },
  {
   "cell_type": "code",
   "execution_count": 218,
   "metadata": {},
   "outputs": [
    {
     "data": {
      "text/plain": [
       "'1'"
      ]
     },
     "execution_count": 218,
     "metadata": {},
     "output_type": "execute_result"
    }
   ],
   "source": [
    "data"
   ]
  },
  {
   "cell_type": "code",
   "execution_count": 219,
   "metadata": {},
   "outputs": [
    {
     "name": "stdout",
     "output_type": "stream",
     "text": [
      "A :3\n",
      "B :5\n",
      "A + B = 8\n"
     ]
    }
   ],
   "source": [
    "A = input(\"A :\")\n",
    "B = input(\"B :\")\n",
    "\n",
    "C = int(A) + int(B)\n",
    "print (\"A + B = \" + str(C) )"
   ]
  },
  {
   "cell_type": "markdown",
   "metadata": {},
   "source": [
    "### Import\n",
    "\n",
    "- `import <package>`\n",
    "- `from <package> import <module>`\n",
    "- `from <package>.<module> import <sub_module>`\n",
    "- `import <package> as <alias>`"
   ]
  },
  {
   "cell_type": "code",
   "execution_count": 220,
   "metadata": {},
   "outputs": [],
   "source": [
    "import time "
   ]
  },
  {
   "cell_type": "code",
   "execution_count": 222,
   "metadata": {},
   "outputs": [
    {
     "data": {
      "text/plain": [
       "'Sat Jun 27 10:14:28 2020'"
      ]
     },
     "execution_count": 222,
     "metadata": {},
     "output_type": "execute_result"
    }
   ],
   "source": [
    "time.ctime()"
   ]
  },
  {
   "cell_type": "code",
   "execution_count": 223,
   "metadata": {},
   "outputs": [],
   "source": [
    "from time import ctime"
   ]
  },
  {
   "cell_type": "code",
   "execution_count": 224,
   "metadata": {},
   "outputs": [
    {
     "data": {
      "text/plain": [
       "'Sat Jun 27 10:15:45 2020'"
      ]
     },
     "execution_count": 224,
     "metadata": {},
     "output_type": "execute_result"
    }
   ],
   "source": [
    "ctime()"
   ]
  },
  {
   "cell_type": "code",
   "execution_count": 225,
   "metadata": {},
   "outputs": [],
   "source": [
    "from time import ctime as tm"
   ]
  },
  {
   "cell_type": "code",
   "execution_count": 227,
   "metadata": {},
   "outputs": [
    {
     "data": {
      "text/plain": [
       "'Sat Jun 27 10:17:13 2020'"
      ]
     },
     "execution_count": 227,
     "metadata": {},
     "output_type": "execute_result"
    }
   ],
   "source": [
    "tm()"
   ]
  },
  {
   "cell_type": "markdown",
   "metadata": {},
   "source": [
    " #### Alias yang umum digunakan :\n",
    " - `import numpy as np`\n",
    " - `import pandas as pd`\n",
    " - `import tensorflow as tf`\n",
    " - `import matplotlib.pyplot as plt`"
   ]
  },
  {
   "cell_type": "code",
   "execution_count": null,
   "metadata": {},
   "outputs": [],
   "source": []
  },
  {
   "cell_type": "markdown",
   "metadata": {},
   "source": [
    "### Operator Aritmatika\n",
    "\n",
    "```\n",
    "+ untuk operator penjumlahan\n",
    "- untuk operator pengurangan\n",
    "/ untuk operator pembagian\n",
    "* untuk operator perkalian\n",
    "% untuk operator modulo (hasil sisa pembagian)\n",
    "** untuk operator pangkat\n",
    "```"
   ]
  },
  {
   "cell_type": "code",
   "execution_count": 228,
   "metadata": {},
   "outputs": [
    {
     "name": "stdout",
     "output_type": "stream",
     "text": [
      "Inputkan nilai a: 4\n",
      "Inputkan nilai b: 5\n",
      "Hasil 4 + 5 = 9\n"
     ]
    }
   ],
   "source": [
    "# Ambil input untuk mengisi nilai\n",
    "a = int(input(\"Inputkan nilai a: \"))\n",
    "b = int(input(\"Inputkan nilai b: \"))\n",
    "\n",
    "# Menggunakan operator penjumlahan\n",
    "c = a + b\n",
    "print (\"Hasil %d + %d = %d\" % (a,b,c))"
   ]
  },
  {
   "cell_type": "code",
   "execution_count": 229,
   "metadata": {},
   "outputs": [
    {
     "name": "stdout",
     "output_type": "stream",
     "text": [
      "Hasil 4 - 5 = -1\n"
     ]
    }
   ],
   "source": [
    "# Operator Pengurangan\n",
    "c = a - b\n",
    "print (\"Hasil %d - %d = %d\" % (a,b,c))"
   ]
  },
  {
   "cell_type": "code",
   "execution_count": 230,
   "metadata": {},
   "outputs": [
    {
     "name": "stdout",
     "output_type": "stream",
     "text": [
      "Hasil 4 * 5 = 20\n"
     ]
    }
   ],
   "source": [
    "# Operator Perkalian\n",
    "c = a * b\n",
    "print (\"Hasil %d * %d = %d\" % (a,b,c))"
   ]
  },
  {
   "cell_type": "code",
   "execution_count": 231,
   "metadata": {},
   "outputs": [
    {
     "name": "stdout",
     "output_type": "stream",
     "text": [
      "Hasil 4 / 5 = 0\n"
     ]
    }
   ],
   "source": [
    "# Operator Pembagian\n",
    "c = a / b\n",
    "print (\"Hasil %d / %d = %d\" % (a,b,c))"
   ]
  },
  {
   "cell_type": "code",
   "execution_count": 235,
   "metadata": {},
   "outputs": [
    {
     "name": "stdout",
     "output_type": "stream",
     "text": [
      "Hasil 4 / 5 = 0.80\n"
     ]
    }
   ],
   "source": [
    "c = a / b\n",
    "print (\"Hasil %d / %d = %.2f\" % (a,b,c))"
   ]
  },
  {
   "cell_type": "code",
   "execution_count": 236,
   "metadata": {},
   "outputs": [
    {
     "name": "stdout",
     "output_type": "stream",
     "text": [
      "Hasil 4 % 5 = 4\n"
     ]
    }
   ],
   "source": [
    "# Operator Sisa Bagi\n",
    "c = a % b\n",
    "print (\"Hasil %d %% %d = %d\" % (a,b,c))"
   ]
  },
  {
   "cell_type": "code",
   "execution_count": 239,
   "metadata": {},
   "outputs": [
    {
     "name": "stdout",
     "output_type": "stream",
     "text": [
      "Hasil 4 ** 5 = 1024\n"
     ]
    }
   ],
   "source": [
    "# Operator Pangkat\n",
    "c = a ** b\n",
    "print (\"Hasil %d ** %d = %d\" % (a,b,c))"
   ]
  },
  {
   "cell_type": "markdown",
   "metadata": {},
   "source": [
    "### Operator Penugasan\n",
    "\n",
    "```\n",
    "a = 1 operator penugasan mengisi nilai\n",
    "a +=1 operator penugasan menambahkan 1 ke variable a\n",
    "a -=1 operator penugasan mengurangkan 1 ke variable a\n",
    "a *=2 operator penugasan mengalikan 2 ke variable a\n",
    "a /= 2 operator penugasan membagikan 2 ke variable a\n",
    "```"
   ]
  },
  {
   "cell_type": "code",
   "execution_count": 240,
   "metadata": {},
   "outputs": [
    {
     "name": "stdout",
     "output_type": "stream",
     "text": [
      "nilai awal \t 8\n",
      "ditambah 1 \t 9\n",
      "dikali 2 \t 18\n",
      "dikurang 5 \t 13\n",
      "dibagi 2 \t 6.5\n"
     ]
    }
   ],
   "source": [
    "\n",
    "a = 8\n",
    "print(\"nilai awal \\t\", a)\n",
    "\n",
    "a += 1\n",
    "print(\"ditambah 1 \\t\", a)\n",
    "\n",
    "a *= 2\n",
    "print(\"dikali 2 \\t\", a)\n",
    "\n",
    "a -= 5\n",
    "print(\"dikurang 5 \\t\", a)\n",
    "\n",
    "a /= 2\n",
    "print(\"dibagi 2 \\t\", a)"
   ]
  },
  {
   "cell_type": "markdown",
   "metadata": {},
   "source": [
    "### Operator Pembanding\n",
    "```\n",
    "== operator pembanding \"sama dengan\", a == b\n",
    "!= operator pembanding \"tidak sama dengan\", a != b\n",
    "< operator pembanding \"lebih kecil dari\", a < b\n",
    "> operator pembanding \"lebih besar dari\", a > b\n",
    "<= operator pembanding \"lebih kecil dari sama dengan\", a <= b\n",
    ">= operator pembanding \"lebih besar dari sama dengan\", a >= b\n",
    "```"
   ]
  },
  {
   "cell_type": "code",
   "execution_count": 242,
   "metadata": {},
   "outputs": [
    {
     "name": "stdout",
     "output_type": "stream",
     "text": [
      "Inputkan nilai a: 2\n",
      "Inputkan nilai b: 1\n",
      "Apakah 2 == 1: False\n"
     ]
    }
   ],
   "source": [
    "a = int(input(\"Inputkan nilai a: \"))\n",
    "b = int(input(\"Inputkan nilai b: \"))\n",
    "\n",
    "# apakah a sama dengan b?\n",
    "c = a == b\n",
    "print (\"Apakah %d == %d: %r\" % (a,b,c))\n"
   ]
  },
  {
   "cell_type": "code",
   "execution_count": 243,
   "metadata": {},
   "outputs": [
    {
     "name": "stdout",
     "output_type": "stream",
     "text": [
      "Apakah 2 < 1: False\n"
     ]
    }
   ],
   "source": [
    "# apakah a < b?\n",
    "c = a < b\n",
    "print (\"Apakah %d < %d: %r\" % (a,b,c))"
   ]
  },
  {
   "cell_type": "code",
   "execution_count": 244,
   "metadata": {},
   "outputs": [
    {
     "name": "stdout",
     "output_type": "stream",
     "text": [
      "Apakah 2 > 1: True\n"
     ]
    }
   ],
   "source": [
    "# apakah a > b?\n",
    "c = a > b\n",
    "print (\"Apakah %d > %d: %r\" % (a,b,c))"
   ]
  },
  {
   "cell_type": "code",
   "execution_count": 245,
   "metadata": {},
   "outputs": [
    {
     "name": "stdout",
     "output_type": "stream",
     "text": [
      "Apakah 2 <= 1: False\n"
     ]
    }
   ],
   "source": [
    "# apakah a <= b?\n",
    "c = a <= b\n",
    "print (\"Apakah %d <= %d: %r\" % (a,b,c))\n"
   ]
  },
  {
   "cell_type": "code",
   "execution_count": 246,
   "metadata": {},
   "outputs": [
    {
     "name": "stdout",
     "output_type": "stream",
     "text": [
      "Apakah 2 >= 1: True\n"
     ]
    }
   ],
   "source": [
    "# apakah a >= b?\n",
    "c = a >= b\n",
    "print (\"Apakah %d >= %d: %r\" % (a,b,c))"
   ]
  },
  {
   "cell_type": "code",
   "execution_count": 247,
   "metadata": {},
   "outputs": [
    {
     "name": "stdout",
     "output_type": "stream",
     "text": [
      "Apakah 2 != 1: True\n"
     ]
    }
   ],
   "source": [
    "# apakah a != b?\n",
    "c = a != b\n",
    "print (\"Apakah %d != %d: %r\" % (a,b,c))"
   ]
  },
  {
   "cell_type": "markdown",
   "metadata": {},
   "source": [
    "### Operator Logika\n",
    "\n",
    "- Logika AND\n",
    "\n",
    "| AND   | True  | False |\n",
    "|-------|-------|-------|\n",
    "| True  | True  | False |\n",
    "| False | False | False |\n",
    "\n",
    "- Logika OR\n",
    "\n",
    "|  OR   | True  | False |\n",
    "|-------|-------|-------|\n",
    "| True  | True  | True  |\n",
    "| False | True  | False |\n",
    "\n",
    "- Logika Not\n",
    "\n",
    "|       | NOT   |\n",
    "|-------|-------|\n",
    "| True  | False |\n",
    "| False | True  |"
   ]
  },
  {
   "cell_type": "code",
   "execution_count": 252,
   "metadata": {},
   "outputs": [],
   "source": [
    "a = False\n",
    "b = True"
   ]
  },
  {
   "cell_type": "code",
   "execution_count": 253,
   "metadata": {},
   "outputs": [
    {
     "name": "stdout",
     "output_type": "stream",
     "text": [
      "False and True = False\n"
     ]
    }
   ],
   "source": [
    "# Logika AND\n",
    "c = a and b\n",
    "print (\"%r and %r = %r\" % (a,b,c))"
   ]
  },
  {
   "cell_type": "code",
   "execution_count": 254,
   "metadata": {},
   "outputs": [
    {
     "name": "stdout",
     "output_type": "stream",
     "text": [
      "False or True = True\n"
     ]
    }
   ],
   "source": [
    "# Logika OR\n",
    "c = a or b\n",
    "print (\"%r or %r = %r\" % (a,b,c))"
   ]
  },
  {
   "cell_type": "code",
   "execution_count": 83,
   "metadata": {},
   "outputs": [
    {
     "name": "stdout",
     "output_type": "stream",
     "text": [
      "not True  = False\n"
     ]
    }
   ],
   "source": [
    "# Logika Not\n",
    "c = not a\n",
    "print (\"not %r  = %r\" % (a,c))"
   ]
  },
  {
   "cell_type": "markdown",
   "metadata": {},
   "source": [
    "### Percabangan (If, elif, else)\n",
    "\n",
    "struktur percabangan pada python :\n",
    "\n",
    "```\n",
    "if statement_1 :\n",
    "    tugas_1\n",
    "elif statement_2 :\n",
    "    tugas_2\n",
    "else :\n",
    "    tugas_3\n",
    "\n",
    "```"
   ]
  },
  {
   "cell_type": "code",
   "execution_count": 258,
   "metadata": {},
   "outputs": [
    {
     "name": "stdout",
     "output_type": "stream",
     "text": [
      "Apakah kamu lulus? [ya/tidak]: tidak\n",
      "Kamu harus ikut ujian\n"
     ]
    }
   ],
   "source": [
    "lulus = input(\"Apakah kamu lulus? [ya/tidak]: \")\n",
    "if lulus == \"tidak\":\n",
    "    print(\"Kamu harus ikut ujian\")"
   ]
  },
  {
   "cell_type": "code",
   "execution_count": 261,
   "metadata": {},
   "outputs": [
    {
     "name": "stdout",
     "output_type": "stream",
     "text": [
      "Berapa umur kamu: 17\n",
      "Kamu belum boleh membuat SIM\n"
     ]
    }
   ],
   "source": [
    "umur = int(input(\"Berapa umur kamu: \"))\n",
    "if umur >= 18:\n",
    "    print(\"Kamu boleh membuat SIM\")\n",
    "else:\n",
    "    print(\"Kamu belum boleh membuat SIM\")"
   ]
  },
  {
   "cell_type": "markdown",
   "metadata": {},
   "source": [
    "### Perbedaan multiple if statement dan elif statement\n",
    "\n",
    "- jika multiple `if` statment maka program akan cek **semua if statement** (tidak ada yang terlewatkan) dan bisa jadi semua instruksi bisa dilakukan jika memang memnuhi kondisi semua multiple if statement. \n",
    "\n",
    "\n",
    "- Namun jika `elif` statement **tidak semua dicek** (bisa semua/bisa tidak), program akan cek semua kondisi jika program masih belum menemukan yang sesuai, namun **jika ada yang sesuai** maka program akan langsung **keluar dari statement pecabangan**."
   ]
  },
  {
   "cell_type": "code",
   "execution_count": 271,
   "metadata": {},
   "outputs": [
    {
     "name": "stdout",
     "output_type": "stream",
     "text": [
      "Inputkan nilaimu: 90\n",
      "Grade: A\n"
     ]
    }
   ],
   "source": [
    "nilai = int(input(\"Inputkan nilaimu: \"))\n",
    "\n",
    "if nilai >= 90:\n",
    "    grade = \"A\"\n",
    "elif nilai >= 80:\n",
    "    grade = \"B+\"\n",
    "elif nilai >= 70:\n",
    "    grade = \"B\"\n",
    "elif nilai >= 60:\n",
    "    grade = \"C+\"\n",
    "elif nilai >= 50:\n",
    "    grade = \"C\"\n",
    "elif nilai >= 40:\n",
    "    grade = \"D\"\n",
    "else:\n",
    "    grade = \"E\"\n",
    "\n",
    "print(\"Grade: %s\" % grade)"
   ]
  },
  {
   "cell_type": "code",
   "execution_count": 266,
   "metadata": {},
   "outputs": [
    {
     "name": "stdout",
     "output_type": "stream",
     "text": [
      "Inputkan nilaimu: 83\n",
      "Grade: D\n"
     ]
    }
   ],
   "source": [
    "nilai = int(input(\"Inputkan nilaimu: \"))\n",
    "\n",
    "if nilai >= 90:\n",
    "    grade = \"A\"\n",
    "if nilai >= 80:\n",
    "    grade = \"B+\"\n",
    "if nilai >= 70:\n",
    "    grade = \"B\"\n",
    "if nilai >= 60:\n",
    "    grade = \"C+\"\n",
    "if nilai >= 50:\n",
    "    grade = \"C\"\n",
    "if nilai >= 40:\n",
    "    grade = \"D\"\n",
    "else:\n",
    "    grade = \"E\"\n",
    "\n",
    "print(\"Grade: %s\" % grade)"
   ]
  },
  {
   "cell_type": "markdown",
   "metadata": {},
   "source": [
    "### Perulangan mengunakan for\n",
    "\n",
    "- perulangan pada pemrograman python hanya mengimplementasikan *collection-based iteration*, \n",
    "- sehingga sebuah perulangan bisa dilakukan jika kita memiliki **iterable** object di python\n",
    "\n",
    "```\n",
    "for <var> in <iterable>:\n",
    "    <statement(s)>\n",
    "\n",
    "```\n",
    "\n",
    "- Iterable pada python adalah object dalam bentuk `string`, `list`, `tuple`, `dictionary`, `set`"
   ]
  },
  {
   "cell_type": "markdown",
   "metadata": {},
   "source": [
    "- contoh bentuk perulangan dari iterator `list`"
   ]
  },
  {
   "cell_type": "code",
   "execution_count": 267,
   "metadata": {},
   "outputs": [
    {
     "name": "stdout",
     "output_type": "stream",
     "text": [
      "<class 'list'>\n",
      "item satu\n",
      "item dua\n",
      "item tiga\n"
     ]
    }
   ],
   "source": [
    "myList = ['satu', 'dua', 'tiga']\n",
    "\n",
    "print(type(myList))\n",
    "\n",
    "for var in myList :\n",
    "    print (\"item\", var)"
   ]
  },
  {
   "cell_type": "markdown",
   "metadata": {},
   "source": [
    "- contoh bentuk perulangan dari iterator `tuple`"
   ]
  },
  {
   "cell_type": "code",
   "execution_count": 268,
   "metadata": {},
   "outputs": [
    {
     "name": "stdout",
     "output_type": "stream",
     "text": [
      "<class 'tuple'>\n",
      "item satu\n",
      "item dua\n",
      "item tiga\n"
     ]
    }
   ],
   "source": [
    "myTuple = ('satu', 'dua', 'tiga')\n",
    "\n",
    "print(type(myTuple))\n",
    "\n",
    "for item in myTuple :\n",
    "    print (\"item\", item)"
   ]
  },
  {
   "cell_type": "markdown",
   "metadata": {},
   "source": [
    "- contoh bentuk perulangan dari iterator `set`"
   ]
  },
  {
   "cell_type": "code",
   "execution_count": 269,
   "metadata": {},
   "outputs": [
    {
     "name": "stdout",
     "output_type": "stream",
     "text": [
      "<class 'set'>\n",
      "item satu\n",
      "item tiga\n",
      "item dua\n"
     ]
    }
   ],
   "source": [
    "mySet = {'satu', 'dua', 'tiga'}\n",
    "\n",
    "print(type(mySet))\n",
    "\n",
    "for item in mySet :\n",
    "    print (\"item\", item)"
   ]
  },
  {
   "cell_type": "markdown",
   "metadata": {},
   "source": [
    "- contoh bentuk perulangan dari iterator `dictionary`"
   ]
  },
  {
   "cell_type": "code",
   "execution_count": 270,
   "metadata": {},
   "outputs": [
    {
     "name": "stdout",
     "output_type": "stream",
     "text": [
      "<class 'dict'>\n",
      "item satu\n",
      "item dua\n",
      "item tiga\n"
     ]
    }
   ],
   "source": [
    "myDict = {'satu': 1, 'dua': 2, 'tiga': 3}\n",
    "\n",
    "print(type(myDict))\n",
    "\n",
    "for item in myDict :\n",
    "    print (\"item\", item)"
   ]
  },
  {
   "cell_type": "code",
   "execution_count": null,
   "metadata": {},
   "outputs": [],
   "source": []
  },
  {
   "cell_type": "markdown",
   "metadata": {},
   "source": [
    "### Perulangan menggunakan while\n",
    "\n",
    "- struktur dasar,\n",
    "\n",
    "```\n",
    "while <condition>:\n",
    "    <do something..>\n",
    "```"
   ]
  },
  {
   "cell_type": "code",
   "execution_count": 273,
   "metadata": {},
   "outputs": [
    {
     "name": "stdout",
     "output_type": "stream",
     "text": [
      "loop ke- 0\n",
      "loop ke- 1\n",
      "loop ke- 2\n",
      "loop ke- 3\n",
      "loop ke- 4\n",
      "loop ke- 5\n"
     ]
    }
   ],
   "source": [
    "i = 0\n",
    "while i <= 5 :\n",
    "    print(\"loop ke-\", i)\n",
    "    i +=1"
   ]
  },
  {
   "cell_type": "markdown",
   "metadata": {},
   "source": [
    "### fungsi range() \n",
    "- fungsi `range` digunakan untuk menghasilkan *sequence* angka"
   ]
  },
  {
   "cell_type": "code",
   "execution_count": 274,
   "metadata": {},
   "outputs": [
    {
     "name": "stdout",
     "output_type": "stream",
     "text": [
      "<class 'range'>\n"
     ]
    }
   ],
   "source": [
    "A = range(1, 20)\n",
    "\n",
    "print(type(A))"
   ]
  },
  {
   "cell_type": "markdown",
   "metadata": {},
   "source": [
    "kita dapat gunakan :\n",
    "\n",
    "\n",
    "+ fungsi `list()` untuk convert object `range` menjadi list\n",
    "+ fungsi `set()` untuk convert object `range` menjadi set\n",
    "+ fungsi `tuple()` untuk convert object `range` menjadi tuple"
   ]
  },
  {
   "cell_type": "code",
   "execution_count": 275,
   "metadata": {},
   "outputs": [
    {
     "name": "stdout",
     "output_type": "stream",
     "text": [
      "[1, 2, 3, 4, 5, 6, 7, 8, 9, 10, 11, 12, 13, 14, 15, 16, 17, 18, 19] <class 'list'>\n"
     ]
    }
   ],
   "source": [
    "B = list(A)\n",
    "\n",
    "print(B, type(B))"
   ]
  },
  {
   "cell_type": "code",
   "execution_count": 276,
   "metadata": {},
   "outputs": [
    {
     "name": "stdout",
     "output_type": "stream",
     "text": [
      "{1, 2, 3, 4, 5, 6, 7, 8, 9, 10, 11, 12, 13, 14, 15, 16, 17, 18, 19} <class 'set'>\n"
     ]
    }
   ],
   "source": [
    "B = set(A)\n",
    "\n",
    "print(B, type(B))"
   ]
  },
  {
   "cell_type": "code",
   "execution_count": 277,
   "metadata": {},
   "outputs": [
    {
     "name": "stdout",
     "output_type": "stream",
     "text": [
      "(1, 2, 3, 4, 5, 6, 7, 8, 9, 10, 11, 12, 13, 14, 15, 16, 17, 18, 19) <class 'tuple'>\n"
     ]
    }
   ],
   "source": [
    "B = tuple(A)\n",
    "\n",
    "print(B, type(B))"
   ]
  },
  {
   "cell_type": "markdown",
   "metadata": {},
   "source": [
    "### mengunakan range() pada perulangan for"
   ]
  },
  {
   "cell_type": "code",
   "execution_count": 279,
   "metadata": {},
   "outputs": [
    {
     "name": "stdout",
     "output_type": "stream",
     "text": [
      "iterasi ke- 0\n",
      "iterasi ke- 1\n",
      "iterasi ke- 2\n",
      "iterasi ke- 3\n",
      "iterasi ke- 4\n",
      "iterasi ke- 5\n",
      "iterasi ke- 6\n",
      "iterasi ke- 7\n",
      "iterasi ke- 8\n",
      "iterasi ke- 9\n",
      "iterasi ke- 10\n",
      "iterasi ke- 11\n",
      "iterasi ke- 12\n",
      "iterasi ke- 13\n",
      "iterasi ke- 14\n"
     ]
    }
   ],
   "source": [
    "for i in range(15):\n",
    "    print (\"iterasi ke-\", i)"
   ]
  },
  {
   "cell_type": "code",
   "execution_count": 280,
   "metadata": {},
   "outputs": [
    {
     "name": "stdout",
     "output_type": "stream",
     "text": [
      "iterasi ke- 2\n",
      "iterasi ke- 3\n",
      "iterasi ke- 4\n",
      "iterasi ke- 5\n",
      "iterasi ke- 6\n",
      "iterasi ke- 7\n",
      "iterasi ke- 8\n",
      "iterasi ke- 9\n",
      "iterasi ke- 10\n",
      "iterasi ke- 11\n",
      "iterasi ke- 12\n",
      "iterasi ke- 13\n",
      "iterasi ke- 14\n"
     ]
    }
   ],
   "source": [
    "for i in range(2, 15):\n",
    "    print (\"iterasi ke-\", i)"
   ]
  },
  {
   "cell_type": "code",
   "execution_count": 281,
   "metadata": {},
   "outputs": [
    {
     "name": "stdout",
     "output_type": "stream",
     "text": [
      "iterasi ke- 2\n",
      "iterasi ke- 5\n",
      "iterasi ke- 8\n",
      "iterasi ke- 11\n",
      "iterasi ke- 14\n"
     ]
    }
   ],
   "source": [
    "for i in range(2, 15, 3):\n",
    "    print (\"iterasi ke-\", i)"
   ]
  },
  {
   "cell_type": "markdown",
   "metadata": {},
   "source": [
    "### Struktur Data\n",
    "\n",
    "#### List\n",
    "- heterogen"
   ]
  },
  {
   "cell_type": "code",
   "execution_count": 282,
   "metadata": {},
   "outputs": [],
   "source": [
    "myList = [ 10, 'hello', 14.5, False, [1, 3, 4], (1, 2, 4)]"
   ]
  },
  {
   "cell_type": "markdown",
   "metadata": {},
   "source": [
    "- akses seluruh elemen list"
   ]
  },
  {
   "cell_type": "code",
   "execution_count": 283,
   "metadata": {},
   "outputs": [
    {
     "data": {
      "text/plain": [
       "[10, 'hello', 14.5, False, [1, 3, 4], (1, 2, 4)]"
      ]
     },
     "execution_count": 283,
     "metadata": {},
     "output_type": "execute_result"
    }
   ],
   "source": [
    "myList"
   ]
  },
  {
   "cell_type": "markdown",
   "metadata": {},
   "source": [
    "- akses 1 elemen pada list\n",
    "- menggunakan positive index (dimulai dari index = 0 dari sisi kiri ujung)"
   ]
  },
  {
   "cell_type": "code",
   "execution_count": 285,
   "metadata": {},
   "outputs": [
    {
     "data": {
      "text/plain": [
       "[1, 3, 4]"
      ]
     },
     "execution_count": 285,
     "metadata": {},
     "output_type": "execute_result"
    }
   ],
   "source": [
    "myList[4]"
   ]
  },
  {
   "cell_type": "code",
   "execution_count": 127,
   "metadata": {},
   "outputs": [
    {
     "data": {
      "text/plain": [
       "False"
      ]
     },
     "execution_count": 127,
     "metadata": {},
     "output_type": "execute_result"
    }
   ],
   "source": [
    "myList[3]"
   ]
  },
  {
   "cell_type": "code",
   "execution_count": 286,
   "metadata": {},
   "outputs": [
    {
     "ename": "IndexError",
     "evalue": "list index out of range",
     "output_type": "error",
     "traceback": [
      "\u001b[1;31m---------------------------------------------------------------------------\u001b[0m",
      "\u001b[1;31mIndexError\u001b[0m                                Traceback (most recent call last)",
      "\u001b[1;32m<ipython-input-286-257d8fb12020>\u001b[0m in \u001b[0;36m<module>\u001b[1;34m\u001b[0m\n\u001b[1;32m----> 1\u001b[1;33m \u001b[0mmyList\u001b[0m\u001b[1;33m[\u001b[0m\u001b[1;36m6\u001b[0m\u001b[1;33m]\u001b[0m\u001b[1;33m\u001b[0m\u001b[1;33m\u001b[0m\u001b[0m\n\u001b[0m",
      "\u001b[1;31mIndexError\u001b[0m: list index out of range"
     ]
    }
   ],
   "source": [
    "myList[6]"
   ]
  },
  {
   "cell_type": "markdown",
   "metadata": {},
   "source": [
    "- menggunakan negative index (dimulai dari index = -1 dari sisi kanan ujung)"
   ]
  },
  {
   "cell_type": "code",
   "execution_count": 288,
   "metadata": {},
   "outputs": [
    {
     "data": {
      "text/plain": [
       "[10, 'hello', 14.5, False, [1, 3, 4], (1, 2, 4)]"
      ]
     },
     "execution_count": 288,
     "metadata": {},
     "output_type": "execute_result"
    }
   ],
   "source": [
    "myList"
   ]
  },
  {
   "cell_type": "code",
   "execution_count": 293,
   "metadata": {},
   "outputs": [
    {
     "data": {
      "text/plain": [
       "((1, 2, 4), [1, 3, 4], False)"
      ]
     },
     "execution_count": 293,
     "metadata": {},
     "output_type": "execute_result"
    }
   ],
   "source": [
    "myList[-1]"
   ]
  },
  {
   "cell_type": "code",
   "execution_count": 291,
   "metadata": {},
   "outputs": [
    {
     "data": {
      "text/plain": [
       "'hello'"
      ]
     },
     "execution_count": 291,
     "metadata": {},
     "output_type": "execute_result"
    }
   ],
   "source": [
    "myList[-5]"
   ]
  },
  {
   "cell_type": "code",
   "execution_count": 292,
   "metadata": {},
   "outputs": [
    {
     "ename": "IndexError",
     "evalue": "list index out of range",
     "output_type": "error",
     "traceback": [
      "\u001b[1;31m---------------------------------------------------------------------------\u001b[0m",
      "\u001b[1;31mIndexError\u001b[0m                                Traceback (most recent call last)",
      "\u001b[1;32m<ipython-input-292-3149ca1dd82e>\u001b[0m in \u001b[0;36m<module>\u001b[1;34m\u001b[0m\n\u001b[1;32m----> 1\u001b[1;33m \u001b[0mmyList\u001b[0m\u001b[1;33m[\u001b[0m\u001b[1;33m-\u001b[0m\u001b[1;36m7\u001b[0m\u001b[1;33m]\u001b[0m\u001b[1;33m\u001b[0m\u001b[1;33m\u001b[0m\u001b[0m\n\u001b[0m",
      "\u001b[1;31mIndexError\u001b[0m: list index out of range"
     ]
    }
   ],
   "source": [
    "myList[-7]"
   ]
  },
  {
   "cell_type": "markdown",
   "metadata": {},
   "source": [
    "- slicing pada list dengan menggunakan `:`"
   ]
  },
  {
   "cell_type": "code",
   "execution_count": 294,
   "metadata": {},
   "outputs": [
    {
     "data": {
      "text/plain": [
       "[10, 'hello', 14.5, False, [1, 3, 4], (1, 2, 4)]"
      ]
     },
     "execution_count": 294,
     "metadata": {},
     "output_type": "execute_result"
    }
   ],
   "source": [
    "myList"
   ]
  },
  {
   "cell_type": "code",
   "execution_count": 297,
   "metadata": {},
   "outputs": [
    {
     "data": {
      "text/plain": [
       "[14.5, False, [1, 3, 4]]"
      ]
     },
     "execution_count": 297,
     "metadata": {},
     "output_type": "execute_result"
    }
   ],
   "source": [
    "myList[2:5]"
   ]
  },
  {
   "cell_type": "code",
   "execution_count": 300,
   "metadata": {},
   "outputs": [
    {
     "data": {
      "text/plain": [
       "[10, 'hello', 14.5, False]"
      ]
     },
     "execution_count": 300,
     "metadata": {},
     "output_type": "execute_result"
    }
   ],
   "source": [
    "myList[:4]"
   ]
  },
  {
   "cell_type": "code",
   "execution_count": 301,
   "metadata": {},
   "outputs": [
    {
     "data": {
      "text/plain": [
       "[False, [1, 3, 4], (1, 2, 4)]"
      ]
     },
     "execution_count": 301,
     "metadata": {},
     "output_type": "execute_result"
    }
   ],
   "source": [
    "myList[3:]"
   ]
  },
  {
   "cell_type": "code",
   "execution_count": 302,
   "metadata": {},
   "outputs": [
    {
     "data": {
      "text/plain": [
       "[10, 'hello', 14.5, False, [1, 3, 4]]"
      ]
     },
     "execution_count": 302,
     "metadata": {},
     "output_type": "execute_result"
    }
   ],
   "source": [
    "myList[:-1]"
   ]
  },
  {
   "cell_type": "code",
   "execution_count": 304,
   "metadata": {},
   "outputs": [
    {
     "data": {
      "text/plain": [
       "['hello', 14.5]"
      ]
     },
     "execution_count": 304,
     "metadata": {},
     "output_type": "execute_result"
    }
   ],
   "source": [
    "myList[1:-3]"
   ]
  },
  {
   "cell_type": "code",
   "execution_count": 305,
   "metadata": {},
   "outputs": [
    {
     "data": {
      "text/plain": [
       "[10, 'hello', 14.5, False, [1, 3, 4], (1, 2, 4)]"
      ]
     },
     "execution_count": 305,
     "metadata": {},
     "output_type": "execute_result"
    }
   ],
   "source": [
    "myList[:]"
   ]
  },
  {
   "cell_type": "code",
   "execution_count": 309,
   "metadata": {},
   "outputs": [
    {
     "data": {
      "text/plain": [
       "[3, 4]"
      ]
     },
     "execution_count": 309,
     "metadata": {},
     "output_type": "execute_result"
    }
   ],
   "source": [
    "myList[4][1:]"
   ]
  },
  {
   "cell_type": "markdown",
   "metadata": {},
   "source": [
    "- list bersifat **mutable**, sehingga kita bisa **reassign** dan **delete** elemen list"
   ]
  },
  {
   "cell_type": "code",
   "execution_count": 146,
   "metadata": {},
   "outputs": [],
   "source": [
    "myList[0] = 21"
   ]
  },
  {
   "cell_type": "code",
   "execution_count": 147,
   "metadata": {},
   "outputs": [
    {
     "data": {
      "text/plain": [
       "[21, 'hello', 14.5, False, [1, 3, 4], (1, 2, 4)]"
      ]
     },
     "execution_count": 147,
     "metadata": {},
     "output_type": "execute_result"
    }
   ],
   "source": [
    "myList"
   ]
  },
  {
   "cell_type": "code",
   "execution_count": 316,
   "metadata": {},
   "outputs": [],
   "source": [
    "myList[0:2] = [33, 'world'] "
   ]
  },
  {
   "cell_type": "code",
   "execution_count": 317,
   "metadata": {},
   "outputs": [
    {
     "data": {
      "text/plain": [
       "[33, 'world', '123 test', False, [1, 3, 4], (1, 2, 4)]"
      ]
     },
     "execution_count": 317,
     "metadata": {},
     "output_type": "execute_result"
    }
   ],
   "source": [
    "myList"
   ]
  },
  {
   "cell_type": "code",
   "execution_count": 318,
   "metadata": {},
   "outputs": [],
   "source": [
    "myList = [10, 'hello', 14.5, False, [1, 3, 4], (1, 2, 4)]"
   ]
  },
  {
   "cell_type": "code",
   "execution_count": 319,
   "metadata": {},
   "outputs": [
    {
     "data": {
      "text/plain": [
       "[10, 'hello', 14.5, False, [1, 3, 4], (1, 2, 4)]"
      ]
     },
     "execution_count": 319,
     "metadata": {},
     "output_type": "execute_result"
    }
   ],
   "source": [
    "myList"
   ]
  },
  {
   "cell_type": "code",
   "execution_count": 320,
   "metadata": {},
   "outputs": [
    {
     "data": {
      "text/plain": [
       "['hello', 14.5, False, [1, 3, 4], (1, 2, 4)]"
      ]
     },
     "execution_count": 320,
     "metadata": {},
     "output_type": "execute_result"
    }
   ],
   "source": [
    "del myList[0]\n",
    "\n",
    "myList"
   ]
  },
  {
   "cell_type": "code",
   "execution_count": 321,
   "metadata": {},
   "outputs": [
    {
     "data": {
      "text/plain": [
       "[False, [1, 3, 4], (1, 2, 4)]"
      ]
     },
     "execution_count": 321,
     "metadata": {},
     "output_type": "execute_result"
    }
   ],
   "source": [
    "del myList[0:2]\n",
    "\n",
    "myList"
   ]
  },
  {
   "cell_type": "markdown",
   "metadata": {},
   "source": [
    "- builtin function pada list `append()`, `insert()`, `len()`, dll"
   ]
  },
  {
   "cell_type": "code",
   "execution_count": 328,
   "metadata": {},
   "outputs": [],
   "source": [
    "myList.append(2)"
   ]
  },
  {
   "cell_type": "code",
   "execution_count": 331,
   "metadata": {},
   "outputs": [
    {
     "data": {
      "text/plain": [
       "[False, [1, 3, 4], (1, 2, 4), 2, 3, 2]"
      ]
     },
     "execution_count": 331,
     "metadata": {},
     "output_type": "execute_result"
    }
   ],
   "source": [
    "myList"
   ]
  },
  {
   "cell_type": "code",
   "execution_count": 330,
   "metadata": {},
   "outputs": [
    {
     "data": {
      "text/plain": [
       "2"
      ]
     },
     "execution_count": 330,
     "metadata": {},
     "output_type": "execute_result"
    }
   ],
   "source": [
    "myList.count(2)"
   ]
  },
  {
   "cell_type": "code",
   "execution_count": 332,
   "metadata": {},
   "outputs": [
    {
     "data": {
      "text/plain": [
       "[False, 3.14, [1, 3, 4], (1, 2, 4), 2, 3, 2]"
      ]
     },
     "execution_count": 332,
     "metadata": {},
     "output_type": "execute_result"
    }
   ],
   "source": [
    "myList.insert(1, 3.14)\n",
    "\n",
    "myList"
   ]
  },
  {
   "cell_type": "code",
   "execution_count": 335,
   "metadata": {},
   "outputs": [
    {
     "data": {
      "text/plain": [
       "4"
      ]
     },
     "execution_count": 335,
     "metadata": {},
     "output_type": "execute_result"
    }
   ],
   "source": [
    "myList.index(2)"
   ]
  },
  {
   "cell_type": "code",
   "execution_count": 336,
   "metadata": {},
   "outputs": [
    {
     "data": {
      "text/plain": [
       "7"
      ]
     },
     "execution_count": 336,
     "metadata": {},
     "output_type": "execute_result"
    }
   ],
   "source": [
    "len(myList)"
   ]
  },
  {
   "cell_type": "markdown",
   "metadata": {},
   "source": [
    "#### Tuple\n",
    "- heterogen tapi **immutable** item (item tidak dapat di **reassign** atau di **delete**) "
   ]
  },
  {
   "cell_type": "code",
   "execution_count": 337,
   "metadata": {},
   "outputs": [],
   "source": [
    "myTuple = (10, 'hello', 14.5, False, [1, 3, 4], (1, 2, 4))"
   ]
  },
  {
   "cell_type": "code",
   "execution_count": 338,
   "metadata": {},
   "outputs": [
    {
     "ename": "TypeError",
     "evalue": "'tuple' object does not support item assignment",
     "output_type": "error",
     "traceback": [
      "\u001b[1;31m---------------------------------------------------------------------------\u001b[0m",
      "\u001b[1;31mTypeError\u001b[0m                                 Traceback (most recent call last)",
      "\u001b[1;32m<ipython-input-338-96da555d00c0>\u001b[0m in \u001b[0;36m<module>\u001b[1;34m\u001b[0m\n\u001b[1;32m----> 1\u001b[1;33m \u001b[0mmyTuple\u001b[0m\u001b[1;33m[\u001b[0m\u001b[1;36m0\u001b[0m\u001b[1;33m]\u001b[0m \u001b[1;33m=\u001b[0m \u001b[1;36m23\u001b[0m\u001b[1;33m\u001b[0m\u001b[1;33m\u001b[0m\u001b[0m\n\u001b[0m",
      "\u001b[1;31mTypeError\u001b[0m: 'tuple' object does not support item assignment"
     ]
    }
   ],
   "source": [
    "myTuple[0] = 23"
   ]
  },
  {
   "cell_type": "code",
   "execution_count": 340,
   "metadata": {},
   "outputs": [
    {
     "ename": "TypeError",
     "evalue": "'tuple' object doesn't support item deletion",
     "output_type": "error",
     "traceback": [
      "\u001b[1;31m---------------------------------------------------------------------------\u001b[0m",
      "\u001b[1;31mTypeError\u001b[0m                                 Traceback (most recent call last)",
      "\u001b[1;32m<ipython-input-340-07c4d2e0de2a>\u001b[0m in \u001b[0;36m<module>\u001b[1;34m\u001b[0m\n\u001b[1;32m----> 1\u001b[1;33m \u001b[1;32mdel\u001b[0m \u001b[0mmyTuple\u001b[0m\u001b[1;33m[\u001b[0m\u001b[1;36m3\u001b[0m\u001b[1;33m]\u001b[0m\u001b[1;33m\u001b[0m\u001b[1;33m\u001b[0m\u001b[0m\n\u001b[0m",
      "\u001b[1;31mTypeError\u001b[0m: 'tuple' object doesn't support item deletion"
     ]
    }
   ],
   "source": [
    "del myTuple[3]"
   ]
  },
  {
   "cell_type": "markdown",
   "metadata": {},
   "source": [
    "- tuple packing"
   ]
  },
  {
   "cell_type": "code",
   "execution_count": 159,
   "metadata": {},
   "outputs": [],
   "source": [
    "myTuple = 1, 2, 3"
   ]
  },
  {
   "cell_type": "code",
   "execution_count": 160,
   "metadata": {},
   "outputs": [
    {
     "data": {
      "text/plain": [
       "(1, 2, 3)"
      ]
     },
     "execution_count": 160,
     "metadata": {},
     "output_type": "execute_result"
    }
   ],
   "source": [
    "myTuple"
   ]
  },
  {
   "cell_type": "markdown",
   "metadata": {},
   "source": [
    "- tuple unpacking"
   ]
  },
  {
   "cell_type": "code",
   "execution_count": 161,
   "metadata": {},
   "outputs": [],
   "source": [
    "x, y, z = myTuple"
   ]
  },
  {
   "cell_type": "code",
   "execution_count": 162,
   "metadata": {},
   "outputs": [
    {
     "data": {
      "text/plain": [
       "1"
      ]
     },
     "execution_count": 162,
     "metadata": {},
     "output_type": "execute_result"
    }
   ],
   "source": [
    "x"
   ]
  },
  {
   "cell_type": "code",
   "execution_count": 163,
   "metadata": {},
   "outputs": [
    {
     "data": {
      "text/plain": [
       "2"
      ]
     },
     "execution_count": 163,
     "metadata": {},
     "output_type": "execute_result"
    }
   ],
   "source": [
    "y"
   ]
  },
  {
   "cell_type": "code",
   "execution_count": 164,
   "metadata": {},
   "outputs": [
    {
     "data": {
      "text/plain": [
       "3"
      ]
     },
     "execution_count": 164,
     "metadata": {},
     "output_type": "execute_result"
    }
   ],
   "source": [
    "z"
   ]
  },
  {
   "cell_type": "markdown",
   "metadata": {},
   "source": [
    "- builtin function pada tuple"
   ]
  },
  {
   "cell_type": "code",
   "execution_count": 181,
   "metadata": {},
   "outputs": [
    {
     "data": {
      "text/plain": [
       "1"
      ]
     },
     "execution_count": 181,
     "metadata": {},
     "output_type": "execute_result"
    }
   ],
   "source": [
    "myTuple.count(1)"
   ]
  },
  {
   "cell_type": "code",
   "execution_count": 182,
   "metadata": {},
   "outputs": [
    {
     "data": {
      "text/plain": [
       "0"
      ]
     },
     "execution_count": 182,
     "metadata": {},
     "output_type": "execute_result"
    }
   ],
   "source": [
    "myTuple.index(1)"
   ]
  },
  {
   "cell_type": "code",
   "execution_count": 183,
   "metadata": {},
   "outputs": [
    {
     "data": {
      "text/plain": [
       "3"
      ]
     },
     "execution_count": 183,
     "metadata": {},
     "output_type": "execute_result"
    }
   ],
   "source": [
    "len(myTuple)"
   ]
  },
  {
   "cell_type": "markdown",
   "metadata": {},
   "source": [
    "#### Set\n",
    "- tidak menyimpan data duplikat"
   ]
  },
  {
   "cell_type": "code",
   "execution_count": 345,
   "metadata": {},
   "outputs": [],
   "source": [
    "mySet = {1, 3, 2, 2, 3, 1, 1, 5}"
   ]
  },
  {
   "cell_type": "code",
   "execution_count": 344,
   "metadata": {},
   "outputs": [
    {
     "data": {
      "text/plain": [
       "{1, 2, 3}"
      ]
     },
     "execution_count": 344,
     "metadata": {},
     "output_type": "execute_result"
    }
   ],
   "source": [
    "mySet"
   ]
  },
  {
   "cell_type": "code",
   "execution_count": 346,
   "metadata": {},
   "outputs": [
    {
     "ename": "TypeError",
     "evalue": "'set' object does not support indexing",
     "output_type": "error",
     "traceback": [
      "\u001b[1;31m---------------------------------------------------------------------------\u001b[0m",
      "\u001b[1;31mTypeError\u001b[0m                                 Traceback (most recent call last)",
      "\u001b[1;32m<ipython-input-346-da59c1434a77>\u001b[0m in \u001b[0;36m<module>\u001b[1;34m\u001b[0m\n\u001b[1;32m----> 1\u001b[1;33m \u001b[0mmySet\u001b[0m\u001b[1;33m[\u001b[0m\u001b[1;36m0\u001b[0m\u001b[1;33m]\u001b[0m\u001b[1;33m\u001b[0m\u001b[1;33m\u001b[0m\u001b[0m\n\u001b[0m",
      "\u001b[1;31mTypeError\u001b[0m: 'set' object does not support indexing"
     ]
    }
   ],
   "source": [
    "mySet[0]"
   ]
  },
  {
   "cell_type": "code",
   "execution_count": 347,
   "metadata": {},
   "outputs": [
    {
     "ename": "TypeError",
     "evalue": "'set' object doesn't support item deletion",
     "output_type": "error",
     "traceback": [
      "\u001b[1;31m---------------------------------------------------------------------------\u001b[0m",
      "\u001b[1;31mTypeError\u001b[0m                                 Traceback (most recent call last)",
      "\u001b[1;32m<ipython-input-347-d5b4b82068e6>\u001b[0m in \u001b[0;36m<module>\u001b[1;34m\u001b[0m\n\u001b[1;32m----> 1\u001b[1;33m \u001b[1;32mdel\u001b[0m \u001b[0mmySet\u001b[0m\u001b[1;33m[\u001b[0m\u001b[1;36m0\u001b[0m\u001b[1;33m]\u001b[0m\u001b[1;33m\u001b[0m\u001b[1;33m\u001b[0m\u001b[0m\n\u001b[0m",
      "\u001b[1;31mTypeError\u001b[0m: 'set' object doesn't support item deletion"
     ]
    }
   ],
   "source": [
    "del mySet[0]"
   ]
  },
  {
   "cell_type": "code",
   "execution_count": 348,
   "metadata": {},
   "outputs": [
    {
     "ename": "TypeError",
     "evalue": "'set' object does not support item assignment",
     "output_type": "error",
     "traceback": [
      "\u001b[1;31m---------------------------------------------------------------------------\u001b[0m",
      "\u001b[1;31mTypeError\u001b[0m                                 Traceback (most recent call last)",
      "\u001b[1;32m<ipython-input-348-f81921cd4c37>\u001b[0m in \u001b[0;36m<module>\u001b[1;34m\u001b[0m\n\u001b[1;32m----> 1\u001b[1;33m \u001b[0mmySet\u001b[0m\u001b[1;33m[\u001b[0m\u001b[1;36m0\u001b[0m\u001b[1;33m]\u001b[0m \u001b[1;33m=\u001b[0m \u001b[1;36m5\u001b[0m\u001b[1;33m\u001b[0m\u001b[1;33m\u001b[0m\u001b[0m\n\u001b[0m",
      "\u001b[1;31mTypeError\u001b[0m: 'set' object does not support item assignment"
     ]
    }
   ],
   "source": [
    "mySet[0] = 5"
   ]
  },
  {
   "cell_type": "code",
   "execution_count": 349,
   "metadata": {},
   "outputs": [],
   "source": [
    "mySet = {1, 3, 2, 3, 5, 5}"
   ]
  },
  {
   "cell_type": "code",
   "execution_count": 350,
   "metadata": {},
   "outputs": [
    {
     "data": {
      "text/plain": [
       "{1, 2, 3, 5}"
      ]
     },
     "execution_count": 350,
     "metadata": {},
     "output_type": "execute_result"
    }
   ],
   "source": [
    "mySet"
   ]
  },
  {
   "cell_type": "markdown",
   "metadata": {},
   "source": [
    "- set support built in function `discard()`, `pop()`, `clear()`, `remove()`, `add()`, `len()`, dan `max()`"
   ]
  },
  {
   "cell_type": "code",
   "execution_count": 351,
   "metadata": {},
   "outputs": [
    {
     "data": {
      "text/plain": [
       "{1, 2, 3, 5, 7}"
      ]
     },
     "execution_count": 351,
     "metadata": {},
     "output_type": "execute_result"
    }
   ],
   "source": [
    "mySet.add(7)\n",
    "\n",
    "mySet"
   ]
  },
  {
   "cell_type": "code",
   "execution_count": 352,
   "metadata": {},
   "outputs": [
    {
     "data": {
      "text/plain": [
       "1"
      ]
     },
     "execution_count": 352,
     "metadata": {},
     "output_type": "execute_result"
    }
   ],
   "source": [
    "mySet.pop()"
   ]
  },
  {
   "cell_type": "code",
   "execution_count": 353,
   "metadata": {},
   "outputs": [
    {
     "data": {
      "text/plain": [
       "{2, 3, 5, 7}"
      ]
     },
     "execution_count": 353,
     "metadata": {},
     "output_type": "execute_result"
    }
   ],
   "source": [
    "mySet"
   ]
  },
  {
   "cell_type": "code",
   "execution_count": 354,
   "metadata": {},
   "outputs": [],
   "source": [
    "mySet.remove(5)"
   ]
  },
  {
   "cell_type": "code",
   "execution_count": 355,
   "metadata": {},
   "outputs": [
    {
     "data": {
      "text/plain": [
       "{2, 3, 7}"
      ]
     },
     "execution_count": 355,
     "metadata": {},
     "output_type": "execute_result"
    }
   ],
   "source": [
    "mySet"
   ]
  },
  {
   "cell_type": "code",
   "execution_count": 356,
   "metadata": {},
   "outputs": [
    {
     "data": {
      "text/plain": [
       "3"
      ]
     },
     "execution_count": 356,
     "metadata": {},
     "output_type": "execute_result"
    }
   ],
   "source": [
    "len(mySet)"
   ]
  },
  {
   "cell_type": "markdown",
   "metadata": {},
   "source": [
    "### Dictionary\n",
    "\n",
    "- berpasangan dalam bentuk key-value "
   ]
  },
  {
   "cell_type": "code",
   "execution_count": 357,
   "metadata": {},
   "outputs": [],
   "source": [
    "myDictionary = {\n",
    "    \"key 1\"    : 10,\n",
    "    \"key 2\"    : 13.5,\n",
    "    \"data\"     : \"Hello World\",\n",
    "    \"list_key\" : [1, \"hello\", 3.4, True],\n",
    "    \"dict lv2\" : {\n",
    "        \"key 1\" : 23.5,\n",
    "        \"data\"  : False\n",
    "    },\n",
    "    10         : \"hi\",\n",
    "    14.77      : False\n",
    "}"
   ]
  },
  {
   "cell_type": "code",
   "execution_count": 358,
   "metadata": {},
   "outputs": [
    {
     "data": {
      "text/plain": [
       "{'key 1': 10,\n",
       " 'key 2': 13.5,\n",
       " 'data': 'Hello World',\n",
       " 'list_key': [1, 'hello', 3.4, True],\n",
       " 'dict lv2': {'key 1': 23.5, 'data': False},\n",
       " 10: 'hi',\n",
       " 14.77: False}"
      ]
     },
     "execution_count": 358,
     "metadata": {},
     "output_type": "execute_result"
    }
   ],
   "source": [
    "myDictionary"
   ]
  },
  {
   "cell_type": "code",
   "execution_count": 360,
   "metadata": {},
   "outputs": [
    {
     "data": {
      "text/plain": [
       "13.5"
      ]
     },
     "execution_count": 360,
     "metadata": {},
     "output_type": "execute_result"
    }
   ],
   "source": [
    "myDictionary['key 2']"
   ]
  },
  {
   "cell_type": "code",
   "execution_count": 361,
   "metadata": {},
   "outputs": [
    {
     "data": {
      "text/plain": [
       "[1, 'hello', 3.4, True]"
      ]
     },
     "execution_count": 361,
     "metadata": {},
     "output_type": "execute_result"
    }
   ],
   "source": [
    "myDictionary['list_key']"
   ]
  },
  {
   "cell_type": "code",
   "execution_count": 362,
   "metadata": {},
   "outputs": [
    {
     "data": {
      "text/plain": [
       "False"
      ]
     },
     "execution_count": 362,
     "metadata": {},
     "output_type": "execute_result"
    }
   ],
   "source": [
    "myDictionary[14.77]"
   ]
  },
  {
   "cell_type": "code",
   "execution_count": 363,
   "metadata": {},
   "outputs": [],
   "source": [
    "myDictionary['data'] = \"Hello World Update!\""
   ]
  },
  {
   "cell_type": "code",
   "execution_count": 364,
   "metadata": {},
   "outputs": [
    {
     "data": {
      "text/plain": [
       "{'key 1': 10,\n",
       " 'key 2': 13.5,\n",
       " 'data': 'Hello World Update!',\n",
       " 'list_key': [1, 'hello', 3.4, True],\n",
       " 'dict lv2': {'key 1': 23.5, 'data': False},\n",
       " 10: 'hi',\n",
       " 14.77: False}"
      ]
     },
     "execution_count": 364,
     "metadata": {},
     "output_type": "execute_result"
    }
   ],
   "source": [
    "myDictionary"
   ]
  },
  {
   "cell_type": "code",
   "execution_count": 365,
   "metadata": {},
   "outputs": [],
   "source": [
    "del myDictionary['key 2']"
   ]
  },
  {
   "cell_type": "code",
   "execution_count": 366,
   "metadata": {},
   "outputs": [
    {
     "data": {
      "text/plain": [
       "{'key 1': 10,\n",
       " 'data': 'Hello World Update!',\n",
       " 'list_key': [1, 'hello', 3.4, True],\n",
       " 'dict lv2': {'key 1': 23.5, 'data': False},\n",
       " 10: 'hi',\n",
       " 14.77: False}"
      ]
     },
     "execution_count": 366,
     "metadata": {},
     "output_type": "execute_result"
    }
   ],
   "source": [
    "myDictionary"
   ]
  },
  {
   "cell_type": "markdown",
   "metadata": {},
   "source": [
    "- built in function pada dictionary"
   ]
  },
  {
   "cell_type": "code",
   "execution_count": 201,
   "metadata": {},
   "outputs": [
    {
     "data": {
      "text/plain": [
       "6"
      ]
     },
     "execution_count": 201,
     "metadata": {},
     "output_type": "execute_result"
    }
   ],
   "source": [
    "len(myDictionary)"
   ]
  },
  {
   "cell_type": "code",
   "execution_count": 204,
   "metadata": {},
   "outputs": [
    {
     "data": {
      "text/plain": [
       "10"
      ]
     },
     "execution_count": 204,
     "metadata": {},
     "output_type": "execute_result"
    }
   ],
   "source": [
    "myDictionary.get('key 1')"
   ]
  },
  {
   "cell_type": "code",
   "execution_count": 205,
   "metadata": {},
   "outputs": [
    {
     "data": {
      "text/plain": [
       "'Hello World Update!'"
      ]
     },
     "execution_count": 205,
     "metadata": {},
     "output_type": "execute_result"
    }
   ],
   "source": [
    "myDictionary.get('data')"
   ]
  },
  {
   "cell_type": "code",
   "execution_count": 367,
   "metadata": {},
   "outputs": [
    {
     "data": {
      "text/plain": [
       "dict_keys(['key 1', 'data', 'list_key', 'dict lv2', 10, 14.77])"
      ]
     },
     "execution_count": 367,
     "metadata": {},
     "output_type": "execute_result"
    }
   ],
   "source": [
    "myDictionary.keys()"
   ]
  },
  {
   "cell_type": "code",
   "execution_count": 368,
   "metadata": {},
   "outputs": [
    {
     "data": {
      "text/plain": [
       "dict_values([10, 'Hello World Update!', [1, 'hello', 3.4, True], {'key 1': 23.5, 'data': False}, 'hi', False])"
      ]
     },
     "execution_count": 368,
     "metadata": {},
     "output_type": "execute_result"
    }
   ],
   "source": [
    "myDictionary.values()"
   ]
  },
  {
   "cell_type": "markdown",
   "metadata": {},
   "source": [
    "---\n",
    "___\n",
    "***"
   ]
  },
  {
   "cell_type": "markdown",
   "metadata": {},
   "source": [
    "# Basic Numpy \n",
    "\n",
    "- **Size** - Numpy data structures take up less space\n",
    "- **Performance** - they have a need for speed and are faster than lists\n",
    "- **Functionality** - SciPy and NumPy have optimized functions such as linear algebra operations built in."
   ]
  },
  {
   "cell_type": "code",
   "execution_count": 370,
   "metadata": {},
   "outputs": [],
   "source": [
    "import numpy as np"
   ]
  },
  {
   "cell_type": "markdown",
   "metadata": {},
   "source": [
    "### Create 1D Vector"
   ]
  },
  {
   "cell_type": "code",
   "execution_count": 376,
   "metadata": {},
   "outputs": [
    {
     "name": "stdout",
     "output_type": "stream",
     "text": [
      "[1 2 3 4 5 6]\n",
      "(6,)\n"
     ]
    }
   ],
   "source": [
    "# vector row\n",
    "\n",
    "vector_row = np.array([1,2,3,4,5,6])\n",
    "\n",
    "print(vector_row)\n",
    "print(vector_row.shape)"
   ]
  },
  {
   "cell_type": "code",
   "execution_count": 375,
   "metadata": {},
   "outputs": [
    {
     "name": "stdout",
     "output_type": "stream",
     "text": [
      "[[1]\n",
      " [2]\n",
      " [3]\n",
      " [4]\n",
      " [5]]\n",
      "(5, 1)\n"
     ]
    }
   ],
   "source": [
    "# vector column\n",
    "\n",
    "vector_column = np.array([[1],[2],[3], [4], [5]])\n",
    "\n",
    "print(vector_column)\n",
    "print(vector_column.shape)"
   ]
  },
  {
   "cell_type": "markdown",
   "metadata": {},
   "source": [
    "### Create 2D Vector"
   ]
  },
  {
   "cell_type": "code",
   "execution_count": 378,
   "metadata": {},
   "outputs": [
    {
     "name": "stdout",
     "output_type": "stream",
     "text": [
      "[[1 2 3 1]\n",
      " [4 5 6 1]\n",
      " [7 8 9 1]]\n"
     ]
    }
   ],
   "source": [
    "matrix = np.array([[1,2,3, 1],\n",
    "                   [4,5,6, 1],\n",
    "                   [7,8,9, 1]])\n",
    "\n",
    "print(matrix)"
   ]
  },
  {
   "cell_type": "markdown",
   "metadata": {},
   "source": [
    "### Akses elemen Vector"
   ]
  },
  {
   "cell_type": "code",
   "execution_count": 382,
   "metadata": {},
   "outputs": [
    {
     "data": {
      "text/plain": [
       "array([1, 2, 3, 1])"
      ]
     },
     "execution_count": 382,
     "metadata": {},
     "output_type": "execute_result"
    }
   ],
   "source": [
    "matrix[0]"
   ]
  },
  {
   "cell_type": "code",
   "execution_count": 384,
   "metadata": {},
   "outputs": [
    {
     "data": {
      "text/plain": [
       "array([[4, 5, 6, 1],\n",
       "       [7, 8, 9, 1]])"
      ]
     },
     "execution_count": 384,
     "metadata": {},
     "output_type": "execute_result"
    }
   ],
   "source": [
    "matrix[1:3]"
   ]
  },
  {
   "cell_type": "code",
   "execution_count": 387,
   "metadata": {},
   "outputs": [
    {
     "data": {
      "text/plain": [
       "array([[1, 2],\n",
       "       [4, 5],\n",
       "       [7, 8]])"
      ]
     },
     "execution_count": 387,
     "metadata": {},
     "output_type": "execute_result"
    }
   ],
   "source": [
    "matrix[:, :2]"
   ]
  },
  {
   "cell_type": "code",
   "execution_count": 225,
   "metadata": {},
   "outputs": [
    {
     "data": {
      "text/plain": [
       "array([[2],\n",
       "       [5]])"
      ]
     },
     "execution_count": 225,
     "metadata": {},
     "output_type": "execute_result"
    }
   ],
   "source": [
    "matrix[:, 1:2]"
   ]
  },
  {
   "cell_type": "code",
   "execution_count": 226,
   "metadata": {},
   "outputs": [
    {
     "data": {
      "text/plain": [
       "array([[3],\n",
       "       [6]])"
      ]
     },
     "execution_count": 226,
     "metadata": {},
     "output_type": "execute_result"
    }
   ],
   "source": [
    "matrix[:, 2:3]"
   ]
  },
  {
   "cell_type": "markdown",
   "metadata": {},
   "source": [
    "### Vector Data Type"
   ]
  },
  {
   "cell_type": "code",
   "execution_count": 388,
   "metadata": {},
   "outputs": [
    {
     "data": {
      "text/plain": [
       "dtype('int32')"
      ]
     },
     "execution_count": 388,
     "metadata": {},
     "output_type": "execute_result"
    }
   ],
   "source": [
    "matrix.dtype"
   ]
  },
  {
   "cell_type": "code",
   "execution_count": 389,
   "metadata": {},
   "outputs": [],
   "source": [
    "matrix = matrix.astype(np.uint16)"
   ]
  },
  {
   "cell_type": "code",
   "execution_count": 390,
   "metadata": {},
   "outputs": [
    {
     "data": {
      "text/plain": [
       "dtype('uint16')"
      ]
     },
     "execution_count": 390,
     "metadata": {},
     "output_type": "execute_result"
    }
   ],
   "source": [
    "matrix.dtype"
   ]
  },
  {
   "cell_type": "code",
   "execution_count": 391,
   "metadata": {},
   "outputs": [
    {
     "data": {
      "text/plain": [
       "24"
      ]
     },
     "execution_count": 391,
     "metadata": {},
     "output_type": "execute_result"
    }
   ],
   "source": [
    "matrix.nbytes"
   ]
  },
  {
   "cell_type": "code",
   "execution_count": 392,
   "metadata": {},
   "outputs": [],
   "source": [
    "matrix = matrix.astype(np.int32)"
   ]
  },
  {
   "cell_type": "code",
   "execution_count": 393,
   "metadata": {},
   "outputs": [
    {
     "data": {
      "text/plain": [
       "dtype('int32')"
      ]
     },
     "execution_count": 393,
     "metadata": {},
     "output_type": "execute_result"
    }
   ],
   "source": [
    "matrix.dtype"
   ]
  },
  {
   "cell_type": "code",
   "execution_count": 394,
   "metadata": {},
   "outputs": [
    {
     "data": {
      "text/plain": [
       "48"
      ]
     },
     "execution_count": 394,
     "metadata": {},
     "output_type": "execute_result"
    }
   ],
   "source": [
    "matrix.nbytes"
   ]
  },
  {
   "cell_type": "code",
   "execution_count": 395,
   "metadata": {},
   "outputs": [
    {
     "data": {
      "text/plain": [
       "array([[1, 2, 3, 1],\n",
       "       [4, 5, 6, 1],\n",
       "       [7, 8, 9, 1]])"
      ]
     },
     "execution_count": 395,
     "metadata": {},
     "output_type": "execute_result"
    }
   ],
   "source": [
    "matrix"
   ]
  },
  {
   "cell_type": "markdown",
   "metadata": {},
   "source": [
    "### Describe Vector"
   ]
  },
  {
   "cell_type": "code",
   "execution_count": 399,
   "metadata": {},
   "outputs": [
    {
     "data": {
      "text/plain": [
       "(3, 4)"
      ]
     },
     "execution_count": 399,
     "metadata": {},
     "output_type": "execute_result"
    }
   ],
   "source": [
    "matrix.shape # baris, kolom"
   ]
  },
  {
   "cell_type": "code",
   "execution_count": 398,
   "metadata": {},
   "outputs": [
    {
     "data": {
      "text/plain": [
       "3"
      ]
     },
     "execution_count": 398,
     "metadata": {},
     "output_type": "execute_result"
    }
   ],
   "source": [
    "matrix.shape[0]"
   ]
  },
  {
   "cell_type": "code",
   "execution_count": 400,
   "metadata": {},
   "outputs": [
    {
     "data": {
      "text/plain": [
       "12"
      ]
     },
     "execution_count": 400,
     "metadata": {},
     "output_type": "execute_result"
    }
   ],
   "source": [
    "matrix.size"
   ]
  },
  {
   "cell_type": "code",
   "execution_count": 401,
   "metadata": {},
   "outputs": [
    {
     "data": {
      "text/plain": [
       "2"
      ]
     },
     "execution_count": 401,
     "metadata": {},
     "output_type": "execute_result"
    }
   ],
   "source": [
    "matrix.ndim"
   ]
  },
  {
   "cell_type": "code",
   "execution_count": 402,
   "metadata": {},
   "outputs": [
    {
     "data": {
      "text/plain": [
       "1"
      ]
     },
     "execution_count": 402,
     "metadata": {},
     "output_type": "execute_result"
    }
   ],
   "source": [
    "vec = np.array([1, 2, 3])\n",
    "\n",
    "vec.ndim"
   ]
  },
  {
   "cell_type": "markdown",
   "metadata": {},
   "source": [
    "### Builtin Function"
   ]
  },
  {
   "cell_type": "code",
   "execution_count": 403,
   "metadata": {},
   "outputs": [
    {
     "data": {
      "text/plain": [
       "array([[1, 2, 3, 1],\n",
       "       [4, 5, 6, 1],\n",
       "       [7, 8, 9, 1]])"
      ]
     },
     "execution_count": 403,
     "metadata": {},
     "output_type": "execute_result"
    }
   ],
   "source": [
    "matrix"
   ]
  },
  {
   "cell_type": "code",
   "execution_count": 404,
   "metadata": {},
   "outputs": [
    {
     "data": {
      "text/plain": [
       "9"
      ]
     },
     "execution_count": 404,
     "metadata": {},
     "output_type": "execute_result"
    }
   ],
   "source": [
    "np.max(matrix)"
   ]
  },
  {
   "cell_type": "code",
   "execution_count": 405,
   "metadata": {},
   "outputs": [
    {
     "data": {
      "text/plain": [
       "1"
      ]
     },
     "execution_count": 405,
     "metadata": {},
     "output_type": "execute_result"
    }
   ],
   "source": [
    "np.min(matrix)"
   ]
  },
  {
   "cell_type": "code",
   "execution_count": 406,
   "metadata": {},
   "outputs": [
    {
     "data": {
      "text/plain": [
       "4.0"
      ]
     },
     "execution_count": 406,
     "metadata": {},
     "output_type": "execute_result"
    }
   ],
   "source": [
    "np.mean(matrix)"
   ]
  },
  {
   "cell_type": "code",
   "execution_count": 263,
   "metadata": {},
   "outputs": [
    {
     "data": {
      "text/plain": [
       "3.5"
      ]
     },
     "execution_count": 263,
     "metadata": {},
     "output_type": "execute_result"
    }
   ],
   "source": [
    "np.median(matrix)"
   ]
  },
  {
   "cell_type": "code",
   "execution_count": 264,
   "metadata": {},
   "outputs": [
    {
     "data": {
      "text/plain": [
       "1.707825127659933"
      ]
     },
     "execution_count": 264,
     "metadata": {},
     "output_type": "execute_result"
    }
   ],
   "source": [
    "np.std(matrix)"
   ]
  },
  {
   "cell_type": "code",
   "execution_count": 265,
   "metadata": {},
   "outputs": [
    {
     "data": {
      "text/plain": [
       "2.9166666666666665"
      ]
     },
     "execution_count": 265,
     "metadata": {},
     "output_type": "execute_result"
    }
   ],
   "source": [
    "np.var(matrix)"
   ]
  },
  {
   "cell_type": "code",
   "execution_count": 269,
   "metadata": {},
   "outputs": [
    {
     "data": {
      "text/plain": [
       "2.9166666666666665"
      ]
     },
     "execution_count": 269,
     "metadata": {},
     "output_type": "execute_result"
    }
   ],
   "source": [
    "np.power(1.707825127659933, 2)"
   ]
  },
  {
   "cell_type": "code",
   "execution_count": 267,
   "metadata": {},
   "outputs": [
    {
     "data": {
      "text/plain": [
       "1.707825127659933"
      ]
     },
     "execution_count": 267,
     "metadata": {},
     "output_type": "execute_result"
    }
   ],
   "source": [
    "np.sqrt(2.9166666666666665)"
   ]
  },
  {
   "cell_type": "code",
   "execution_count": 407,
   "metadata": {},
   "outputs": [
    {
     "data": {
      "text/plain": [
       "array([3, 6, 9])"
      ]
     },
     "execution_count": 407,
     "metadata": {},
     "output_type": "execute_result"
    }
   ],
   "source": [
    "np.amax(matrix, axis=1) # 1 : kolom, 0 : baris"
   ]
  },
  {
   "cell_type": "code",
   "execution_count": 408,
   "metadata": {},
   "outputs": [
    {
     "data": {
      "text/plain": [
       "array([2, 2, 2], dtype=int64)"
      ]
     },
     "execution_count": 408,
     "metadata": {},
     "output_type": "execute_result"
    }
   ],
   "source": [
    "np.argmax(matrix, axis=1)"
   ]
  },
  {
   "cell_type": "markdown",
   "metadata": {},
   "source": [
    "### Reshape Matrix"
   ]
  },
  {
   "cell_type": "code",
   "execution_count": 409,
   "metadata": {},
   "outputs": [
    {
     "data": {
      "text/plain": [
       "array([[1, 2, 3, 1],\n",
       "       [4, 5, 6, 1],\n",
       "       [7, 8, 9, 1]])"
      ]
     },
     "execution_count": 409,
     "metadata": {},
     "output_type": "execute_result"
    }
   ],
   "source": [
    "matrix"
   ]
  },
  {
   "cell_type": "code",
   "execution_count": 410,
   "metadata": {},
   "outputs": [
    {
     "data": {
      "text/plain": [
       "array([[1, 2, 3],\n",
       "       [1, 4, 5],\n",
       "       [6, 1, 7],\n",
       "       [8, 9, 1]])"
      ]
     },
     "execution_count": 410,
     "metadata": {},
     "output_type": "execute_result"
    }
   ],
   "source": [
    "np.reshape(matrix, (4,3))"
   ]
  },
  {
   "cell_type": "code",
   "execution_count": 414,
   "metadata": {},
   "outputs": [
    {
     "data": {
      "text/plain": [
       "array([[[[1, 2],\n",
       "         [3, 1],\n",
       "         [4, 5]],\n",
       "\n",
       "        [[6, 1],\n",
       "         [7, 8],\n",
       "         [9, 1]]]])"
      ]
     },
     "execution_count": 414,
     "metadata": {},
     "output_type": "execute_result"
    }
   ],
   "source": [
    "np.reshape(matrix, (1,2,3,2))"
   ]
  },
  {
   "cell_type": "code",
   "execution_count": 413,
   "metadata": {},
   "outputs": [
    {
     "data": {
      "text/plain": [
       "array([[1],\n",
       "       [2],\n",
       "       [3],\n",
       "       [1],\n",
       "       [4],\n",
       "       [5],\n",
       "       [6],\n",
       "       [1],\n",
       "       [7],\n",
       "       [8],\n",
       "       [9],\n",
       "       [1]])"
      ]
     },
     "execution_count": 413,
     "metadata": {},
     "output_type": "execute_result"
    }
   ],
   "source": [
    "np.reshape(matrix, (12,1))"
   ]
  },
  {
   "cell_type": "markdown",
   "metadata": {},
   "source": [
    "### Matrix Operation"
   ]
  },
  {
   "cell_type": "code",
   "execution_count": 416,
   "metadata": {},
   "outputs": [],
   "source": [
    "A = np.array([[1, 3, 1],\n",
    "              [5, 2, 1]])\n",
    "\n",
    "B = np.array([[0, 0, 1],\n",
    "              [3, 5, 1]])"
   ]
  },
  {
   "cell_type": "markdown",
   "metadata": {},
   "source": [
    "#### Penjumlahan Matrix\n",
    "\n",
    "![](resource/penjumlahan_matrix.PNG)"
   ]
  },
  {
   "cell_type": "code",
   "execution_count": 417,
   "metadata": {},
   "outputs": [
    {
     "data": {
      "text/plain": [
       "array([[1, 3, 2],\n",
       "       [8, 7, 2]])"
      ]
     },
     "execution_count": 417,
     "metadata": {},
     "output_type": "execute_result"
    }
   ],
   "source": [
    "A + B"
   ]
  },
  {
   "cell_type": "code",
   "execution_count": 418,
   "metadata": {},
   "outputs": [
    {
     "data": {
      "text/plain": [
       "array([[ 1,  3,  0],\n",
       "       [ 2, -3,  0]])"
      ]
     },
     "execution_count": 418,
     "metadata": {},
     "output_type": "execute_result"
    }
   ],
   "source": [
    "A - B"
   ]
  },
  {
   "cell_type": "markdown",
   "metadata": {},
   "source": [
    "#### Perkalian Skalar\n",
    "\n",
    "![](resource/perkalian_scalar_matrix.PNG)"
   ]
  },
  {
   "cell_type": "code",
   "execution_count": 286,
   "metadata": {},
   "outputs": [
    {
     "data": {
      "text/plain": [
       "array([[ 2,  6,  2],\n",
       "       [10,  4,  2]])"
      ]
     },
     "execution_count": 286,
     "metadata": {},
     "output_type": "execute_result"
    }
   ],
   "source": [
    "2 * A"
   ]
  },
  {
   "cell_type": "code",
   "execution_count": 287,
   "metadata": {},
   "outputs": [
    {
     "data": {
      "text/plain": [
       "array([[ 0. ,  0. ,  3.5],\n",
       "       [10.5, 17.5,  3.5]])"
      ]
     },
     "execution_count": 287,
     "metadata": {},
     "output_type": "execute_result"
    }
   ],
   "source": [
    "3.5 * B"
   ]
  },
  {
   "cell_type": "code",
   "execution_count": 303,
   "metadata": {},
   "outputs": [
    {
     "data": {
      "text/plain": [
       "array([[1.        , 0.33333333, 1.        ],\n",
       "       [0.2       , 0.5       , 1.        ]])"
      ]
     },
     "execution_count": 303,
     "metadata": {},
     "output_type": "execute_result"
    }
   ],
   "source": [
    "1 / A"
   ]
  },
  {
   "cell_type": "code",
   "execution_count": 305,
   "metadata": {},
   "outputs": [
    {
     "data": {
      "text/plain": [
       "array([[0. , 0. , 0.5],\n",
       "       [1.5, 2.5, 0.5]])"
      ]
     },
     "execution_count": 305,
     "metadata": {},
     "output_type": "execute_result"
    }
   ],
   "source": [
    "B / 2"
   ]
  },
  {
   "cell_type": "markdown",
   "metadata": {},
   "source": [
    "#### Perkalian matrix biasa\n",
    "\n",
    "$\\begin{bmatrix} 1 & 3 & 1 \\\\ 5 & 2 & 1 \\end{bmatrix} \\begin{bmatrix} 0 & 0 & 1 \\\\ 3 & 5 & 1 \\end{bmatrix} = \\begin{bmatrix} 1\\times0 & 1\\times0 & 1\\times1 \\\\ 5\\times3 & 2\\times5 & 1\\times1 \\end{bmatrix} = \\begin{bmatrix} 0 & 0 & 1 \\\\ 15 & 10 & 1 \\end{bmatrix}$"
   ]
  },
  {
   "cell_type": "code",
   "execution_count": 419,
   "metadata": {},
   "outputs": [
    {
     "data": {
      "text/plain": [
       "array([[ 0,  0,  1],\n",
       "       [15, 10,  1]])"
      ]
     },
     "execution_count": 419,
     "metadata": {},
     "output_type": "execute_result"
    }
   ],
   "source": [
    "A*B"
   ]
  },
  {
   "cell_type": "code",
   "execution_count": 306,
   "metadata": {},
   "outputs": [
    {
     "data": {
      "text/plain": [
       "array([[0. , 0. , 1. ],\n",
       "       [0.6, 2.5, 1. ]])"
      ]
     },
     "execution_count": 306,
     "metadata": {},
     "output_type": "execute_result"
    }
   ],
   "source": [
    "B/A"
   ]
  },
  {
   "cell_type": "code",
   "execution_count": 308,
   "metadata": {},
   "outputs": [
    {
     "data": {
      "text/plain": [
       "array([[0. , 0. , 2. ],\n",
       "       [1.2, 5. , 2. ]])"
      ]
     },
     "execution_count": 308,
     "metadata": {},
     "output_type": "execute_result"
    }
   ],
   "source": [
    "2 * B / A"
   ]
  },
  {
   "cell_type": "markdown",
   "metadata": {},
   "source": [
    "#### Transpose Matrix\n",
    "\n",
    "![](resource/transpose_matrix.PNG)"
   ]
  },
  {
   "cell_type": "code",
   "execution_count": 420,
   "metadata": {},
   "outputs": [
    {
     "data": {
      "text/plain": [
       "array([[1, 3, 1],\n",
       "       [5, 2, 1]])"
      ]
     },
     "execution_count": 420,
     "metadata": {},
     "output_type": "execute_result"
    }
   ],
   "source": [
    "A"
   ]
  },
  {
   "cell_type": "code",
   "execution_count": 421,
   "metadata": {},
   "outputs": [
    {
     "data": {
      "text/plain": [
       "array([[1, 5],\n",
       "       [3, 2],\n",
       "       [1, 1]])"
      ]
     },
     "execution_count": 421,
     "metadata": {},
     "output_type": "execute_result"
    }
   ],
   "source": [
    "np.transpose(A)"
   ]
  },
  {
   "cell_type": "code",
   "execution_count": 423,
   "metadata": {},
   "outputs": [
    {
     "data": {
      "text/plain": [
       "array([[0, 3],\n",
       "       [0, 5],\n",
       "       [1, 1]])"
      ]
     },
     "execution_count": 423,
     "metadata": {},
     "output_type": "execute_result"
    }
   ],
   "source": [
    "B.T"
   ]
  },
  {
   "cell_type": "markdown",
   "metadata": {},
   "source": [
    "#### Matrix multiplication (dot product)\n",
    "\n",
    "![](resource/dot_product.PNG)\n",
    "\n",
    "- hanya dapat dilakukan jika dan hanya jika jumlah kolom pada matrix kiri sama dengan jumlah baris pada matrix kanan. \\\n",
    "$(M, n)(n, m)$ \\\n",
    "untuk, \n",
    "$(M, n)$ merupakan ukuran matrix dibagian kanan, \\\n",
    "$(n, m)$ merupakan ukuran matrix dibagian kiri, \\\n",
    "dan akan menghasilkan matrix dengan ukuran $(M, m)$\n",
    "\n",
    "\n",
    "- Contoh :\n",
    "\n",
    "\n",
    "$X = \\begin{bmatrix} 1 & 2 & 1 \\\\ 3 & 0 & 1 \\end{bmatrix}$\n",
    "\n",
    "- size X adalah 2, 3\n",
    "\n",
    "$Y = \\begin{bmatrix} 0 & 3 \\\\ 5 & 1 \\\\ 7 & 3\\end{bmatrix}$\n",
    "\n",
    "- size Y adalah 3, 2\n",
    "\n",
    "\n",
    "- sehingga kedua matrix diatas dapat dilakukan operasi dot untuk size (2, `3`)(`3`, 2)\n"
   ]
  },
  {
   "cell_type": "code",
   "execution_count": 424,
   "metadata": {},
   "outputs": [],
   "source": [
    "X = np.array([[1, 2, 1],\n",
    "              [3, 0, 1]])\n",
    "\n",
    "Y = np.array([[0, 3],\n",
    "              [5, 1],\n",
    "              [7, 3]])"
   ]
  },
  {
   "cell_type": "code",
   "execution_count": 425,
   "metadata": {},
   "outputs": [
    {
     "data": {
      "text/plain": [
       "((2, 3), (3, 2))"
      ]
     },
     "execution_count": 425,
     "metadata": {},
     "output_type": "execute_result"
    }
   ],
   "source": [
    "X.shape, Y.shape"
   ]
  },
  {
   "cell_type": "code",
   "execution_count": 428,
   "metadata": {},
   "outputs": [
    {
     "data": {
      "text/plain": [
       "array([[17,  8],\n",
       "       [ 7, 12]])"
      ]
     },
     "execution_count": 428,
     "metadata": {},
     "output_type": "execute_result"
    }
   ],
   "source": [
    "np.dot(X, Y)"
   ]
  },
  {
   "cell_type": "code",
   "execution_count": 429,
   "metadata": {},
   "outputs": [
    {
     "data": {
      "text/plain": [
       "array([[1, 2, 1, 3, 0, 1]])"
      ]
     },
     "execution_count": 429,
     "metadata": {},
     "output_type": "execute_result"
    }
   ],
   "source": [
    "X = np.reshape(X, (1, 6))\n",
    "\n",
    "X"
   ]
  },
  {
   "cell_type": "code",
   "execution_count": 430,
   "metadata": {},
   "outputs": [
    {
     "data": {
      "text/plain": [
       "array([[0],\n",
       "       [3],\n",
       "       [5],\n",
       "       [1],\n",
       "       [7],\n",
       "       [3]])"
      ]
     },
     "execution_count": 430,
     "metadata": {},
     "output_type": "execute_result"
    }
   ],
   "source": [
    "Y = np.reshape(Y, (6, 1))\n",
    "\n",
    "Y"
   ]
  },
  {
   "cell_type": "code",
   "execution_count": 431,
   "metadata": {},
   "outputs": [
    {
     "data": {
      "text/plain": [
       "((1, 6), (6, 1))"
      ]
     },
     "execution_count": 431,
     "metadata": {},
     "output_type": "execute_result"
    }
   ],
   "source": [
    "X.shape, Y.shape"
   ]
  },
  {
   "cell_type": "code",
   "execution_count": 432,
   "metadata": {},
   "outputs": [
    {
     "data": {
      "text/plain": [
       "array([[17]])"
      ]
     },
     "execution_count": 432,
     "metadata": {},
     "output_type": "execute_result"
    }
   ],
   "source": [
    "np.dot(X, Y)"
   ]
  },
  {
   "cell_type": "markdown",
   "metadata": {},
   "source": [
    "#### Generating Random Value"
   ]
  },
  {
   "cell_type": "code",
   "execution_count": 437,
   "metadata": {},
   "outputs": [
    {
     "name": "stdout",
     "output_type": "stream",
     "text": [
      "[ 7  3  4  5  3  7  2  7  2  5 16  6  3 11 16 16  0 12  2 11]\n"
     ]
    }
   ],
   "source": [
    "#Generate 3 random integers b/w 1 and 10\n",
    "print(np.random.randint(0,17,20))"
   ]
  },
  {
   "cell_type": "code",
   "execution_count": 439,
   "metadata": {},
   "outputs": [
    {
     "name": "stdout",
     "output_type": "stream",
     "text": [
      "[1.40572516 0.19635299 0.63933936 0.53782618 1.60655989 1.46544649\n",
      " 0.95067421 0.7016397  1.25853594 1.15763279]\n"
     ]
    }
   ],
   "source": [
    "#Draw 3 numbers from a normal distribution with mean 1.0 and std 2.0\n",
    "print(np.random.normal(1.0, 0.5, 10))"
   ]
  },
  {
   "cell_type": "markdown",
   "metadata": {},
   "source": [
    "---\n",
    "___\n",
    "***"
   ]
  },
  {
   "cell_type": "markdown",
   "metadata": {},
   "source": [
    "# Basic Pandas \n",
    "\n",
    "- Dapat membaca dan menulis keberbagai format data (TXT, CSV, XLSX, SQL, HDFS, dll)\n",
    "- Representasi data dalam bentuk tabular yang disebut dengan dataframe (simple dan mudah difahami)\n",
    "- less writing and more work done\n",
    "- kecepatan pemrosesan dan kemamuan menghandle data yang sangat besar\n",
    "- memiliki feature yang kaya untuk pengolahan data (read/write, filtering, sorting, merging, joining, analisis time series, visualization, dll)\n",
    "\n"
   ]
  },
  {
   "cell_type": "code",
   "execution_count": 440,
   "metadata": {},
   "outputs": [],
   "source": [
    "import pandas as pd"
   ]
  },
  {
   "cell_type": "markdown",
   "metadata": {},
   "source": [
    "### Membaca file CSV"
   ]
  },
  {
   "cell_type": "markdown",
   "metadata": {},
   "source": [
    "Dataset : https://www.kaggle.com/ardisragen/indonesia-coronavirus-cases?select=patient.csv"
   ]
  },
  {
   "cell_type": "code",
   "execution_count": 441,
   "metadata": {},
   "outputs": [],
   "source": [
    "covid_19 = pd.read_csv('data/datasets_557740_1083090_patient.csv')"
   ]
  },
  {
   "cell_type": "code",
   "execution_count": 442,
   "metadata": {},
   "outputs": [
    {
     "data": {
      "text/html": [
       "<div>\n",
       "<style scoped>\n",
       "    .dataframe tbody tr th:only-of-type {\n",
       "        vertical-align: middle;\n",
       "    }\n",
       "\n",
       "    .dataframe tbody tr th {\n",
       "        vertical-align: top;\n",
       "    }\n",
       "\n",
       "    .dataframe thead th {\n",
       "        text-align: right;\n",
       "    }\n",
       "</style>\n",
       "<table border=\"1\" class=\"dataframe\">\n",
       "  <thead>\n",
       "    <tr style=\"text-align: right;\">\n",
       "      <th></th>\n",
       "      <th>patient_id</th>\n",
       "      <th>gender</th>\n",
       "      <th>age</th>\n",
       "      <th>nationality</th>\n",
       "      <th>province</th>\n",
       "      <th>current_state</th>\n",
       "      <th>contacted_with</th>\n",
       "      <th>confirmed_date</th>\n",
       "      <th>released_date</th>\n",
       "      <th>deceased_date</th>\n",
       "      <th>hospital</th>\n",
       "    </tr>\n",
       "  </thead>\n",
       "  <tbody>\n",
       "    <tr>\n",
       "      <th>0</th>\n",
       "      <td>1</td>\n",
       "      <td>female</td>\n",
       "      <td>31.0</td>\n",
       "      <td>indonesia</td>\n",
       "      <td>DKI Jakarta</td>\n",
       "      <td>released</td>\n",
       "      <td>NaN</td>\n",
       "      <td>2-Mar-20</td>\n",
       "      <td>13-Mar-20</td>\n",
       "      <td>NaN</td>\n",
       "      <td>RSPI Sulianti Saroso</td>\n",
       "    </tr>\n",
       "    <tr>\n",
       "      <th>1</th>\n",
       "      <td>2</td>\n",
       "      <td>female</td>\n",
       "      <td>64.0</td>\n",
       "      <td>indonesia</td>\n",
       "      <td>DKI Jakarta</td>\n",
       "      <td>released</td>\n",
       "      <td>1.0</td>\n",
       "      <td>2-Mar-20</td>\n",
       "      <td>16-Mar-20</td>\n",
       "      <td>NaN</td>\n",
       "      <td>RSPI Sulianti Saroso</td>\n",
       "    </tr>\n",
       "    <tr>\n",
       "      <th>2</th>\n",
       "      <td>3</td>\n",
       "      <td>female</td>\n",
       "      <td>33.0</td>\n",
       "      <td>indonesia</td>\n",
       "      <td>DKI Jakarta</td>\n",
       "      <td>released</td>\n",
       "      <td>1.0</td>\n",
       "      <td>6-Mar-20</td>\n",
       "      <td>13-Mar-20</td>\n",
       "      <td>NaN</td>\n",
       "      <td>RSPI Sulianti Saroso</td>\n",
       "    </tr>\n",
       "    <tr>\n",
       "      <th>3</th>\n",
       "      <td>4</td>\n",
       "      <td>female</td>\n",
       "      <td>34.0</td>\n",
       "      <td>indonesia</td>\n",
       "      <td>DKI Jakarta</td>\n",
       "      <td>isolated</td>\n",
       "      <td>1.0</td>\n",
       "      <td>6-Mar-20</td>\n",
       "      <td>NaN</td>\n",
       "      <td>NaN</td>\n",
       "      <td>RSPI Sulianti Saroso</td>\n",
       "    </tr>\n",
       "    <tr>\n",
       "      <th>4</th>\n",
       "      <td>5</td>\n",
       "      <td>male</td>\n",
       "      <td>55.0</td>\n",
       "      <td>indonesia</td>\n",
       "      <td>DKI Jakarta</td>\n",
       "      <td>isolated</td>\n",
       "      <td>1.0</td>\n",
       "      <td>8-Mar-20</td>\n",
       "      <td>NaN</td>\n",
       "      <td>NaN</td>\n",
       "      <td>RS Persahabatan</td>\n",
       "    </tr>\n",
       "  </tbody>\n",
       "</table>\n",
       "</div>"
      ],
      "text/plain": [
       "   patient_id  gender   age nationality     province current_state  \\\n",
       "0           1  female  31.0   indonesia  DKI Jakarta      released   \n",
       "1           2  female  64.0   indonesia  DKI Jakarta      released   \n",
       "2           3  female  33.0   indonesia  DKI Jakarta      released   \n",
       "3           4  female  34.0   indonesia  DKI Jakarta      isolated   \n",
       "4           5    male  55.0   indonesia  DKI Jakarta      isolated   \n",
       "\n",
       "   contacted_with confirmed_date released_date deceased_date  \\\n",
       "0             NaN       2-Mar-20     13-Mar-20           NaN   \n",
       "1             1.0       2-Mar-20     16-Mar-20           NaN   \n",
       "2             1.0       6-Mar-20     13-Mar-20           NaN   \n",
       "3             1.0       6-Mar-20           NaN           NaN   \n",
       "4             1.0       8-Mar-20           NaN           NaN   \n",
       "\n",
       "               hospital  \n",
       "0  RSPI Sulianti Saroso  \n",
       "1  RSPI Sulianti Saroso  \n",
       "2  RSPI Sulianti Saroso  \n",
       "3  RSPI Sulianti Saroso  \n",
       "4       RS Persahabatan  "
      ]
     },
     "execution_count": 442,
     "metadata": {},
     "output_type": "execute_result"
    }
   ],
   "source": [
    "covid_19.head()"
   ]
  },
  {
   "cell_type": "code",
   "execution_count": 443,
   "metadata": {},
   "outputs": [
    {
     "data": {
      "text/html": [
       "<div>\n",
       "<style scoped>\n",
       "    .dataframe tbody tr th:only-of-type {\n",
       "        vertical-align: middle;\n",
       "    }\n",
       "\n",
       "    .dataframe tbody tr th {\n",
       "        vertical-align: top;\n",
       "    }\n",
       "\n",
       "    .dataframe thead th {\n",
       "        text-align: right;\n",
       "    }\n",
       "</style>\n",
       "<table border=\"1\" class=\"dataframe\">\n",
       "  <thead>\n",
       "    <tr style=\"text-align: right;\">\n",
       "      <th></th>\n",
       "      <th>patient_id</th>\n",
       "      <th>gender</th>\n",
       "      <th>age</th>\n",
       "      <th>nationality</th>\n",
       "      <th>province</th>\n",
       "      <th>current_state</th>\n",
       "      <th>contacted_with</th>\n",
       "      <th>confirmed_date</th>\n",
       "      <th>released_date</th>\n",
       "      <th>deceased_date</th>\n",
       "      <th>hospital</th>\n",
       "    </tr>\n",
       "  </thead>\n",
       "  <tbody>\n",
       "    <tr>\n",
       "      <th>0</th>\n",
       "      <td>1</td>\n",
       "      <td>female</td>\n",
       "      <td>31.0</td>\n",
       "      <td>indonesia</td>\n",
       "      <td>DKI Jakarta</td>\n",
       "      <td>released</td>\n",
       "      <td>NaN</td>\n",
       "      <td>2-Mar-20</td>\n",
       "      <td>13-Mar-20</td>\n",
       "      <td>NaN</td>\n",
       "      <td>RSPI Sulianti Saroso</td>\n",
       "    </tr>\n",
       "    <tr>\n",
       "      <th>1</th>\n",
       "      <td>2</td>\n",
       "      <td>female</td>\n",
       "      <td>64.0</td>\n",
       "      <td>indonesia</td>\n",
       "      <td>DKI Jakarta</td>\n",
       "      <td>released</td>\n",
       "      <td>1.0</td>\n",
       "      <td>2-Mar-20</td>\n",
       "      <td>16-Mar-20</td>\n",
       "      <td>NaN</td>\n",
       "      <td>RSPI Sulianti Saroso</td>\n",
       "    </tr>\n",
       "    <tr>\n",
       "      <th>2</th>\n",
       "      <td>3</td>\n",
       "      <td>female</td>\n",
       "      <td>33.0</td>\n",
       "      <td>indonesia</td>\n",
       "      <td>DKI Jakarta</td>\n",
       "      <td>released</td>\n",
       "      <td>1.0</td>\n",
       "      <td>6-Mar-20</td>\n",
       "      <td>13-Mar-20</td>\n",
       "      <td>NaN</td>\n",
       "      <td>RSPI Sulianti Saroso</td>\n",
       "    </tr>\n",
       "    <tr>\n",
       "      <th>3</th>\n",
       "      <td>4</td>\n",
       "      <td>female</td>\n",
       "      <td>34.0</td>\n",
       "      <td>indonesia</td>\n",
       "      <td>DKI Jakarta</td>\n",
       "      <td>isolated</td>\n",
       "      <td>1.0</td>\n",
       "      <td>6-Mar-20</td>\n",
       "      <td>NaN</td>\n",
       "      <td>NaN</td>\n",
       "      <td>RSPI Sulianti Saroso</td>\n",
       "    </tr>\n",
       "    <tr>\n",
       "      <th>4</th>\n",
       "      <td>5</td>\n",
       "      <td>male</td>\n",
       "      <td>55.0</td>\n",
       "      <td>indonesia</td>\n",
       "      <td>DKI Jakarta</td>\n",
       "      <td>isolated</td>\n",
       "      <td>1.0</td>\n",
       "      <td>8-Mar-20</td>\n",
       "      <td>NaN</td>\n",
       "      <td>NaN</td>\n",
       "      <td>RS Persahabatan</td>\n",
       "    </tr>\n",
       "    <tr>\n",
       "      <th>5</th>\n",
       "      <td>6</td>\n",
       "      <td>male</td>\n",
       "      <td>36.0</td>\n",
       "      <td>indonesia</td>\n",
       "      <td>DKI Jakarta</td>\n",
       "      <td>released</td>\n",
       "      <td>NaN</td>\n",
       "      <td>8-Mar-20</td>\n",
       "      <td>11-Mar-20</td>\n",
       "      <td>NaN</td>\n",
       "      <td>RS Persahabatan</td>\n",
       "    </tr>\n",
       "    <tr>\n",
       "      <th>6</th>\n",
       "      <td>7</td>\n",
       "      <td>female</td>\n",
       "      <td>54.0</td>\n",
       "      <td>indonesia</td>\n",
       "      <td>DKI Jakarta</td>\n",
       "      <td>released</td>\n",
       "      <td>8.0</td>\n",
       "      <td>9-Mar-20</td>\n",
       "      <td>NaN</td>\n",
       "      <td>NaN</td>\n",
       "      <td>NaN</td>\n",
       "    </tr>\n",
       "    <tr>\n",
       "      <th>7</th>\n",
       "      <td>8</td>\n",
       "      <td>male</td>\n",
       "      <td>55.0</td>\n",
       "      <td>indonesia</td>\n",
       "      <td>DKI Jakarta</td>\n",
       "      <td>released</td>\n",
       "      <td>NaN</td>\n",
       "      <td>9-Mar-20</td>\n",
       "      <td>NaN</td>\n",
       "      <td>NaN</td>\n",
       "      <td>NaN</td>\n",
       "    </tr>\n",
       "    <tr>\n",
       "      <th>8</th>\n",
       "      <td>9</td>\n",
       "      <td>female</td>\n",
       "      <td>55.0</td>\n",
       "      <td>indonesia</td>\n",
       "      <td>DKI Jakarta</td>\n",
       "      <td>released</td>\n",
       "      <td>NaN</td>\n",
       "      <td>9-Mar-20</td>\n",
       "      <td>NaN</td>\n",
       "      <td>NaN</td>\n",
       "      <td>NaN</td>\n",
       "    </tr>\n",
       "    <tr>\n",
       "      <th>9</th>\n",
       "      <td>10</td>\n",
       "      <td>male</td>\n",
       "      <td>29.0</td>\n",
       "      <td>foreigner</td>\n",
       "      <td>DKI Jakarta</td>\n",
       "      <td>isolated</td>\n",
       "      <td>1.0</td>\n",
       "      <td>9-Mar-20</td>\n",
       "      <td>NaN</td>\n",
       "      <td>NaN</td>\n",
       "      <td>RSPI Sulianti Saroso</td>\n",
       "    </tr>\n",
       "    <tr>\n",
       "      <th>10</th>\n",
       "      <td>11</td>\n",
       "      <td>female</td>\n",
       "      <td>54.0</td>\n",
       "      <td>foreigner</td>\n",
       "      <td>DKI Jakarta</td>\n",
       "      <td>isolated</td>\n",
       "      <td>1.0</td>\n",
       "      <td>9-Mar-20</td>\n",
       "      <td>NaN</td>\n",
       "      <td>NaN</td>\n",
       "      <td>RSPI Sulianti Saroso</td>\n",
       "    </tr>\n",
       "    <tr>\n",
       "      <th>11</th>\n",
       "      <td>12</td>\n",
       "      <td>male</td>\n",
       "      <td>31.0</td>\n",
       "      <td>indonesia</td>\n",
       "      <td>DKI Jakarta</td>\n",
       "      <td>isolated</td>\n",
       "      <td>1.0</td>\n",
       "      <td>9-Mar-20</td>\n",
       "      <td>NaN</td>\n",
       "      <td>NaN</td>\n",
       "      <td>NaN</td>\n",
       "    </tr>\n",
       "    <tr>\n",
       "      <th>12</th>\n",
       "      <td>13</td>\n",
       "      <td>female</td>\n",
       "      <td>16.0</td>\n",
       "      <td>indonesia</td>\n",
       "      <td>DKI Jakarta</td>\n",
       "      <td>released</td>\n",
       "      <td>1.0</td>\n",
       "      <td>9-Mar-20</td>\n",
       "      <td>11-Mar-20</td>\n",
       "      <td>NaN</td>\n",
       "      <td>NaN</td>\n",
       "    </tr>\n",
       "    <tr>\n",
       "      <th>13</th>\n",
       "      <td>14</td>\n",
       "      <td>male</td>\n",
       "      <td>50.0</td>\n",
       "      <td>indonesia</td>\n",
       "      <td>DKI Jakarta</td>\n",
       "      <td>isolated</td>\n",
       "      <td>74.0</td>\n",
       "      <td>9-Mar-20</td>\n",
       "      <td>NaN</td>\n",
       "      <td>NaN</td>\n",
       "      <td>RS Persahabatan</td>\n",
       "    </tr>\n",
       "    <tr>\n",
       "      <th>14</th>\n",
       "      <td>15</td>\n",
       "      <td>female</td>\n",
       "      <td>43.0</td>\n",
       "      <td>indonesia</td>\n",
       "      <td>Jawa Barat</td>\n",
       "      <td>isolated</td>\n",
       "      <td>74.0</td>\n",
       "      <td>9-Mar-20</td>\n",
       "      <td>NaN</td>\n",
       "      <td>NaN</td>\n",
       "      <td>NaN</td>\n",
       "    </tr>\n",
       "  </tbody>\n",
       "</table>\n",
       "</div>"
      ],
      "text/plain": [
       "    patient_id  gender   age nationality     province current_state  \\\n",
       "0            1  female  31.0   indonesia  DKI Jakarta      released   \n",
       "1            2  female  64.0   indonesia  DKI Jakarta      released   \n",
       "2            3  female  33.0   indonesia  DKI Jakarta      released   \n",
       "3            4  female  34.0   indonesia  DKI Jakarta      isolated   \n",
       "4            5    male  55.0   indonesia  DKI Jakarta      isolated   \n",
       "5            6    male  36.0   indonesia  DKI Jakarta      released   \n",
       "6            7  female  54.0   indonesia  DKI Jakarta      released   \n",
       "7            8    male  55.0   indonesia  DKI Jakarta      released   \n",
       "8            9  female  55.0   indonesia  DKI Jakarta      released   \n",
       "9           10    male  29.0   foreigner  DKI Jakarta      isolated   \n",
       "10          11  female  54.0   foreigner  DKI Jakarta      isolated   \n",
       "11          12    male  31.0   indonesia  DKI Jakarta      isolated   \n",
       "12          13  female  16.0   indonesia  DKI Jakarta      released   \n",
       "13          14    male  50.0   indonesia  DKI Jakarta      isolated   \n",
       "14          15  female  43.0   indonesia   Jawa Barat      isolated   \n",
       "\n",
       "    contacted_with confirmed_date released_date deceased_date  \\\n",
       "0              NaN       2-Mar-20     13-Mar-20           NaN   \n",
       "1              1.0       2-Mar-20     16-Mar-20           NaN   \n",
       "2              1.0       6-Mar-20     13-Mar-20           NaN   \n",
       "3              1.0       6-Mar-20           NaN           NaN   \n",
       "4              1.0       8-Mar-20           NaN           NaN   \n",
       "5              NaN       8-Mar-20     11-Mar-20           NaN   \n",
       "6              8.0       9-Mar-20           NaN           NaN   \n",
       "7              NaN       9-Mar-20           NaN           NaN   \n",
       "8              NaN       9-Mar-20           NaN           NaN   \n",
       "9              1.0       9-Mar-20           NaN           NaN   \n",
       "10             1.0       9-Mar-20           NaN           NaN   \n",
       "11             1.0       9-Mar-20           NaN           NaN   \n",
       "12             1.0       9-Mar-20     11-Mar-20           NaN   \n",
       "13            74.0       9-Mar-20           NaN           NaN   \n",
       "14            74.0       9-Mar-20           NaN           NaN   \n",
       "\n",
       "                hospital  \n",
       "0   RSPI Sulianti Saroso  \n",
       "1   RSPI Sulianti Saroso  \n",
       "2   RSPI Sulianti Saroso  \n",
       "3   RSPI Sulianti Saroso  \n",
       "4        RS Persahabatan  \n",
       "5        RS Persahabatan  \n",
       "6                    NaN  \n",
       "7                    NaN  \n",
       "8                    NaN  \n",
       "9   RSPI Sulianti Saroso  \n",
       "10  RSPI Sulianti Saroso  \n",
       "11                   NaN  \n",
       "12                   NaN  \n",
       "13       RS Persahabatan  \n",
       "14                   NaN  "
      ]
     },
     "execution_count": 443,
     "metadata": {},
     "output_type": "execute_result"
    }
   ],
   "source": [
    "covid_19.head(15)"
   ]
  },
  {
   "cell_type": "code",
   "execution_count": 444,
   "metadata": {},
   "outputs": [
    {
     "name": "stdout",
     "output_type": "stream",
     "text": [
      "<class 'pandas.core.frame.DataFrame'>\n",
      "RangeIndex: 893 entries, 0 to 892\n",
      "Data columns (total 11 columns):\n",
      " #   Column          Non-Null Count  Dtype  \n",
      "---  ------          --------------  -----  \n",
      " 0   patient_id      893 non-null    int64  \n",
      " 1   gender          156 non-null    object \n",
      " 2   age             156 non-null    float64\n",
      " 3   nationality     156 non-null    object \n",
      " 4   province        156 non-null    object \n",
      " 5   current_state   166 non-null    object \n",
      " 6   contacted_with  27 non-null     float64\n",
      " 7   confirmed_date  893 non-null    object \n",
      " 8   released_date   5 non-null      object \n",
      " 9   deceased_date   4 non-null      object \n",
      " 10  hospital        17 non-null     object \n",
      "dtypes: float64(2), int64(1), object(8)\n",
      "memory usage: 76.9+ KB\n"
     ]
    }
   ],
   "source": [
    "covid_19.info()"
   ]
  },
  {
   "cell_type": "markdown",
   "metadata": {},
   "source": [
    "#### Select 1 column"
   ]
  },
  {
   "cell_type": "code",
   "execution_count": 445,
   "metadata": {},
   "outputs": [
    {
     "data": {
      "text/plain": [
       "0    female\n",
       "1    female\n",
       "2    female\n",
       "3    female\n",
       "4      male\n",
       "Name: gender, dtype: object"
      ]
     },
     "execution_count": 445,
     "metadata": {},
     "output_type": "execute_result"
    }
   ],
   "source": [
    "covid_19_gender = covid_19['gender'] # 1 column pada dataframe disebut Series\n",
    "\n",
    "covid_19_gender.head()"
   ]
  },
  {
   "cell_type": "code",
   "execution_count": 446,
   "metadata": {},
   "outputs": [
    {
     "data": {
      "text/plain": [
       "pandas.core.series.Series"
      ]
     },
     "execution_count": 446,
     "metadata": {},
     "output_type": "execute_result"
    }
   ],
   "source": [
    "type(covid_19_gender)"
   ]
  },
  {
   "cell_type": "markdown",
   "metadata": {},
   "source": [
    "#### Select multiple column"
   ]
  },
  {
   "cell_type": "code",
   "execution_count": 447,
   "metadata": {},
   "outputs": [
    {
     "data": {
      "text/html": [
       "<div>\n",
       "<style scoped>\n",
       "    .dataframe tbody tr th:only-of-type {\n",
       "        vertical-align: middle;\n",
       "    }\n",
       "\n",
       "    .dataframe tbody tr th {\n",
       "        vertical-align: top;\n",
       "    }\n",
       "\n",
       "    .dataframe thead th {\n",
       "        text-align: right;\n",
       "    }\n",
       "</style>\n",
       "<table border=\"1\" class=\"dataframe\">\n",
       "  <thead>\n",
       "    <tr style=\"text-align: right;\">\n",
       "      <th></th>\n",
       "      <th>gender</th>\n",
       "      <th>age</th>\n",
       "      <th>province</th>\n",
       "      <th>current_state</th>\n",
       "      <th>confirmed_date</th>\n",
       "      <th>hospital</th>\n",
       "    </tr>\n",
       "  </thead>\n",
       "  <tbody>\n",
       "    <tr>\n",
       "      <th>0</th>\n",
       "      <td>female</td>\n",
       "      <td>31.0</td>\n",
       "      <td>DKI Jakarta</td>\n",
       "      <td>released</td>\n",
       "      <td>2-Mar-20</td>\n",
       "      <td>RSPI Sulianti Saroso</td>\n",
       "    </tr>\n",
       "    <tr>\n",
       "      <th>1</th>\n",
       "      <td>female</td>\n",
       "      <td>64.0</td>\n",
       "      <td>DKI Jakarta</td>\n",
       "      <td>released</td>\n",
       "      <td>2-Mar-20</td>\n",
       "      <td>RSPI Sulianti Saroso</td>\n",
       "    </tr>\n",
       "    <tr>\n",
       "      <th>2</th>\n",
       "      <td>female</td>\n",
       "      <td>33.0</td>\n",
       "      <td>DKI Jakarta</td>\n",
       "      <td>released</td>\n",
       "      <td>6-Mar-20</td>\n",
       "      <td>RSPI Sulianti Saroso</td>\n",
       "    </tr>\n",
       "    <tr>\n",
       "      <th>3</th>\n",
       "      <td>female</td>\n",
       "      <td>34.0</td>\n",
       "      <td>DKI Jakarta</td>\n",
       "      <td>isolated</td>\n",
       "      <td>6-Mar-20</td>\n",
       "      <td>RSPI Sulianti Saroso</td>\n",
       "    </tr>\n",
       "    <tr>\n",
       "      <th>4</th>\n",
       "      <td>male</td>\n",
       "      <td>55.0</td>\n",
       "      <td>DKI Jakarta</td>\n",
       "      <td>isolated</td>\n",
       "      <td>8-Mar-20</td>\n",
       "      <td>RS Persahabatan</td>\n",
       "    </tr>\n",
       "  </tbody>\n",
       "</table>\n",
       "</div>"
      ],
      "text/plain": [
       "   gender   age     province current_state confirmed_date  \\\n",
       "0  female  31.0  DKI Jakarta      released       2-Mar-20   \n",
       "1  female  64.0  DKI Jakarta      released       2-Mar-20   \n",
       "2  female  33.0  DKI Jakarta      released       6-Mar-20   \n",
       "3  female  34.0  DKI Jakarta      isolated       6-Mar-20   \n",
       "4    male  55.0  DKI Jakarta      isolated       8-Mar-20   \n",
       "\n",
       "               hospital  \n",
       "0  RSPI Sulianti Saroso  \n",
       "1  RSPI Sulianti Saroso  \n",
       "2  RSPI Sulianti Saroso  \n",
       "3  RSPI Sulianti Saroso  \n",
       "4       RS Persahabatan  "
      ]
     },
     "execution_count": 447,
     "metadata": {},
     "output_type": "execute_result"
    }
   ],
   "source": [
    "covid_19_compact = covid_19[['gender', 'age', 'province', 'current_state', 'confirmed_date', 'hospital']]\n",
    "\n",
    "covid_19_compact.head()"
   ]
  },
  {
   "cell_type": "code",
   "execution_count": 448,
   "metadata": {},
   "outputs": [
    {
     "data": {
      "text/plain": [
       "pandas.core.frame.DataFrame"
      ]
     },
     "execution_count": 448,
     "metadata": {},
     "output_type": "execute_result"
    }
   ],
   "source": [
    "type(covid_19_compact)"
   ]
  },
  {
   "cell_type": "code",
   "execution_count": 449,
   "metadata": {},
   "outputs": [
    {
     "data": {
      "text/plain": [
       "(893, 6)"
      ]
     },
     "execution_count": 449,
     "metadata": {},
     "output_type": "execute_result"
    }
   ],
   "source": [
    "covid_19_compact.shape"
   ]
  },
  {
   "cell_type": "markdown",
   "metadata": {},
   "source": [
    "#### Filter Dataframe"
   ]
  },
  {
   "cell_type": "code",
   "execution_count": 456,
   "metadata": {},
   "outputs": [
    {
     "data": {
      "text/html": [
       "<div>\n",
       "<style scoped>\n",
       "    .dataframe tbody tr th:only-of-type {\n",
       "        vertical-align: middle;\n",
       "    }\n",
       "\n",
       "    .dataframe tbody tr th {\n",
       "        vertical-align: top;\n",
       "    }\n",
       "\n",
       "    .dataframe thead th {\n",
       "        text-align: right;\n",
       "    }\n",
       "</style>\n",
       "<table border=\"1\" class=\"dataframe\">\n",
       "  <thead>\n",
       "    <tr style=\"text-align: right;\">\n",
       "      <th></th>\n",
       "      <th>gender</th>\n",
       "      <th>age</th>\n",
       "      <th>province</th>\n",
       "      <th>current_state</th>\n",
       "      <th>confirmed_date</th>\n",
       "      <th>hospital</th>\n",
       "    </tr>\n",
       "  </thead>\n",
       "  <tbody>\n",
       "    <tr>\n",
       "      <th>0</th>\n",
       "      <td>female</td>\n",
       "      <td>31.0</td>\n",
       "      <td>DKI Jakarta</td>\n",
       "      <td>released</td>\n",
       "      <td>2-Mar-20</td>\n",
       "      <td>RSPI Sulianti Saroso</td>\n",
       "    </tr>\n",
       "    <tr>\n",
       "      <th>1</th>\n",
       "      <td>female</td>\n",
       "      <td>64.0</td>\n",
       "      <td>DKI Jakarta</td>\n",
       "      <td>released</td>\n",
       "      <td>2-Mar-20</td>\n",
       "      <td>RSPI Sulianti Saroso</td>\n",
       "    </tr>\n",
       "    <tr>\n",
       "      <th>2</th>\n",
       "      <td>female</td>\n",
       "      <td>33.0</td>\n",
       "      <td>DKI Jakarta</td>\n",
       "      <td>released</td>\n",
       "      <td>6-Mar-20</td>\n",
       "      <td>RSPI Sulianti Saroso</td>\n",
       "    </tr>\n",
       "    <tr>\n",
       "      <th>3</th>\n",
       "      <td>female</td>\n",
       "      <td>34.0</td>\n",
       "      <td>DKI Jakarta</td>\n",
       "      <td>isolated</td>\n",
       "      <td>6-Mar-20</td>\n",
       "      <td>RSPI Sulianti Saroso</td>\n",
       "    </tr>\n",
       "    <tr>\n",
       "      <th>6</th>\n",
       "      <td>female</td>\n",
       "      <td>54.0</td>\n",
       "      <td>DKI Jakarta</td>\n",
       "      <td>released</td>\n",
       "      <td>9-Mar-20</td>\n",
       "      <td>NaN</td>\n",
       "    </tr>\n",
       "  </tbody>\n",
       "</table>\n",
       "</div>"
      ],
      "text/plain": [
       "   gender   age     province current_state confirmed_date  \\\n",
       "0  female  31.0  DKI Jakarta      released       2-Mar-20   \n",
       "1  female  64.0  DKI Jakarta      released       2-Mar-20   \n",
       "2  female  33.0  DKI Jakarta      released       6-Mar-20   \n",
       "3  female  34.0  DKI Jakarta      isolated       6-Mar-20   \n",
       "6  female  54.0  DKI Jakarta      released       9-Mar-20   \n",
       "\n",
       "               hospital  \n",
       "0  RSPI Sulianti Saroso  \n",
       "1  RSPI Sulianti Saroso  \n",
       "2  RSPI Sulianti Saroso  \n",
       "3  RSPI Sulianti Saroso  \n",
       "6                   NaN  "
      ]
     },
     "execution_count": 456,
     "metadata": {},
     "output_type": "execute_result"
    }
   ],
   "source": [
    "covid_19_female = covid_19_compact[covid_19_compact['gender'] == 'female']\n",
    "\n",
    "covid_19_female.head()"
   ]
  },
  {
   "cell_type": "code",
   "execution_count": 457,
   "metadata": {},
   "outputs": [
    {
     "data": {
      "text/plain": [
       "0       True\n",
       "1       True\n",
       "2       True\n",
       "3       True\n",
       "4      False\n",
       "       ...  \n",
       "888    False\n",
       "889    False\n",
       "890    False\n",
       "891    False\n",
       "892    False\n",
       "Name: gender, Length: 893, dtype: bool"
      ]
     },
     "execution_count": 457,
     "metadata": {},
     "output_type": "execute_result"
    }
   ],
   "source": [
    "covid_19_compact['gender'] == 'female'"
   ]
  },
  {
   "cell_type": "code",
   "execution_count": 458,
   "metadata": {},
   "outputs": [
    {
     "data": {
      "text/plain": [
       "(65, 6)"
      ]
     },
     "execution_count": 458,
     "metadata": {},
     "output_type": "execute_result"
    }
   ],
   "source": [
    "covid_19_female.shape"
   ]
  },
  {
   "cell_type": "code",
   "execution_count": 460,
   "metadata": {},
   "outputs": [
    {
     "data": {
      "text/html": [
       "<div>\n",
       "<style scoped>\n",
       "    .dataframe tbody tr th:only-of-type {\n",
       "        vertical-align: middle;\n",
       "    }\n",
       "\n",
       "    .dataframe tbody tr th {\n",
       "        vertical-align: top;\n",
       "    }\n",
       "\n",
       "    .dataframe thead th {\n",
       "        text-align: right;\n",
       "    }\n",
       "</style>\n",
       "<table border=\"1\" class=\"dataframe\">\n",
       "  <thead>\n",
       "    <tr style=\"text-align: right;\">\n",
       "      <th></th>\n",
       "      <th>gender</th>\n",
       "      <th>age</th>\n",
       "      <th>province</th>\n",
       "      <th>current_state</th>\n",
       "      <th>confirmed_date</th>\n",
       "      <th>hospital</th>\n",
       "    </tr>\n",
       "  </thead>\n",
       "  <tbody>\n",
       "    <tr>\n",
       "      <th>0</th>\n",
       "      <td>female</td>\n",
       "      <td>31.0</td>\n",
       "      <td>DKI Jakarta</td>\n",
       "      <td>released</td>\n",
       "      <td>2-Mar-20</td>\n",
       "      <td>RSPI Sulianti Saroso</td>\n",
       "    </tr>\n",
       "    <tr>\n",
       "      <th>1</th>\n",
       "      <td>female</td>\n",
       "      <td>64.0</td>\n",
       "      <td>DKI Jakarta</td>\n",
       "      <td>released</td>\n",
       "      <td>2-Mar-20</td>\n",
       "      <td>RSPI Sulianti Saroso</td>\n",
       "    </tr>\n",
       "    <tr>\n",
       "      <th>2</th>\n",
       "      <td>female</td>\n",
       "      <td>33.0</td>\n",
       "      <td>DKI Jakarta</td>\n",
       "      <td>released</td>\n",
       "      <td>6-Mar-20</td>\n",
       "      <td>RSPI Sulianti Saroso</td>\n",
       "    </tr>\n",
       "    <tr>\n",
       "      <th>3</th>\n",
       "      <td>female</td>\n",
       "      <td>34.0</td>\n",
       "      <td>DKI Jakarta</td>\n",
       "      <td>isolated</td>\n",
       "      <td>6-Mar-20</td>\n",
       "      <td>RSPI Sulianti Saroso</td>\n",
       "    </tr>\n",
       "    <tr>\n",
       "      <th>4</th>\n",
       "      <td>male</td>\n",
       "      <td>55.0</td>\n",
       "      <td>DKI Jakarta</td>\n",
       "      <td>isolated</td>\n",
       "      <td>8-Mar-20</td>\n",
       "      <td>RS Persahabatan</td>\n",
       "    </tr>\n",
       "    <tr>\n",
       "      <th>5</th>\n",
       "      <td>male</td>\n",
       "      <td>36.0</td>\n",
       "      <td>DKI Jakarta</td>\n",
       "      <td>released</td>\n",
       "      <td>8-Mar-20</td>\n",
       "      <td>RS Persahabatan</td>\n",
       "    </tr>\n",
       "    <tr>\n",
       "      <th>6</th>\n",
       "      <td>female</td>\n",
       "      <td>54.0</td>\n",
       "      <td>DKI Jakarta</td>\n",
       "      <td>released</td>\n",
       "      <td>9-Mar-20</td>\n",
       "      <td>NaN</td>\n",
       "    </tr>\n",
       "    <tr>\n",
       "      <th>7</th>\n",
       "      <td>male</td>\n",
       "      <td>55.0</td>\n",
       "      <td>DKI Jakarta</td>\n",
       "      <td>released</td>\n",
       "      <td>9-Mar-20</td>\n",
       "      <td>NaN</td>\n",
       "    </tr>\n",
       "    <tr>\n",
       "      <th>8</th>\n",
       "      <td>female</td>\n",
       "      <td>55.0</td>\n",
       "      <td>DKI Jakarta</td>\n",
       "      <td>released</td>\n",
       "      <td>9-Mar-20</td>\n",
       "      <td>NaN</td>\n",
       "    </tr>\n",
       "    <tr>\n",
       "      <th>9</th>\n",
       "      <td>male</td>\n",
       "      <td>29.0</td>\n",
       "      <td>DKI Jakarta</td>\n",
       "      <td>isolated</td>\n",
       "      <td>9-Mar-20</td>\n",
       "      <td>RSPI Sulianti Saroso</td>\n",
       "    </tr>\n",
       "    <tr>\n",
       "      <th>10</th>\n",
       "      <td>female</td>\n",
       "      <td>54.0</td>\n",
       "      <td>DKI Jakarta</td>\n",
       "      <td>isolated</td>\n",
       "      <td>9-Mar-20</td>\n",
       "      <td>RSPI Sulianti Saroso</td>\n",
       "    </tr>\n",
       "    <tr>\n",
       "      <th>11</th>\n",
       "      <td>male</td>\n",
       "      <td>31.0</td>\n",
       "      <td>DKI Jakarta</td>\n",
       "      <td>isolated</td>\n",
       "      <td>9-Mar-20</td>\n",
       "      <td>NaN</td>\n",
       "    </tr>\n",
       "    <tr>\n",
       "      <th>12</th>\n",
       "      <td>female</td>\n",
       "      <td>16.0</td>\n",
       "      <td>DKI Jakarta</td>\n",
       "      <td>released</td>\n",
       "      <td>9-Mar-20</td>\n",
       "      <td>NaN</td>\n",
       "    </tr>\n",
       "    <tr>\n",
       "      <th>13</th>\n",
       "      <td>male</td>\n",
       "      <td>50.0</td>\n",
       "      <td>DKI Jakarta</td>\n",
       "      <td>isolated</td>\n",
       "      <td>9-Mar-20</td>\n",
       "      <td>RS Persahabatan</td>\n",
       "    </tr>\n",
       "    <tr>\n",
       "      <th>16</th>\n",
       "      <td>male</td>\n",
       "      <td>56.0</td>\n",
       "      <td>DKI Jakarta</td>\n",
       "      <td>isolated</td>\n",
       "      <td>9-Mar-20</td>\n",
       "      <td>NaN</td>\n",
       "    </tr>\n",
       "    <tr>\n",
       "      <th>18</th>\n",
       "      <td>male</td>\n",
       "      <td>40.0</td>\n",
       "      <td>DKI Jakarta</td>\n",
       "      <td>isolated</td>\n",
       "      <td>9-Mar-20</td>\n",
       "      <td>RS Persahabatan</td>\n",
       "    </tr>\n",
       "    <tr>\n",
       "      <th>19</th>\n",
       "      <td>female</td>\n",
       "      <td>70.0</td>\n",
       "      <td>DKI Jakarta</td>\n",
       "      <td>isolated</td>\n",
       "      <td>10-Mar-20</td>\n",
       "      <td>RS Persahabatan</td>\n",
       "    </tr>\n",
       "    <tr>\n",
       "      <th>20</th>\n",
       "      <td>female</td>\n",
       "      <td>47.0</td>\n",
       "      <td>DKI Jakarta</td>\n",
       "      <td>isolated</td>\n",
       "      <td>10-Mar-20</td>\n",
       "      <td>RSPI Sulianti Saroso</td>\n",
       "    </tr>\n",
       "    <tr>\n",
       "      <th>21</th>\n",
       "      <td>female</td>\n",
       "      <td>36.0</td>\n",
       "      <td>DKI Jakarta</td>\n",
       "      <td>isolated</td>\n",
       "      <td>10-Mar-20</td>\n",
       "      <td>NaN</td>\n",
       "    </tr>\n",
       "    <tr>\n",
       "      <th>22</th>\n",
       "      <td>female</td>\n",
       "      <td>73.0</td>\n",
       "      <td>DKI Jakarta</td>\n",
       "      <td>isolated</td>\n",
       "      <td>10-Mar-20</td>\n",
       "      <td>NaN</td>\n",
       "    </tr>\n",
       "  </tbody>\n",
       "</table>\n",
       "</div>"
      ],
      "text/plain": [
       "    gender   age     province current_state confirmed_date  \\\n",
       "0   female  31.0  DKI Jakarta      released       2-Mar-20   \n",
       "1   female  64.0  DKI Jakarta      released       2-Mar-20   \n",
       "2   female  33.0  DKI Jakarta      released       6-Mar-20   \n",
       "3   female  34.0  DKI Jakarta      isolated       6-Mar-20   \n",
       "4     male  55.0  DKI Jakarta      isolated       8-Mar-20   \n",
       "5     male  36.0  DKI Jakarta      released       8-Mar-20   \n",
       "6   female  54.0  DKI Jakarta      released       9-Mar-20   \n",
       "7     male  55.0  DKI Jakarta      released       9-Mar-20   \n",
       "8   female  55.0  DKI Jakarta      released       9-Mar-20   \n",
       "9     male  29.0  DKI Jakarta      isolated       9-Mar-20   \n",
       "10  female  54.0  DKI Jakarta      isolated       9-Mar-20   \n",
       "11    male  31.0  DKI Jakarta      isolated       9-Mar-20   \n",
       "12  female  16.0  DKI Jakarta      released       9-Mar-20   \n",
       "13    male  50.0  DKI Jakarta      isolated       9-Mar-20   \n",
       "16    male  56.0  DKI Jakarta      isolated       9-Mar-20   \n",
       "18    male  40.0  DKI Jakarta      isolated       9-Mar-20   \n",
       "19  female  70.0  DKI Jakarta      isolated      10-Mar-20   \n",
       "20  female  47.0  DKI Jakarta      isolated      10-Mar-20   \n",
       "21  female  36.0  DKI Jakarta      isolated      10-Mar-20   \n",
       "22  female  73.0  DKI Jakarta      isolated      10-Mar-20   \n",
       "\n",
       "                hospital  \n",
       "0   RSPI Sulianti Saroso  \n",
       "1   RSPI Sulianti Saroso  \n",
       "2   RSPI Sulianti Saroso  \n",
       "3   RSPI Sulianti Saroso  \n",
       "4        RS Persahabatan  \n",
       "5        RS Persahabatan  \n",
       "6                    NaN  \n",
       "7                    NaN  \n",
       "8                    NaN  \n",
       "9   RSPI Sulianti Saroso  \n",
       "10  RSPI Sulianti Saroso  \n",
       "11                   NaN  \n",
       "12                   NaN  \n",
       "13       RS Persahabatan  \n",
       "16                   NaN  \n",
       "18       RS Persahabatan  \n",
       "19       RS Persahabatan  \n",
       "20  RSPI Sulianti Saroso  \n",
       "21                   NaN  \n",
       "22                   NaN  "
      ]
     },
     "execution_count": 460,
     "metadata": {},
     "output_type": "execute_result"
    }
   ],
   "source": [
    "covid_19_DKI = covid_19_compact[covid_19_compact['province'] == 'DKI Jakarta']\n",
    "\n",
    "covid_19_DKI.head(20)"
   ]
  },
  {
   "cell_type": "code",
   "execution_count": 461,
   "metadata": {},
   "outputs": [
    {
     "data": {
      "text/plain": [
       "(124, 6)"
      ]
     },
     "execution_count": 461,
     "metadata": {},
     "output_type": "execute_result"
    }
   ],
   "source": [
    "covid_19_DKI.shape"
   ]
  },
  {
   "cell_type": "code",
   "execution_count": 462,
   "metadata": {},
   "outputs": [
    {
     "data": {
      "text/html": [
       "<div>\n",
       "<style scoped>\n",
       "    .dataframe tbody tr th:only-of-type {\n",
       "        vertical-align: middle;\n",
       "    }\n",
       "\n",
       "    .dataframe tbody tr th {\n",
       "        vertical-align: top;\n",
       "    }\n",
       "\n",
       "    .dataframe thead th {\n",
       "        text-align: right;\n",
       "    }\n",
       "</style>\n",
       "<table border=\"1\" class=\"dataframe\">\n",
       "  <thead>\n",
       "    <tr style=\"text-align: right;\">\n",
       "      <th></th>\n",
       "      <th>gender</th>\n",
       "      <th>age</th>\n",
       "      <th>province</th>\n",
       "      <th>current_state</th>\n",
       "      <th>confirmed_date</th>\n",
       "      <th>hospital</th>\n",
       "    </tr>\n",
       "  </thead>\n",
       "  <tbody>\n",
       "    <tr>\n",
       "      <th>1</th>\n",
       "      <td>female</td>\n",
       "      <td>64.0</td>\n",
       "      <td>DKI Jakarta</td>\n",
       "      <td>released</td>\n",
       "      <td>2-Mar-20</td>\n",
       "      <td>RSPI Sulianti Saroso</td>\n",
       "    </tr>\n",
       "    <tr>\n",
       "      <th>4</th>\n",
       "      <td>male</td>\n",
       "      <td>55.0</td>\n",
       "      <td>DKI Jakarta</td>\n",
       "      <td>isolated</td>\n",
       "      <td>8-Mar-20</td>\n",
       "      <td>RS Persahabatan</td>\n",
       "    </tr>\n",
       "    <tr>\n",
       "      <th>6</th>\n",
       "      <td>female</td>\n",
       "      <td>54.0</td>\n",
       "      <td>DKI Jakarta</td>\n",
       "      <td>released</td>\n",
       "      <td>9-Mar-20</td>\n",
       "      <td>NaN</td>\n",
       "    </tr>\n",
       "    <tr>\n",
       "      <th>7</th>\n",
       "      <td>male</td>\n",
       "      <td>55.0</td>\n",
       "      <td>DKI Jakarta</td>\n",
       "      <td>released</td>\n",
       "      <td>9-Mar-20</td>\n",
       "      <td>NaN</td>\n",
       "    </tr>\n",
       "    <tr>\n",
       "      <th>8</th>\n",
       "      <td>female</td>\n",
       "      <td>55.0</td>\n",
       "      <td>DKI Jakarta</td>\n",
       "      <td>released</td>\n",
       "      <td>9-Mar-20</td>\n",
       "      <td>NaN</td>\n",
       "    </tr>\n",
       "  </tbody>\n",
       "</table>\n",
       "</div>"
      ],
      "text/plain": [
       "   gender   age     province current_state confirmed_date  \\\n",
       "1  female  64.0  DKI Jakarta      released       2-Mar-20   \n",
       "4    male  55.0  DKI Jakarta      isolated       8-Mar-20   \n",
       "6  female  54.0  DKI Jakarta      released       9-Mar-20   \n",
       "7    male  55.0  DKI Jakarta      released       9-Mar-20   \n",
       "8  female  55.0  DKI Jakarta      released       9-Mar-20   \n",
       "\n",
       "               hospital  \n",
       "1  RSPI Sulianti Saroso  \n",
       "4       RS Persahabatan  \n",
       "6                   NaN  \n",
       "7                   NaN  \n",
       "8                   NaN  "
      ]
     },
     "execution_count": 462,
     "metadata": {},
     "output_type": "execute_result"
    }
   ],
   "source": [
    "covid_19_above_45 = covid_19_compact[covid_19_compact['age'] > 45]\n",
    "\n",
    "covid_19_above_45.head()"
   ]
  },
  {
   "cell_type": "code",
   "execution_count": 463,
   "metadata": {},
   "outputs": [
    {
     "data": {
      "text/plain": [
       "(87, 6)"
      ]
     },
     "execution_count": 463,
     "metadata": {},
     "output_type": "execute_result"
    }
   ],
   "source": [
    "covid_19_above_45.shape"
   ]
  },
  {
   "cell_type": "code",
   "execution_count": 465,
   "metadata": {},
   "outputs": [
    {
     "data": {
      "text/html": [
       "<div>\n",
       "<style scoped>\n",
       "    .dataframe tbody tr th:only-of-type {\n",
       "        vertical-align: middle;\n",
       "    }\n",
       "\n",
       "    .dataframe tbody tr th {\n",
       "        vertical-align: top;\n",
       "    }\n",
       "\n",
       "    .dataframe thead th {\n",
       "        text-align: right;\n",
       "    }\n",
       "</style>\n",
       "<table border=\"1\" class=\"dataframe\">\n",
       "  <thead>\n",
       "    <tr style=\"text-align: right;\">\n",
       "      <th></th>\n",
       "      <th>gender</th>\n",
       "      <th>age</th>\n",
       "      <th>province</th>\n",
       "      <th>current_state</th>\n",
       "      <th>confirmed_date</th>\n",
       "      <th>hospital</th>\n",
       "    </tr>\n",
       "  </thead>\n",
       "  <tbody>\n",
       "    <tr>\n",
       "      <th>4</th>\n",
       "      <td>male</td>\n",
       "      <td>55.0</td>\n",
       "      <td>DKI Jakarta</td>\n",
       "      <td>isolated</td>\n",
       "      <td>8-Mar-20</td>\n",
       "      <td>RS Persahabatan</td>\n",
       "    </tr>\n",
       "    <tr>\n",
       "      <th>5</th>\n",
       "      <td>male</td>\n",
       "      <td>36.0</td>\n",
       "      <td>DKI Jakarta</td>\n",
       "      <td>released</td>\n",
       "      <td>8-Mar-20</td>\n",
       "      <td>RS Persahabatan</td>\n",
       "    </tr>\n",
       "    <tr>\n",
       "      <th>7</th>\n",
       "      <td>male</td>\n",
       "      <td>55.0</td>\n",
       "      <td>DKI Jakarta</td>\n",
       "      <td>released</td>\n",
       "      <td>9-Mar-20</td>\n",
       "      <td>NaN</td>\n",
       "    </tr>\n",
       "    <tr>\n",
       "      <th>9</th>\n",
       "      <td>male</td>\n",
       "      <td>29.0</td>\n",
       "      <td>DKI Jakarta</td>\n",
       "      <td>isolated</td>\n",
       "      <td>9-Mar-20</td>\n",
       "      <td>RSPI Sulianti Saroso</td>\n",
       "    </tr>\n",
       "    <tr>\n",
       "      <th>11</th>\n",
       "      <td>male</td>\n",
       "      <td>31.0</td>\n",
       "      <td>DKI Jakarta</td>\n",
       "      <td>isolated</td>\n",
       "      <td>9-Mar-20</td>\n",
       "      <td>NaN</td>\n",
       "    </tr>\n",
       "    <tr>\n",
       "      <th>...</th>\n",
       "      <td>...</td>\n",
       "      <td>...</td>\n",
       "      <td>...</td>\n",
       "      <td>...</td>\n",
       "      <td>...</td>\n",
       "      <td>...</td>\n",
       "    </tr>\n",
       "    <tr>\n",
       "      <th>159</th>\n",
       "      <td>male</td>\n",
       "      <td>52.0</td>\n",
       "      <td>DKI Jakarta</td>\n",
       "      <td>isolated</td>\n",
       "      <td>17-Mar-20</td>\n",
       "      <td>NaN</td>\n",
       "    </tr>\n",
       "    <tr>\n",
       "      <th>162</th>\n",
       "      <td>male</td>\n",
       "      <td>34.0</td>\n",
       "      <td>DKI Jakarta</td>\n",
       "      <td>isolated</td>\n",
       "      <td>17-Mar-20</td>\n",
       "      <td>NaN</td>\n",
       "    </tr>\n",
       "    <tr>\n",
       "      <th>167</th>\n",
       "      <td>male</td>\n",
       "      <td>38.0</td>\n",
       "      <td>DKI Jakarta</td>\n",
       "      <td>isolated</td>\n",
       "      <td>17-Mar-20</td>\n",
       "      <td>NaN</td>\n",
       "    </tr>\n",
       "    <tr>\n",
       "      <th>169</th>\n",
       "      <td>male</td>\n",
       "      <td>32.0</td>\n",
       "      <td>DKI Jakarta</td>\n",
       "      <td>isolated</td>\n",
       "      <td>17-Mar-20</td>\n",
       "      <td>NaN</td>\n",
       "    </tr>\n",
       "    <tr>\n",
       "      <th>170</th>\n",
       "      <td>male</td>\n",
       "      <td>67.0</td>\n",
       "      <td>DKI Jakarta</td>\n",
       "      <td>isolated</td>\n",
       "      <td>17-Mar-20</td>\n",
       "      <td>NaN</td>\n",
       "    </tr>\n",
       "  </tbody>\n",
       "</table>\n",
       "<p>67 rows × 6 columns</p>\n",
       "</div>"
      ],
      "text/plain": [
       "    gender   age     province current_state confirmed_date  \\\n",
       "4     male  55.0  DKI Jakarta      isolated       8-Mar-20   \n",
       "5     male  36.0  DKI Jakarta      released       8-Mar-20   \n",
       "7     male  55.0  DKI Jakarta      released       9-Mar-20   \n",
       "9     male  29.0  DKI Jakarta      isolated       9-Mar-20   \n",
       "11    male  31.0  DKI Jakarta      isolated       9-Mar-20   \n",
       "..     ...   ...          ...           ...            ...   \n",
       "159   male  52.0  DKI Jakarta      isolated      17-Mar-20   \n",
       "162   male  34.0  DKI Jakarta      isolated      17-Mar-20   \n",
       "167   male  38.0  DKI Jakarta      isolated      17-Mar-20   \n",
       "169   male  32.0  DKI Jakarta      isolated      17-Mar-20   \n",
       "170   male  67.0  DKI Jakarta      isolated      17-Mar-20   \n",
       "\n",
       "                 hospital  \n",
       "4         RS Persahabatan  \n",
       "5         RS Persahabatan  \n",
       "7                     NaN  \n",
       "9    RSPI Sulianti Saroso  \n",
       "11                    NaN  \n",
       "..                    ...  \n",
       "159                   NaN  \n",
       "162                   NaN  \n",
       "167                   NaN  \n",
       "169                   NaN  \n",
       "170                   NaN  \n",
       "\n",
       "[67 rows x 6 columns]"
      ]
     },
     "execution_count": 465,
     "metadata": {},
     "output_type": "execute_result"
    }
   ],
   "source": [
    "covid_19_DKI_male = covid_19_compact[(covid_19_compact['province'] == 'DKI Jakarta') & (covid_19_compact['gender'] == 'male')]\n",
    "\n",
    "covid_19_DKI_male.head(100)"
   ]
  },
  {
   "cell_type": "code",
   "execution_count": 466,
   "metadata": {},
   "outputs": [
    {
     "data": {
      "text/plain": [
       "(67, 6)"
      ]
     },
     "execution_count": 466,
     "metadata": {},
     "output_type": "execute_result"
    }
   ],
   "source": [
    "covid_19_DKI_male.shape"
   ]
  },
  {
   "cell_type": "markdown",
   "metadata": {},
   "source": [
    "- Ketika kita hendak menggabungkan lebih dari satu conditional statement, jangan lupa untuk menggunakan bracket `()`,\n",
    "- selanjutnya kita tidak bisa menggunakan **or**/**and** operator untuk menggabuankan conditional statement, kita dapat menggunakan **|** untuk **or**, **&** untuk **and**."
   ]
  },
  {
   "cell_type": "markdown",
   "metadata": {},
   "source": [
    "#### Filter dengan fungsi isin()"
   ]
  },
  {
   "cell_type": "code",
   "execution_count": 467,
   "metadata": {},
   "outputs": [
    {
     "data": {
      "text/html": [
       "<div>\n",
       "<style scoped>\n",
       "    .dataframe tbody tr th:only-of-type {\n",
       "        vertical-align: middle;\n",
       "    }\n",
       "\n",
       "    .dataframe tbody tr th {\n",
       "        vertical-align: top;\n",
       "    }\n",
       "\n",
       "    .dataframe thead th {\n",
       "        text-align: right;\n",
       "    }\n",
       "</style>\n",
       "<table border=\"1\" class=\"dataframe\">\n",
       "  <thead>\n",
       "    <tr style=\"text-align: right;\">\n",
       "      <th></th>\n",
       "      <th>gender</th>\n",
       "      <th>age</th>\n",
       "      <th>province</th>\n",
       "      <th>current_state</th>\n",
       "      <th>confirmed_date</th>\n",
       "      <th>hospital</th>\n",
       "    </tr>\n",
       "  </thead>\n",
       "  <tbody>\n",
       "    <tr>\n",
       "      <th>0</th>\n",
       "      <td>female</td>\n",
       "      <td>31.0</td>\n",
       "      <td>DKI Jakarta</td>\n",
       "      <td>released</td>\n",
       "      <td>2-Mar-20</td>\n",
       "      <td>RSPI Sulianti Saroso</td>\n",
       "    </tr>\n",
       "    <tr>\n",
       "      <th>1</th>\n",
       "      <td>female</td>\n",
       "      <td>64.0</td>\n",
       "      <td>DKI Jakarta</td>\n",
       "      <td>released</td>\n",
       "      <td>2-Mar-20</td>\n",
       "      <td>RSPI Sulianti Saroso</td>\n",
       "    </tr>\n",
       "    <tr>\n",
       "      <th>2</th>\n",
       "      <td>female</td>\n",
       "      <td>33.0</td>\n",
       "      <td>DKI Jakarta</td>\n",
       "      <td>released</td>\n",
       "      <td>6-Mar-20</td>\n",
       "      <td>RSPI Sulianti Saroso</td>\n",
       "    </tr>\n",
       "    <tr>\n",
       "      <th>3</th>\n",
       "      <td>female</td>\n",
       "      <td>34.0</td>\n",
       "      <td>DKI Jakarta</td>\n",
       "      <td>isolated</td>\n",
       "      <td>6-Mar-20</td>\n",
       "      <td>RSPI Sulianti Saroso</td>\n",
       "    </tr>\n",
       "    <tr>\n",
       "      <th>4</th>\n",
       "      <td>male</td>\n",
       "      <td>55.0</td>\n",
       "      <td>DKI Jakarta</td>\n",
       "      <td>isolated</td>\n",
       "      <td>8-Mar-20</td>\n",
       "      <td>RS Persahabatan</td>\n",
       "    </tr>\n",
       "  </tbody>\n",
       "</table>\n",
       "</div>"
      ],
      "text/plain": [
       "   gender   age     province current_state confirmed_date  \\\n",
       "0  female  31.0  DKI Jakarta      released       2-Mar-20   \n",
       "1  female  64.0  DKI Jakarta      released       2-Mar-20   \n",
       "2  female  33.0  DKI Jakarta      released       6-Mar-20   \n",
       "3  female  34.0  DKI Jakarta      isolated       6-Mar-20   \n",
       "4    male  55.0  DKI Jakarta      isolated       8-Mar-20   \n",
       "\n",
       "               hospital  \n",
       "0  RSPI Sulianti Saroso  \n",
       "1  RSPI Sulianti Saroso  \n",
       "2  RSPI Sulianti Saroso  \n",
       "3  RSPI Sulianti Saroso  \n",
       "4       RS Persahabatan  "
      ]
     },
     "execution_count": 467,
     "metadata": {},
     "output_type": "execute_result"
    }
   ],
   "source": [
    "covid_19_DKI_Banten = covid_19_compact[ covid_19_compact['province'].isin(['Banten', 'DKI Jakarta'])]\n",
    "\n",
    "covid_19_DKI_Banten.head()"
   ]
  },
  {
   "cell_type": "code",
   "execution_count": 37,
   "metadata": {},
   "outputs": [
    {
     "data": {
      "text/plain": [
       "(130, 6)"
      ]
     },
     "execution_count": 37,
     "metadata": {},
     "output_type": "execute_result"
    }
   ],
   "source": [
    "covid_19_DKI_Banten.shape"
   ]
  },
  {
   "cell_type": "code",
   "execution_count": 468,
   "metadata": {},
   "outputs": [
    {
     "data": {
      "text/html": [
       "<div>\n",
       "<style scoped>\n",
       "    .dataframe tbody tr th:only-of-type {\n",
       "        vertical-align: middle;\n",
       "    }\n",
       "\n",
       "    .dataframe tbody tr th {\n",
       "        vertical-align: top;\n",
       "    }\n",
       "\n",
       "    .dataframe thead th {\n",
       "        text-align: right;\n",
       "    }\n",
       "</style>\n",
       "<table border=\"1\" class=\"dataframe\">\n",
       "  <thead>\n",
       "    <tr style=\"text-align: right;\">\n",
       "      <th></th>\n",
       "      <th>gender</th>\n",
       "      <th>age</th>\n",
       "      <th>province</th>\n",
       "      <th>current_state</th>\n",
       "      <th>confirmed_date</th>\n",
       "      <th>hospital</th>\n",
       "    </tr>\n",
       "  </thead>\n",
       "  <tbody>\n",
       "    <tr>\n",
       "      <th>0</th>\n",
       "      <td>female</td>\n",
       "      <td>31.0</td>\n",
       "      <td>DKI Jakarta</td>\n",
       "      <td>released</td>\n",
       "      <td>2-Mar-20</td>\n",
       "      <td>RSPI Sulianti Saroso</td>\n",
       "    </tr>\n",
       "    <tr>\n",
       "      <th>1</th>\n",
       "      <td>female</td>\n",
       "      <td>64.0</td>\n",
       "      <td>DKI Jakarta</td>\n",
       "      <td>released</td>\n",
       "      <td>2-Mar-20</td>\n",
       "      <td>RSPI Sulianti Saroso</td>\n",
       "    </tr>\n",
       "    <tr>\n",
       "      <th>2</th>\n",
       "      <td>female</td>\n",
       "      <td>33.0</td>\n",
       "      <td>DKI Jakarta</td>\n",
       "      <td>released</td>\n",
       "      <td>6-Mar-20</td>\n",
       "      <td>RSPI Sulianti Saroso</td>\n",
       "    </tr>\n",
       "    <tr>\n",
       "      <th>3</th>\n",
       "      <td>female</td>\n",
       "      <td>34.0</td>\n",
       "      <td>DKI Jakarta</td>\n",
       "      <td>isolated</td>\n",
       "      <td>6-Mar-20</td>\n",
       "      <td>RSPI Sulianti Saroso</td>\n",
       "    </tr>\n",
       "    <tr>\n",
       "      <th>4</th>\n",
       "      <td>male</td>\n",
       "      <td>55.0</td>\n",
       "      <td>DKI Jakarta</td>\n",
       "      <td>isolated</td>\n",
       "      <td>8-Mar-20</td>\n",
       "      <td>RS Persahabatan</td>\n",
       "    </tr>\n",
       "  </tbody>\n",
       "</table>\n",
       "</div>"
      ],
      "text/plain": [
       "   gender   age     province current_state confirmed_date  \\\n",
       "0  female  31.0  DKI Jakarta      released       2-Mar-20   \n",
       "1  female  64.0  DKI Jakarta      released       2-Mar-20   \n",
       "2  female  33.0  DKI Jakarta      released       6-Mar-20   \n",
       "3  female  34.0  DKI Jakarta      isolated       6-Mar-20   \n",
       "4    male  55.0  DKI Jakarta      isolated       8-Mar-20   \n",
       "\n",
       "               hospital  \n",
       "0  RSPI Sulianti Saroso  \n",
       "1  RSPI Sulianti Saroso  \n",
       "2  RSPI Sulianti Saroso  \n",
       "3  RSPI Sulianti Saroso  \n",
       "4       RS Persahabatan  "
      ]
     },
     "execution_count": 468,
     "metadata": {},
     "output_type": "execute_result"
    }
   ],
   "source": [
    "covid_19_DKI_Banten = covid_19_compact[(covid_19_compact['province'] == 'Banten') | \n",
    "                                       (covid_19_compact['province'] == 'DKI Jakarta')]\n",
    "\n",
    "covid_19_DKI_Banten.head()"
   ]
  },
  {
   "cell_type": "code",
   "execution_count": 39,
   "metadata": {},
   "outputs": [
    {
     "data": {
      "text/plain": [
       "(130, 6)"
      ]
     },
     "execution_count": 39,
     "metadata": {},
     "output_type": "execute_result"
    }
   ],
   "source": [
    "covid_19_DKI_Banten.shape"
   ]
  },
  {
   "cell_type": "code",
   "execution_count": 469,
   "metadata": {},
   "outputs": [
    {
     "data": {
      "text/plain": [
       "((156, 6), (893, 6))"
      ]
     },
     "execution_count": 469,
     "metadata": {},
     "output_type": "execute_result"
    }
   ],
   "source": [
    "covid_19_compact_clean = covid_19_compact[covid_19_compact['age'].notna()]\n",
    "\n",
    "covid_19_compact_clean.shape, covid_19_compact.shape"
   ]
  },
  {
   "cell_type": "markdown",
   "metadata": {},
   "source": [
    "#### Sorting Dataframe"
   ]
  },
  {
   "cell_type": "code",
   "execution_count": 470,
   "metadata": {},
   "outputs": [
    {
     "data": {
      "text/html": [
       "<div>\n",
       "<style scoped>\n",
       "    .dataframe tbody tr th:only-of-type {\n",
       "        vertical-align: middle;\n",
       "    }\n",
       "\n",
       "    .dataframe tbody tr th {\n",
       "        vertical-align: top;\n",
       "    }\n",
       "\n",
       "    .dataframe thead th {\n",
       "        text-align: right;\n",
       "    }\n",
       "</style>\n",
       "<table border=\"1\" class=\"dataframe\">\n",
       "  <thead>\n",
       "    <tr style=\"text-align: right;\">\n",
       "      <th></th>\n",
       "      <th>gender</th>\n",
       "      <th>age</th>\n",
       "      <th>province</th>\n",
       "      <th>current_state</th>\n",
       "      <th>confirmed_date</th>\n",
       "      <th>hospital</th>\n",
       "    </tr>\n",
       "  </thead>\n",
       "  <tbody>\n",
       "    <tr>\n",
       "      <th>53</th>\n",
       "      <td>male</td>\n",
       "      <td>2.0</td>\n",
       "      <td>DKI Jakarta</td>\n",
       "      <td>isolated</td>\n",
       "      <td>13-Mar-20</td>\n",
       "      <td>NaN</td>\n",
       "    </tr>\n",
       "    <tr>\n",
       "      <th>48</th>\n",
       "      <td>male</td>\n",
       "      <td>3.0</td>\n",
       "      <td>DI Yogyakarta</td>\n",
       "      <td>isolated</td>\n",
       "      <td>13-Mar-20</td>\n",
       "      <td>NaN</td>\n",
       "    </tr>\n",
       "    <tr>\n",
       "      <th>12</th>\n",
       "      <td>female</td>\n",
       "      <td>16.0</td>\n",
       "      <td>DKI Jakarta</td>\n",
       "      <td>released</td>\n",
       "      <td>9-Mar-20</td>\n",
       "      <td>NaN</td>\n",
       "    </tr>\n",
       "    <tr>\n",
       "      <th>15</th>\n",
       "      <td>female</td>\n",
       "      <td>17.0</td>\n",
       "      <td>Jawa Barat</td>\n",
       "      <td>isolated</td>\n",
       "      <td>9-Mar-20</td>\n",
       "      <td>NaN</td>\n",
       "    </tr>\n",
       "    <tr>\n",
       "      <th>156</th>\n",
       "      <td>male</td>\n",
       "      <td>19.0</td>\n",
       "      <td>Kalimantan Barat</td>\n",
       "      <td>isolated</td>\n",
       "      <td>17-Mar-20</td>\n",
       "      <td>NaN</td>\n",
       "    </tr>\n",
       "    <tr>\n",
       "      <th>...</th>\n",
       "      <td>...</td>\n",
       "      <td>...</td>\n",
       "      <td>...</td>\n",
       "      <td>...</td>\n",
       "      <td>...</td>\n",
       "      <td>...</td>\n",
       "    </tr>\n",
       "    <tr>\n",
       "      <th>68</th>\n",
       "      <td>male</td>\n",
       "      <td>80.0</td>\n",
       "      <td>DKI Jakarta</td>\n",
       "      <td>isolated</td>\n",
       "      <td>13-Mar-20</td>\n",
       "      <td>NaN</td>\n",
       "    </tr>\n",
       "    <tr>\n",
       "      <th>157</th>\n",
       "      <td>female</td>\n",
       "      <td>80.0</td>\n",
       "      <td>DKI Jakarta</td>\n",
       "      <td>isolated</td>\n",
       "      <td>17-Mar-20</td>\n",
       "      <td>NaN</td>\n",
       "    </tr>\n",
       "    <tr>\n",
       "      <th>37</th>\n",
       "      <td>female</td>\n",
       "      <td>80.0</td>\n",
       "      <td>DKI Jakarta</td>\n",
       "      <td>isolated</td>\n",
       "      <td>13-Mar-20</td>\n",
       "      <td>NaN</td>\n",
       "    </tr>\n",
       "    <tr>\n",
       "      <th>29</th>\n",
       "      <td>male</td>\n",
       "      <td>85.0</td>\n",
       "      <td>DKI Jakarta</td>\n",
       "      <td>isolated</td>\n",
       "      <td>11-Mar-20</td>\n",
       "      <td>NaN</td>\n",
       "    </tr>\n",
       "    <tr>\n",
       "      <th>80</th>\n",
       "      <td>male</td>\n",
       "      <td>86.0</td>\n",
       "      <td>DKI Jakarta</td>\n",
       "      <td>isolated</td>\n",
       "      <td>14-Mar-20</td>\n",
       "      <td>NaN</td>\n",
       "    </tr>\n",
       "  </tbody>\n",
       "</table>\n",
       "<p>156 rows × 6 columns</p>\n",
       "</div>"
      ],
      "text/plain": [
       "     gender   age          province current_state confirmed_date hospital\n",
       "53     male   2.0       DKI Jakarta      isolated      13-Mar-20      NaN\n",
       "48     male   3.0     DI Yogyakarta      isolated      13-Mar-20      NaN\n",
       "12   female  16.0       DKI Jakarta      released       9-Mar-20      NaN\n",
       "15   female  17.0        Jawa Barat      isolated       9-Mar-20      NaN\n",
       "156    male  19.0  Kalimantan Barat      isolated      17-Mar-20      NaN\n",
       "..      ...   ...               ...           ...            ...      ...\n",
       "68     male  80.0       DKI Jakarta      isolated      13-Mar-20      NaN\n",
       "157  female  80.0       DKI Jakarta      isolated      17-Mar-20      NaN\n",
       "37   female  80.0       DKI Jakarta      isolated      13-Mar-20      NaN\n",
       "29     male  85.0       DKI Jakarta      isolated      11-Mar-20      NaN\n",
       "80     male  86.0       DKI Jakarta      isolated      14-Mar-20      NaN\n",
       "\n",
       "[156 rows x 6 columns]"
      ]
     },
     "execution_count": 470,
     "metadata": {},
     "output_type": "execute_result"
    }
   ],
   "source": [
    "covid_19_compact_clean.sort_values(by=[\"age\"])"
   ]
  },
  {
   "cell_type": "code",
   "execution_count": 471,
   "metadata": {},
   "outputs": [
    {
     "data": {
      "text/html": [
       "<div>\n",
       "<style scoped>\n",
       "    .dataframe tbody tr th:only-of-type {\n",
       "        vertical-align: middle;\n",
       "    }\n",
       "\n",
       "    .dataframe tbody tr th {\n",
       "        vertical-align: top;\n",
       "    }\n",
       "\n",
       "    .dataframe thead th {\n",
       "        text-align: right;\n",
       "    }\n",
       "</style>\n",
       "<table border=\"1\" class=\"dataframe\">\n",
       "  <thead>\n",
       "    <tr style=\"text-align: right;\">\n",
       "      <th></th>\n",
       "      <th>gender</th>\n",
       "      <th>age</th>\n",
       "      <th>province</th>\n",
       "      <th>current_state</th>\n",
       "      <th>confirmed_date</th>\n",
       "      <th>hospital</th>\n",
       "    </tr>\n",
       "  </thead>\n",
       "  <tbody>\n",
       "    <tr>\n",
       "      <th>80</th>\n",
       "      <td>male</td>\n",
       "      <td>86.0</td>\n",
       "      <td>DKI Jakarta</td>\n",
       "      <td>isolated</td>\n",
       "      <td>14-Mar-20</td>\n",
       "      <td>NaN</td>\n",
       "    </tr>\n",
       "    <tr>\n",
       "      <th>29</th>\n",
       "      <td>male</td>\n",
       "      <td>85.0</td>\n",
       "      <td>DKI Jakarta</td>\n",
       "      <td>isolated</td>\n",
       "      <td>11-Mar-20</td>\n",
       "      <td>NaN</td>\n",
       "    </tr>\n",
       "    <tr>\n",
       "      <th>68</th>\n",
       "      <td>male</td>\n",
       "      <td>80.0</td>\n",
       "      <td>DKI Jakarta</td>\n",
       "      <td>isolated</td>\n",
       "      <td>13-Mar-20</td>\n",
       "      <td>NaN</td>\n",
       "    </tr>\n",
       "    <tr>\n",
       "      <th>37</th>\n",
       "      <td>female</td>\n",
       "      <td>80.0</td>\n",
       "      <td>DKI Jakarta</td>\n",
       "      <td>isolated</td>\n",
       "      <td>13-Mar-20</td>\n",
       "      <td>NaN</td>\n",
       "    </tr>\n",
       "    <tr>\n",
       "      <th>157</th>\n",
       "      <td>female</td>\n",
       "      <td>80.0</td>\n",
       "      <td>DKI Jakarta</td>\n",
       "      <td>isolated</td>\n",
       "      <td>17-Mar-20</td>\n",
       "      <td>NaN</td>\n",
       "    </tr>\n",
       "    <tr>\n",
       "      <th>...</th>\n",
       "      <td>...</td>\n",
       "      <td>...</td>\n",
       "      <td>...</td>\n",
       "      <td>...</td>\n",
       "      <td>...</td>\n",
       "      <td>...</td>\n",
       "    </tr>\n",
       "    <tr>\n",
       "      <th>156</th>\n",
       "      <td>male</td>\n",
       "      <td>19.0</td>\n",
       "      <td>Kalimantan Barat</td>\n",
       "      <td>isolated</td>\n",
       "      <td>17-Mar-20</td>\n",
       "      <td>NaN</td>\n",
       "    </tr>\n",
       "    <tr>\n",
       "      <th>15</th>\n",
       "      <td>female</td>\n",
       "      <td>17.0</td>\n",
       "      <td>Jawa Barat</td>\n",
       "      <td>isolated</td>\n",
       "      <td>9-Mar-20</td>\n",
       "      <td>NaN</td>\n",
       "    </tr>\n",
       "    <tr>\n",
       "      <th>12</th>\n",
       "      <td>female</td>\n",
       "      <td>16.0</td>\n",
       "      <td>DKI Jakarta</td>\n",
       "      <td>released</td>\n",
       "      <td>9-Mar-20</td>\n",
       "      <td>NaN</td>\n",
       "    </tr>\n",
       "    <tr>\n",
       "      <th>48</th>\n",
       "      <td>male</td>\n",
       "      <td>3.0</td>\n",
       "      <td>DI Yogyakarta</td>\n",
       "      <td>isolated</td>\n",
       "      <td>13-Mar-20</td>\n",
       "      <td>NaN</td>\n",
       "    </tr>\n",
       "    <tr>\n",
       "      <th>53</th>\n",
       "      <td>male</td>\n",
       "      <td>2.0</td>\n",
       "      <td>DKI Jakarta</td>\n",
       "      <td>isolated</td>\n",
       "      <td>13-Mar-20</td>\n",
       "      <td>NaN</td>\n",
       "    </tr>\n",
       "  </tbody>\n",
       "</table>\n",
       "<p>156 rows × 6 columns</p>\n",
       "</div>"
      ],
      "text/plain": [
       "     gender   age          province current_state confirmed_date hospital\n",
       "80     male  86.0       DKI Jakarta      isolated      14-Mar-20      NaN\n",
       "29     male  85.0       DKI Jakarta      isolated      11-Mar-20      NaN\n",
       "68     male  80.0       DKI Jakarta      isolated      13-Mar-20      NaN\n",
       "37   female  80.0       DKI Jakarta      isolated      13-Mar-20      NaN\n",
       "157  female  80.0       DKI Jakarta      isolated      17-Mar-20      NaN\n",
       "..      ...   ...               ...           ...            ...      ...\n",
       "156    male  19.0  Kalimantan Barat      isolated      17-Mar-20      NaN\n",
       "15   female  17.0        Jawa Barat      isolated       9-Mar-20      NaN\n",
       "12   female  16.0       DKI Jakarta      released       9-Mar-20      NaN\n",
       "48     male   3.0     DI Yogyakarta      isolated      13-Mar-20      NaN\n",
       "53     male   2.0       DKI Jakarta      isolated      13-Mar-20      NaN\n",
       "\n",
       "[156 rows x 6 columns]"
      ]
     },
     "execution_count": 471,
     "metadata": {},
     "output_type": "execute_result"
    }
   ],
   "source": [
    "covid_19_compact_clean.sort_values(by=[\"age\"], ascending=False)"
   ]
  },
  {
   "cell_type": "code",
   "execution_count": 472,
   "metadata": {
    "scrolled": true
   },
   "outputs": [
    {
     "data": {
      "text/html": [
       "<div>\n",
       "<style scoped>\n",
       "    .dataframe tbody tr th:only-of-type {\n",
       "        vertical-align: middle;\n",
       "    }\n",
       "\n",
       "    .dataframe tbody tr th {\n",
       "        vertical-align: top;\n",
       "    }\n",
       "\n",
       "    .dataframe thead th {\n",
       "        text-align: right;\n",
       "    }\n",
       "</style>\n",
       "<table border=\"1\" class=\"dataframe\">\n",
       "  <thead>\n",
       "    <tr style=\"text-align: right;\">\n",
       "      <th></th>\n",
       "      <th>gender</th>\n",
       "      <th>age</th>\n",
       "      <th>province</th>\n",
       "      <th>current_state</th>\n",
       "      <th>confirmed_date</th>\n",
       "      <th>hospital</th>\n",
       "    </tr>\n",
       "  </thead>\n",
       "  <tbody>\n",
       "    <tr>\n",
       "      <th>24</th>\n",
       "      <td>female</td>\n",
       "      <td>53.0</td>\n",
       "      <td>Bali</td>\n",
       "      <td>deceased</td>\n",
       "      <td>10-Mar-20</td>\n",
       "      <td>RS Sanglah</td>\n",
       "    </tr>\n",
       "    <tr>\n",
       "      <th>47</th>\n",
       "      <td>male</td>\n",
       "      <td>35.0</td>\n",
       "      <td>Banten</td>\n",
       "      <td>isolated</td>\n",
       "      <td>13-Mar-20</td>\n",
       "      <td>NaN</td>\n",
       "    </tr>\n",
       "    <tr>\n",
       "      <th>91</th>\n",
       "      <td>male</td>\n",
       "      <td>39.0</td>\n",
       "      <td>Banten</td>\n",
       "      <td>isolated</td>\n",
       "      <td>14-Mar-20</td>\n",
       "      <td>NaN</td>\n",
       "    </tr>\n",
       "    <tr>\n",
       "      <th>17</th>\n",
       "      <td>male</td>\n",
       "      <td>55.0</td>\n",
       "      <td>Banten</td>\n",
       "      <td>isolated</td>\n",
       "      <td>9-Mar-20</td>\n",
       "      <td>RS Persahabatan</td>\n",
       "    </tr>\n",
       "    <tr>\n",
       "      <th>34</th>\n",
       "      <td>female</td>\n",
       "      <td>57.0</td>\n",
       "      <td>Banten</td>\n",
       "      <td>deceased</td>\n",
       "      <td>13-Mar-20</td>\n",
       "      <td>NaN</td>\n",
       "    </tr>\n",
       "    <tr>\n",
       "      <th>...</th>\n",
       "      <td>...</td>\n",
       "      <td>...</td>\n",
       "      <td>...</td>\n",
       "      <td>...</td>\n",
       "      <td>...</td>\n",
       "      <td>...</td>\n",
       "    </tr>\n",
       "    <tr>\n",
       "      <th>163</th>\n",
       "      <td>male</td>\n",
       "      <td>56.0</td>\n",
       "      <td>Jawa Timur</td>\n",
       "      <td>isolated</td>\n",
       "      <td>17-Mar-20</td>\n",
       "      <td>NaN</td>\n",
       "    </tr>\n",
       "    <tr>\n",
       "      <th>156</th>\n",
       "      <td>male</td>\n",
       "      <td>19.0</td>\n",
       "      <td>Kalimantan Barat</td>\n",
       "      <td>isolated</td>\n",
       "      <td>17-Mar-20</td>\n",
       "      <td>NaN</td>\n",
       "    </tr>\n",
       "    <tr>\n",
       "      <th>62</th>\n",
       "      <td>male</td>\n",
       "      <td>34.0</td>\n",
       "      <td>Kalimantan Barat</td>\n",
       "      <td>isolated</td>\n",
       "      <td>13-Mar-20</td>\n",
       "      <td>NaN</td>\n",
       "    </tr>\n",
       "    <tr>\n",
       "      <th>139</th>\n",
       "      <td>male</td>\n",
       "      <td>71.0</td>\n",
       "      <td>Kepulauan Riau</td>\n",
       "      <td>isolated</td>\n",
       "      <td>17-Mar-20</td>\n",
       "      <td>NaN</td>\n",
       "    </tr>\n",
       "    <tr>\n",
       "      <th>61</th>\n",
       "      <td>male</td>\n",
       "      <td>51.0</td>\n",
       "      <td>Sulawesi Utara</td>\n",
       "      <td>isolated</td>\n",
       "      <td>13-Mar-20</td>\n",
       "      <td>NaN</td>\n",
       "    </tr>\n",
       "  </tbody>\n",
       "</table>\n",
       "<p>156 rows × 6 columns</p>\n",
       "</div>"
      ],
      "text/plain": [
       "     gender   age          province current_state confirmed_date  \\\n",
       "24   female  53.0              Bali      deceased      10-Mar-20   \n",
       "47     male  35.0            Banten      isolated      13-Mar-20   \n",
       "91     male  39.0            Banten      isolated      14-Mar-20   \n",
       "17     male  55.0            Banten      isolated       9-Mar-20   \n",
       "34   female  57.0            Banten      deceased      13-Mar-20   \n",
       "..      ...   ...               ...           ...            ...   \n",
       "163    male  56.0        Jawa Timur      isolated      17-Mar-20   \n",
       "156    male  19.0  Kalimantan Barat      isolated      17-Mar-20   \n",
       "62     male  34.0  Kalimantan Barat      isolated      13-Mar-20   \n",
       "139    male  71.0    Kepulauan Riau      isolated      17-Mar-20   \n",
       "61     male  51.0    Sulawesi Utara      isolated      13-Mar-20   \n",
       "\n",
       "            hospital  \n",
       "24        RS Sanglah  \n",
       "47               NaN  \n",
       "91               NaN  \n",
       "17   RS Persahabatan  \n",
       "34               NaN  \n",
       "..               ...  \n",
       "163              NaN  \n",
       "156              NaN  \n",
       "62               NaN  \n",
       "139              NaN  \n",
       "61               NaN  \n",
       "\n",
       "[156 rows x 6 columns]"
      ]
     },
     "execution_count": 472,
     "metadata": {},
     "output_type": "execute_result"
    }
   ],
   "source": [
    "covid_19_compact_clean.sort_values(by=[\"province\", \"age\", ] , ascending=[True, True])"
   ]
  },
  {
   "cell_type": "markdown",
   "metadata": {},
   "source": [
    "### Grouping data"
   ]
  },
  {
   "cell_type": "markdown",
   "metadata": {},
   "source": [
    "- Group by province & dan cari rata-rata umur "
   ]
  },
  {
   "cell_type": "code",
   "execution_count": 473,
   "metadata": {},
   "outputs": [],
   "source": [
    "Group_By_Province = covid_19_compact_clean.groupby(\"province\")"
   ]
  },
  {
   "cell_type": "code",
   "execution_count": 474,
   "metadata": {},
   "outputs": [
    {
     "data": {
      "text/plain": [
       "province\n",
       "Bali                  1\n",
       "Banten                6\n",
       "DI Yogyakarta         1\n",
       "DKI Jakarta         124\n",
       "Jawa Barat            9\n",
       "Jawa Tengah           4\n",
       "Jawa Timur            7\n",
       "Kalimantan Barat      2\n",
       "Kepulauan Riau        1\n",
       "Sulawesi Utara        1\n",
       "Name: province, dtype: int64"
      ]
     },
     "execution_count": 474,
     "metadata": {},
     "output_type": "execute_result"
    }
   ],
   "source": [
    "Group_By_Province[\"province\"].count()"
   ]
  },
  {
   "cell_type": "code",
   "execution_count": 54,
   "metadata": {},
   "outputs": [
    {
     "data": {
      "text/html": [
       "<div>\n",
       "<style scoped>\n",
       "    .dataframe tbody tr th:only-of-type {\n",
       "        vertical-align: middle;\n",
       "    }\n",
       "\n",
       "    .dataframe tbody tr th {\n",
       "        vertical-align: top;\n",
       "    }\n",
       "\n",
       "    .dataframe thead th {\n",
       "        text-align: right;\n",
       "    }\n",
       "</style>\n",
       "<table border=\"1\" class=\"dataframe\">\n",
       "  <thead>\n",
       "    <tr style=\"text-align: right;\">\n",
       "      <th></th>\n",
       "      <th>gender</th>\n",
       "      <th>age</th>\n",
       "      <th>current_state</th>\n",
       "      <th>confirmed_date</th>\n",
       "      <th>hospital</th>\n",
       "    </tr>\n",
       "  </thead>\n",
       "  <tbody>\n",
       "    <tr>\n",
       "      <th>49</th>\n",
       "      <td>male</td>\n",
       "      <td>59.0</td>\n",
       "      <td>deceased</td>\n",
       "      <td>13-Mar-20</td>\n",
       "      <td>RS Dr Moewardi</td>\n",
       "    </tr>\n",
       "    <tr>\n",
       "      <th>50</th>\n",
       "      <td>male</td>\n",
       "      <td>60.0</td>\n",
       "      <td>isolated</td>\n",
       "      <td>13-Mar-20</td>\n",
       "      <td>NaN</td>\n",
       "    </tr>\n",
       "    <tr>\n",
       "      <th>117</th>\n",
       "      <td>male</td>\n",
       "      <td>43.0</td>\n",
       "      <td>deceased</td>\n",
       "      <td>16-Mar-20</td>\n",
       "      <td>NaN</td>\n",
       "    </tr>\n",
       "    <tr>\n",
       "      <th>148</th>\n",
       "      <td>female</td>\n",
       "      <td>45.0</td>\n",
       "      <td>isolated</td>\n",
       "      <td>17-Mar-20</td>\n",
       "      <td>NaN</td>\n",
       "    </tr>\n",
       "  </tbody>\n",
       "</table>\n",
       "</div>"
      ],
      "text/plain": [
       "     gender   age current_state confirmed_date        hospital\n",
       "49     male  59.0      deceased      13-Mar-20  RS Dr Moewardi\n",
       "50     male  60.0      isolated      13-Mar-20             NaN\n",
       "117    male  43.0      deceased      16-Mar-20             NaN\n",
       "148  female  45.0      isolated      17-Mar-20             NaN"
      ]
     },
     "execution_count": 54,
     "metadata": {},
     "output_type": "execute_result"
    }
   ],
   "source": [
    "Group_By_Province.get_group('Jawa Tengah')"
   ]
  },
  {
   "cell_type": "code",
   "execution_count": 475,
   "metadata": {},
   "outputs": [],
   "source": [
    "Age_mean_per_Province = Group_By_Province[[\"province\", \"age\"]].mean()"
   ]
  },
  {
   "cell_type": "code",
   "execution_count": 476,
   "metadata": {},
   "outputs": [
    {
     "data": {
      "text/html": [
       "<div>\n",
       "<style scoped>\n",
       "    .dataframe tbody tr th:only-of-type {\n",
       "        vertical-align: middle;\n",
       "    }\n",
       "\n",
       "    .dataframe tbody tr th {\n",
       "        vertical-align: top;\n",
       "    }\n",
       "\n",
       "    .dataframe thead th {\n",
       "        text-align: right;\n",
       "    }\n",
       "</style>\n",
       "<table border=\"1\" class=\"dataframe\">\n",
       "  <thead>\n",
       "    <tr style=\"text-align: right;\">\n",
       "      <th></th>\n",
       "      <th>age</th>\n",
       "    </tr>\n",
       "    <tr>\n",
       "      <th>province</th>\n",
       "      <th></th>\n",
       "    </tr>\n",
       "  </thead>\n",
       "  <tbody>\n",
       "    <tr>\n",
       "      <th>Bali</th>\n",
       "      <td>53.000000</td>\n",
       "    </tr>\n",
       "    <tr>\n",
       "      <th>Banten</th>\n",
       "      <td>51.666667</td>\n",
       "    </tr>\n",
       "    <tr>\n",
       "      <th>DI Yogyakarta</th>\n",
       "      <td>3.000000</td>\n",
       "    </tr>\n",
       "    <tr>\n",
       "      <th>DKI Jakarta</th>\n",
       "      <td>48.596774</td>\n",
       "    </tr>\n",
       "    <tr>\n",
       "      <th>Jawa Barat</th>\n",
       "      <td>45.333333</td>\n",
       "    </tr>\n",
       "    <tr>\n",
       "      <th>Jawa Tengah</th>\n",
       "      <td>51.750000</td>\n",
       "    </tr>\n",
       "    <tr>\n",
       "      <th>Jawa Timur</th>\n",
       "      <td>46.142857</td>\n",
       "    </tr>\n",
       "    <tr>\n",
       "      <th>Kalimantan Barat</th>\n",
       "      <td>26.500000</td>\n",
       "    </tr>\n",
       "    <tr>\n",
       "      <th>Kepulauan Riau</th>\n",
       "      <td>71.000000</td>\n",
       "    </tr>\n",
       "    <tr>\n",
       "      <th>Sulawesi Utara</th>\n",
       "      <td>51.000000</td>\n",
       "    </tr>\n",
       "  </tbody>\n",
       "</table>\n",
       "</div>"
      ],
      "text/plain": [
       "                        age\n",
       "province                   \n",
       "Bali              53.000000\n",
       "Banten            51.666667\n",
       "DI Yogyakarta      3.000000\n",
       "DKI Jakarta       48.596774\n",
       "Jawa Barat        45.333333\n",
       "Jawa Tengah       51.750000\n",
       "Jawa Timur        46.142857\n",
       "Kalimantan Barat  26.500000\n",
       "Kepulauan Riau    71.000000\n",
       "Sulawesi Utara    51.000000"
      ]
     },
     "execution_count": 476,
     "metadata": {},
     "output_type": "execute_result"
    }
   ],
   "source": [
    "Age_mean_per_Province"
   ]
  },
  {
   "cell_type": "markdown",
   "metadata": {},
   "source": [
    "- group by confirmed_date & count jumlah suspect"
   ]
  },
  {
   "cell_type": "code",
   "execution_count": 477,
   "metadata": {},
   "outputs": [],
   "source": [
    "Group_By_Confirmed_date = covid_19_compact_clean.groupby(\"confirmed_date\")"
   ]
  },
  {
   "cell_type": "code",
   "execution_count": 478,
   "metadata": {},
   "outputs": [
    {
     "data": {
      "text/html": [
       "<div>\n",
       "<style scoped>\n",
       "    .dataframe tbody tr th:only-of-type {\n",
       "        vertical-align: middle;\n",
       "    }\n",
       "\n",
       "    .dataframe tbody tr th {\n",
       "        vertical-align: top;\n",
       "    }\n",
       "\n",
       "    .dataframe thead th {\n",
       "        text-align: right;\n",
       "    }\n",
       "</style>\n",
       "<table border=\"1\" class=\"dataframe\">\n",
       "  <thead>\n",
       "    <tr style=\"text-align: right;\">\n",
       "      <th></th>\n",
       "      <th>gender</th>\n",
       "      <th>age</th>\n",
       "      <th>province</th>\n",
       "      <th>current_state</th>\n",
       "      <th>confirmed_date</th>\n",
       "      <th>hospital</th>\n",
       "    </tr>\n",
       "  </thead>\n",
       "  <tbody>\n",
       "    <tr>\n",
       "      <th>27</th>\n",
       "      <td>male</td>\n",
       "      <td>37.0</td>\n",
       "      <td>DKI Jakarta</td>\n",
       "      <td>isolated</td>\n",
       "      <td>11-Mar-20</td>\n",
       "      <td>NaN</td>\n",
       "    </tr>\n",
       "    <tr>\n",
       "      <th>28</th>\n",
       "      <td>male</td>\n",
       "      <td>51.0</td>\n",
       "      <td>DKI Jakarta</td>\n",
       "      <td>isolated</td>\n",
       "      <td>11-Mar-20</td>\n",
       "      <td>NaN</td>\n",
       "    </tr>\n",
       "    <tr>\n",
       "      <th>29</th>\n",
       "      <td>male</td>\n",
       "      <td>85.0</td>\n",
       "      <td>DKI Jakarta</td>\n",
       "      <td>isolated</td>\n",
       "      <td>11-Mar-20</td>\n",
       "      <td>NaN</td>\n",
       "    </tr>\n",
       "    <tr>\n",
       "      <th>30</th>\n",
       "      <td>female</td>\n",
       "      <td>48.0</td>\n",
       "      <td>DKI Jakarta</td>\n",
       "      <td>isolated</td>\n",
       "      <td>11-Mar-20</td>\n",
       "      <td>NaN</td>\n",
       "    </tr>\n",
       "    <tr>\n",
       "      <th>31</th>\n",
       "      <td>male</td>\n",
       "      <td>45.0</td>\n",
       "      <td>DKI Jakarta</td>\n",
       "      <td>isolated</td>\n",
       "      <td>11-Mar-20</td>\n",
       "      <td>NaN</td>\n",
       "    </tr>\n",
       "    <tr>\n",
       "      <th>32</th>\n",
       "      <td>male</td>\n",
       "      <td>29.0</td>\n",
       "      <td>Jawa Barat</td>\n",
       "      <td>isolated</td>\n",
       "      <td>11-Mar-20</td>\n",
       "      <td>NaN</td>\n",
       "    </tr>\n",
       "    <tr>\n",
       "      <th>33</th>\n",
       "      <td>male</td>\n",
       "      <td>52.0</td>\n",
       "      <td>DKI Jakarta</td>\n",
       "      <td>isolated</td>\n",
       "      <td>11-Mar-20</td>\n",
       "      <td>NaN</td>\n",
       "    </tr>\n",
       "  </tbody>\n",
       "</table>\n",
       "</div>"
      ],
      "text/plain": [
       "    gender   age     province current_state confirmed_date hospital\n",
       "27    male  37.0  DKI Jakarta      isolated      11-Mar-20      NaN\n",
       "28    male  51.0  DKI Jakarta      isolated      11-Mar-20      NaN\n",
       "29    male  85.0  DKI Jakarta      isolated      11-Mar-20      NaN\n",
       "30  female  48.0  DKI Jakarta      isolated      11-Mar-20      NaN\n",
       "31    male  45.0  DKI Jakarta      isolated      11-Mar-20      NaN\n",
       "32    male  29.0   Jawa Barat      isolated      11-Mar-20      NaN\n",
       "33    male  52.0  DKI Jakarta      isolated      11-Mar-20      NaN"
      ]
     },
     "execution_count": 478,
     "metadata": {},
     "output_type": "execute_result"
    }
   ],
   "source": [
    "Group_By_Confirmed_date.get_group('11-Mar-20')"
   ]
  },
  {
   "cell_type": "code",
   "execution_count": 75,
   "metadata": {},
   "outputs": [],
   "source": [
    "Count_Suspect_Per_Date = Group_By_Confirmed_date['confirmed_date'].count()"
   ]
  },
  {
   "cell_type": "code",
   "execution_count": 479,
   "metadata": {},
   "outputs": [
    {
     "data": {
      "text/plain": [
       "confirmed_date\n",
       "10-Mar-20     8\n",
       "11-Mar-20     7\n",
       "13-Mar-20    35\n",
       "14-Mar-20    22\n",
       "15-Mar-20    17\n",
       "16-Mar-20    16\n",
       "17-Mar-20    32\n",
       "2-Mar-20      2\n",
       "6-Mar-20      2\n",
       "8-Mar-20      2\n",
       "9-Mar-20     13\n",
       "Name: confirmed_date, dtype: int64"
      ]
     },
     "execution_count": 479,
     "metadata": {},
     "output_type": "execute_result"
    }
   ],
   "source": [
    "Count_Suspect_Per_Date"
   ]
  },
  {
   "cell_type": "markdown",
   "metadata": {},
   "source": [
    "### Data Visualization"
   ]
  },
  {
   "cell_type": "code",
   "execution_count": 480,
   "metadata": {},
   "outputs": [
    {
     "data": {
      "text/html": [
       "<div>\n",
       "<style scoped>\n",
       "    .dataframe tbody tr th:only-of-type {\n",
       "        vertical-align: middle;\n",
       "    }\n",
       "\n",
       "    .dataframe tbody tr th {\n",
       "        vertical-align: top;\n",
       "    }\n",
       "\n",
       "    .dataframe thead th {\n",
       "        text-align: right;\n",
       "    }\n",
       "</style>\n",
       "<table border=\"1\" class=\"dataframe\">\n",
       "  <thead>\n",
       "    <tr style=\"text-align: right;\">\n",
       "      <th></th>\n",
       "      <th>age</th>\n",
       "    </tr>\n",
       "    <tr>\n",
       "      <th>province</th>\n",
       "      <th></th>\n",
       "    </tr>\n",
       "  </thead>\n",
       "  <tbody>\n",
       "    <tr>\n",
       "      <th>Bali</th>\n",
       "      <td>53.000000</td>\n",
       "    </tr>\n",
       "    <tr>\n",
       "      <th>Banten</th>\n",
       "      <td>51.666667</td>\n",
       "    </tr>\n",
       "    <tr>\n",
       "      <th>DI Yogyakarta</th>\n",
       "      <td>3.000000</td>\n",
       "    </tr>\n",
       "    <tr>\n",
       "      <th>DKI Jakarta</th>\n",
       "      <td>48.596774</td>\n",
       "    </tr>\n",
       "    <tr>\n",
       "      <th>Jawa Barat</th>\n",
       "      <td>45.333333</td>\n",
       "    </tr>\n",
       "    <tr>\n",
       "      <th>Jawa Tengah</th>\n",
       "      <td>51.750000</td>\n",
       "    </tr>\n",
       "    <tr>\n",
       "      <th>Jawa Timur</th>\n",
       "      <td>46.142857</td>\n",
       "    </tr>\n",
       "    <tr>\n",
       "      <th>Kalimantan Barat</th>\n",
       "      <td>26.500000</td>\n",
       "    </tr>\n",
       "    <tr>\n",
       "      <th>Kepulauan Riau</th>\n",
       "      <td>71.000000</td>\n",
       "    </tr>\n",
       "    <tr>\n",
       "      <th>Sulawesi Utara</th>\n",
       "      <td>51.000000</td>\n",
       "    </tr>\n",
       "  </tbody>\n",
       "</table>\n",
       "</div>"
      ],
      "text/plain": [
       "                        age\n",
       "province                   \n",
       "Bali              53.000000\n",
       "Banten            51.666667\n",
       "DI Yogyakarta      3.000000\n",
       "DKI Jakarta       48.596774\n",
       "Jawa Barat        45.333333\n",
       "Jawa Tengah       51.750000\n",
       "Jawa Timur        46.142857\n",
       "Kalimantan Barat  26.500000\n",
       "Kepulauan Riau    71.000000\n",
       "Sulawesi Utara    51.000000"
      ]
     },
     "execution_count": 480,
     "metadata": {},
     "output_type": "execute_result"
    }
   ],
   "source": [
    "Age_mean_per_Province"
   ]
  },
  {
   "cell_type": "code",
   "execution_count": 481,
   "metadata": {},
   "outputs": [
    {
     "data": {
      "text/plain": [
       "<matplotlib.axes._subplots.AxesSubplot at 0x1f385ca23c8>"
      ]
     },
     "execution_count": 481,
     "metadata": {},
     "output_type": "execute_result"
    },
    {
     "data": {
      "image/png": "[encoded data removed]",
      "text/plain": [
       "<Figure size 432x288 with 1 Axes>"
      ]
     },
     "metadata": {
      "needs_background": "light"
     },
     "output_type": "display_data"
    }
   ],
   "source": [
    "Age_mean_per_Province.plot()"
   ]
  },
  {
   "cell_type": "code",
   "execution_count": 482,
   "metadata": {},
   "outputs": [
    {
     "data": {
      "text/plain": [
       "<matplotlib.axes._subplots.AxesSubplot at 0x1f385d74710>"
      ]
     },
     "execution_count": 482,
     "metadata": {},
     "output_type": "execute_result"
    },
    {
     "data": {
      "image/png": "[encoded data removed]",
      "text/plain": [
       "<Figure size 432x288 with 1 Axes>"
      ]
     },
     "metadata": {
      "needs_background": "light"
     },
     "output_type": "display_data"
    }
   ],
   "source": [
    "Age_mean_per_Province.plot(style='o-')"
   ]
  },
  {
   "cell_type": "code",
   "execution_count": 483,
   "metadata": {},
   "outputs": [
    {
     "data": {
      "text/plain": [
       "<matplotlib.axes._subplots.AxesSubplot at 0x1f385dbe7b8>"
      ]
     },
     "execution_count": 483,
     "metadata": {},
     "output_type": "execute_result"
    },
    {
     "data": {
      "image/png": "[encoded data removed]",
      "text/plain": [
       "<Figure size 432x288 with 1 Axes>"
      ]
     },
     "metadata": {
      "needs_background": "light"
     },
     "output_type": "display_data"
    }
   ],
   "source": [
    "Age_mean_per_Province.plot(style='ro-')"
   ]
  },
  {
   "cell_type": "code",
   "execution_count": 484,
   "metadata": {},
   "outputs": [
    {
     "data": {
      "text/plain": [
       "<matplotlib.axes._subplots.AxesSubplot at 0x1f385b70b38>"
      ]
     },
     "execution_count": 484,
     "metadata": {},
     "output_type": "execute_result"
    },
    {
     "data": {
      "image/png": "[encoded data removed]",
      "text/plain": [
       "<Figure size 432x288 with 1 Axes>"
      ]
     },
     "metadata": {
      "needs_background": "light"
     },
     "output_type": "display_data"
    }
   ],
   "source": [
    "Age_mean_per_Province.plot(style='g*-')"
   ]
  },
  {
   "cell_type": "code",
   "execution_count": 485,
   "metadata": {},
   "outputs": [
    {
     "data": {
      "text/plain": [
       "<matplotlib.axes._subplots.AxesSubplot at 0x1f3815dff28>"
      ]
     },
     "execution_count": 485,
     "metadata": {},
     "output_type": "execute_result"
    },
    {
     "data": {
      "image/png": "[encoded data removed]",
      "text/plain": [
       "<Figure size 432x288 with 1 Axes>"
      ]
     },
     "metadata": {
      "needs_background": "light"
     },
     "output_type": "display_data"
    }
   ],
   "source": [
    "Age_mean_per_Province.plot(style='b^-')"
   ]
  },
  {
   "cell_type": "code",
   "execution_count": 486,
   "metadata": {},
   "outputs": [
    {
     "data": {
      "text/plain": [
       "Text(0.5, 0, 'provinsi')"
      ]
     },
     "execution_count": 486,
     "metadata": {},
     "output_type": "execute_result"
    },
    {
     "data": {
      "image/png": "[encoded data removed]",
      "text/plain": [
       "<Figure size 432x288 with 1 Axes>"
      ]
     },
     "metadata": {
      "needs_background": "light"
     },
     "output_type": "display_data"
    }
   ],
   "source": [
    "ax = Age_mean_per_Province.plot(style='b^-', title=\"Rata-rata umur pasien COVID 19\")\n",
    "ax.set_ylabel(\"umur rata-rata\")\n",
    "ax.set_xlabel(\"provinsi\")"
   ]
  },
  {
   "cell_type": "code",
   "execution_count": 488,
   "metadata": {},
   "outputs": [
    {
     "data": {
      "text/plain": [
       "Text(0.5, 0, 'tanggal')"
      ]
     },
     "execution_count": 488,
     "metadata": {},
     "output_type": "execute_result"
    },
    {
     "data": {
      "image/png": "[encoded data removed]",
      "text/plain": [
       "<Figure size 432x288 with 1 Axes>"
      ]
     },
     "metadata": {
      "needs_background": "light"
     },
     "output_type": "display_data"
    }
   ],
   "source": [
    "\n",
    "ax = Count_Suspect_Per_Date.plot(style='go-', title=\"Total suspect harian\")\n",
    "ax.set_ylabel(\"jumlah suspect\")\n",
    "ax.set_xlabel(\"tanggal\")"
   ]
  },
  {
   "cell_type": "markdown",
   "metadata": {},
   "source": [
    "## Demo Multiplot"
   ]
  },
  {
   "cell_type": "markdown",
   "metadata": {},
   "source": [
    "Dataset : https://bnpb-inacovid19.hub.arcgis.com/datasets/statistik-harian-per-provinsi-covid19-indonesia-rev"
   ]
  },
  {
   "cell_type": "code",
   "execution_count": 489,
   "metadata": {},
   "outputs": [],
   "source": [
    "daily_covid_19_id = pd.read_csv(\"data/Statistik_Harian_per_Provinsi_COVID19_Indonesia_Rev.csv\")"
   ]
  },
  {
   "cell_type": "code",
   "execution_count": 490,
   "metadata": {},
   "outputs": [
    {
     "data": {
      "text/plain": [
       "Object_ID                           int64\n",
       "Provinsi                           object\n",
       "Tanggal                            object\n",
       "Kasus_Terkonfirmasi_Akumulatif      int64\n",
       "Penambahan_Harian_Kasus_Terkonf     int64\n",
       "Kasus_Sembuh_Akumulatif             int64\n",
       "Penambahan_Harian_Kasus_Sembuh      int64\n",
       "Kasus_Meninggal_Akumulatif          int64\n",
       "Penambahan_Harian_Kasus_Meningg     int64\n",
       "Kasus_Aktif_Akumulatif              int64\n",
       "CFR_Harian                         object\n",
       "RI_Harian                          object\n",
       "FID                                 int64\n",
       "ObjectId                            int64\n",
       "dtype: object"
      ]
     },
     "execution_count": 490,
     "metadata": {},
     "output_type": "execute_result"
    }
   ],
   "source": [
    "daily_covid_19_id.dtypes"
   ]
  },
  {
   "cell_type": "code",
   "execution_count": 494,
   "metadata": {},
   "outputs": [
    {
     "data": {
      "text/html": [
       "<div>\n",
       "<style scoped>\n",
       "    .dataframe tbody tr th:only-of-type {\n",
       "        vertical-align: middle;\n",
       "    }\n",
       "\n",
       "    .dataframe tbody tr th {\n",
       "        vertical-align: top;\n",
       "    }\n",
       "\n",
       "    .dataframe thead th {\n",
       "        text-align: right;\n",
       "    }\n",
       "</style>\n",
       "<table border=\"1\" class=\"dataframe\">\n",
       "  <thead>\n",
       "    <tr style=\"text-align: right;\">\n",
       "      <th></th>\n",
       "      <th>Object_ID</th>\n",
       "      <th>Provinsi</th>\n",
       "      <th>Tanggal</th>\n",
       "      <th>Kasus_Terkonfirmasi_Akumulatif</th>\n",
       "      <th>Penambahan_Harian_Kasus_Terkonf</th>\n",
       "      <th>Kasus_Sembuh_Akumulatif</th>\n",
       "      <th>Penambahan_Harian_Kasus_Sembuh</th>\n",
       "      <th>Kasus_Meninggal_Akumulatif</th>\n",
       "      <th>Penambahan_Harian_Kasus_Meningg</th>\n",
       "      <th>Kasus_Aktif_Akumulatif</th>\n",
       "      <th>CFR_Harian</th>\n",
       "      <th>RI_Harian</th>\n",
       "      <th>FID</th>\n",
       "      <th>ObjectId</th>\n",
       "    </tr>\n",
       "  </thead>\n",
       "  <tbody>\n",
       "    <tr>\n",
       "      <th>0</th>\n",
       "      <td>1</td>\n",
       "      <td>Aceh</td>\n",
       "      <td>2020-03-02 00:00:00+00:00</td>\n",
       "      <td>0</td>\n",
       "      <td>0</td>\n",
       "      <td>0</td>\n",
       "      <td>0</td>\n",
       "      <td>0</td>\n",
       "      <td>0</td>\n",
       "      <td>0</td>\n",
       "      <td>#DIV/0!</td>\n",
       "      <td>#DIV/0!</td>\n",
       "      <td>1</td>\n",
       "      <td>3572</td>\n",
       "    </tr>\n",
       "    <tr>\n",
       "      <th>1</th>\n",
       "      <td>2</td>\n",
       "      <td>Bali</td>\n",
       "      <td>2020-03-02 00:00:00+00:00</td>\n",
       "      <td>0</td>\n",
       "      <td>0</td>\n",
       "      <td>0</td>\n",
       "      <td>0</td>\n",
       "      <td>0</td>\n",
       "      <td>0</td>\n",
       "      <td>0</td>\n",
       "      <td>#DIV/0!</td>\n",
       "      <td>#DIV/0!</td>\n",
       "      <td>2</td>\n",
       "      <td>3573</td>\n",
       "    </tr>\n",
       "    <tr>\n",
       "      <th>2</th>\n",
       "      <td>3</td>\n",
       "      <td>Banten</td>\n",
       "      <td>2020-03-02 00:00:00+00:00</td>\n",
       "      <td>0</td>\n",
       "      <td>0</td>\n",
       "      <td>0</td>\n",
       "      <td>0</td>\n",
       "      <td>0</td>\n",
       "      <td>0</td>\n",
       "      <td>0</td>\n",
       "      <td>#DIV/0!</td>\n",
       "      <td>#DIV/0!</td>\n",
       "      <td>3</td>\n",
       "      <td>3574</td>\n",
       "    </tr>\n",
       "    <tr>\n",
       "      <th>3</th>\n",
       "      <td>4</td>\n",
       "      <td>Kepulauan Bangka Belitung</td>\n",
       "      <td>2020-03-02 00:00:00+00:00</td>\n",
       "      <td>0</td>\n",
       "      <td>0</td>\n",
       "      <td>0</td>\n",
       "      <td>0</td>\n",
       "      <td>0</td>\n",
       "      <td>0</td>\n",
       "      <td>0</td>\n",
       "      <td>#DIV/0!</td>\n",
       "      <td>#DIV/0!</td>\n",
       "      <td>4</td>\n",
       "      <td>3575</td>\n",
       "    </tr>\n",
       "    <tr>\n",
       "      <th>4</th>\n",
       "      <td>5</td>\n",
       "      <td>Bengkulu</td>\n",
       "      <td>2020-03-02 00:00:00+00:00</td>\n",
       "      <td>0</td>\n",
       "      <td>0</td>\n",
       "      <td>0</td>\n",
       "      <td>0</td>\n",
       "      <td>0</td>\n",
       "      <td>0</td>\n",
       "      <td>0</td>\n",
       "      <td>#DIV/0!</td>\n",
       "      <td>#DIV/0!</td>\n",
       "      <td>5</td>\n",
       "      <td>3576</td>\n",
       "    </tr>\n",
       "  </tbody>\n",
       "</table>\n",
       "</div>"
      ],
      "text/plain": [
       "   Object_ID                   Provinsi                   Tanggal  \\\n",
       "0          1                       Aceh 2020-03-02 00:00:00+00:00   \n",
       "1          2                       Bali 2020-03-02 00:00:00+00:00   \n",
       "2          3                     Banten 2020-03-02 00:00:00+00:00   \n",
       "3          4  Kepulauan Bangka Belitung 2020-03-02 00:00:00+00:00   \n",
       "4          5                   Bengkulu 2020-03-02 00:00:00+00:00   \n",
       "\n",
       "   Kasus_Terkonfirmasi_Akumulatif  Penambahan_Harian_Kasus_Terkonf  \\\n",
       "0                               0                                0   \n",
       "1                               0                                0   \n",
       "2                               0                                0   \n",
       "3                               0                                0   \n",
       "4                               0                                0   \n",
       "\n",
       "   Kasus_Sembuh_Akumulatif  Penambahan_Harian_Kasus_Sembuh  \\\n",
       "0                        0                               0   \n",
       "1                        0                               0   \n",
       "2                        0                               0   \n",
       "3                        0                               0   \n",
       "4                        0                               0   \n",
       "\n",
       "   Kasus_Meninggal_Akumulatif  Penambahan_Harian_Kasus_Meningg  \\\n",
       "0                           0                                0   \n",
       "1                           0                                0   \n",
       "2                           0                                0   \n",
       "3                           0                                0   \n",
       "4                           0                                0   \n",
       "\n",
       "   Kasus_Aktif_Akumulatif CFR_Harian RI_Harian  FID  ObjectId  \n",
       "0                       0    #DIV/0!   #DIV/0!    1      3572  \n",
       "1                       0    #DIV/0!   #DIV/0!    2      3573  \n",
       "2                       0    #DIV/0!   #DIV/0!    3      3574  \n",
       "3                       0    #DIV/0!   #DIV/0!    4      3575  \n",
       "4                       0    #DIV/0!   #DIV/0!    5      3576  "
      ]
     },
     "execution_count": 494,
     "metadata": {},
     "output_type": "execute_result"
    }
   ],
   "source": [
    "daily_covid_19_id.head()"
   ]
  },
  {
   "cell_type": "code",
   "execution_count": 493,
   "metadata": {},
   "outputs": [],
   "source": [
    "daily_covid_19_id['Tanggal']  = pd.to_datetime(daily_covid_19_id['Tanggal'])"
   ]
  },
  {
   "cell_type": "code",
   "execution_count": 495,
   "metadata": {},
   "outputs": [],
   "source": [
    "akum_case = daily_covid_19_id[['Tanggal', 'Kasus_Terkonfirmasi_Akumulatif', 'Kasus_Sembuh_Akumulatif', 'Kasus_Meninggal_Akumulatif', 'Kasus_Aktif_Akumulatif']]"
   ]
  },
  {
   "cell_type": "code",
   "execution_count": 496,
   "metadata": {},
   "outputs": [
    {
     "data": {
      "text/plain": [
       "Tanggal                           datetime64[ns, UTC]\n",
       "Kasus_Terkonfirmasi_Akumulatif                  int64\n",
       "Kasus_Sembuh_Akumulatif                         int64\n",
       "Kasus_Meninggal_Akumulatif                      int64\n",
       "Kasus_Aktif_Akumulatif                          int64\n",
       "dtype: object"
      ]
     },
     "execution_count": 496,
     "metadata": {},
     "output_type": "execute_result"
    }
   ],
   "source": [
    "akum_case.dtypes"
   ]
  },
  {
   "cell_type": "code",
   "execution_count": 497,
   "metadata": {},
   "outputs": [],
   "source": [
    "akum_per_day = akum_case.groupby('Tanggal').sum()"
   ]
  },
  {
   "cell_type": "code",
   "execution_count": 498,
   "metadata": {},
   "outputs": [
    {
     "data": {
      "text/html": [
       "<div>\n",
       "<style scoped>\n",
       "    .dataframe tbody tr th:only-of-type {\n",
       "        vertical-align: middle;\n",
       "    }\n",
       "\n",
       "    .dataframe tbody tr th {\n",
       "        vertical-align: top;\n",
       "    }\n",
       "\n",
       "    .dataframe thead th {\n",
       "        text-align: right;\n",
       "    }\n",
       "</style>\n",
       "<table border=\"1\" class=\"dataframe\">\n",
       "  <thead>\n",
       "    <tr style=\"text-align: right;\">\n",
       "      <th></th>\n",
       "      <th>Kasus_Terkonfirmasi_Akumulatif</th>\n",
       "      <th>Kasus_Sembuh_Akumulatif</th>\n",
       "      <th>Kasus_Meninggal_Akumulatif</th>\n",
       "      <th>Kasus_Aktif_Akumulatif</th>\n",
       "    </tr>\n",
       "    <tr>\n",
       "      <th>Tanggal</th>\n",
       "      <th></th>\n",
       "      <th></th>\n",
       "      <th></th>\n",
       "      <th></th>\n",
       "    </tr>\n",
       "  </thead>\n",
       "  <tbody>\n",
       "    <tr>\n",
       "      <th>2020-03-02 00:00:00+00:00</th>\n",
       "      <td>2</td>\n",
       "      <td>0</td>\n",
       "      <td>0</td>\n",
       "      <td>2</td>\n",
       "    </tr>\n",
       "    <tr>\n",
       "      <th>2020-03-03 00:00:00+00:00</th>\n",
       "      <td>2</td>\n",
       "      <td>0</td>\n",
       "      <td>0</td>\n",
       "      <td>2</td>\n",
       "    </tr>\n",
       "    <tr>\n",
       "      <th>2020-03-04 00:00:00+00:00</th>\n",
       "      <td>2</td>\n",
       "      <td>0</td>\n",
       "      <td>0</td>\n",
       "      <td>2</td>\n",
       "    </tr>\n",
       "    <tr>\n",
       "      <th>2020-03-05 00:00:00+00:00</th>\n",
       "      <td>2</td>\n",
       "      <td>0</td>\n",
       "      <td>0</td>\n",
       "      <td>2</td>\n",
       "    </tr>\n",
       "    <tr>\n",
       "      <th>2020-03-06 00:00:00+00:00</th>\n",
       "      <td>4</td>\n",
       "      <td>0</td>\n",
       "      <td>0</td>\n",
       "      <td>4</td>\n",
       "    </tr>\n",
       "    <tr>\n",
       "      <th>...</th>\n",
       "      <td>...</td>\n",
       "      <td>...</td>\n",
       "      <td>...</td>\n",
       "      <td>...</td>\n",
       "    </tr>\n",
       "    <tr>\n",
       "      <th>2020-06-20 00:00:00+00:00</th>\n",
       "      <td>45029</td>\n",
       "      <td>17883</td>\n",
       "      <td>2429</td>\n",
       "      <td>24717</td>\n",
       "    </tr>\n",
       "    <tr>\n",
       "      <th>2020-06-21 00:00:00+00:00</th>\n",
       "      <td>45891</td>\n",
       "      <td>18404</td>\n",
       "      <td>2465</td>\n",
       "      <td>25022</td>\n",
       "    </tr>\n",
       "    <tr>\n",
       "      <th>2020-06-22 00:00:00+00:00</th>\n",
       "      <td>46845</td>\n",
       "      <td>18735</td>\n",
       "      <td>2500</td>\n",
       "      <td>25610</td>\n",
       "    </tr>\n",
       "    <tr>\n",
       "      <th>2020-06-23 00:00:00+00:00</th>\n",
       "      <td>47896</td>\n",
       "      <td>19241</td>\n",
       "      <td>2535</td>\n",
       "      <td>26120</td>\n",
       "    </tr>\n",
       "    <tr>\n",
       "      <th>2020-06-24 00:00:00+00:00</th>\n",
       "      <td>49009</td>\n",
       "      <td>19638</td>\n",
       "      <td>2573</td>\n",
       "      <td>26798</td>\n",
       "    </tr>\n",
       "  </tbody>\n",
       "</table>\n",
       "<p>115 rows × 4 columns</p>\n",
       "</div>"
      ],
      "text/plain": [
       "                           Kasus_Terkonfirmasi_Akumulatif  \\\n",
       "Tanggal                                                     \n",
       "2020-03-02 00:00:00+00:00                               2   \n",
       "2020-03-03 00:00:00+00:00                               2   \n",
       "2020-03-04 00:00:00+00:00                               2   \n",
       "2020-03-05 00:00:00+00:00                               2   \n",
       "2020-03-06 00:00:00+00:00                               4   \n",
       "...                                                   ...   \n",
       "2020-06-20 00:00:00+00:00                           45029   \n",
       "2020-06-21 00:00:00+00:00                           45891   \n",
       "2020-06-22 00:00:00+00:00                           46845   \n",
       "2020-06-23 00:00:00+00:00                           47896   \n",
       "2020-06-24 00:00:00+00:00                           49009   \n",
       "\n",
       "                           Kasus_Sembuh_Akumulatif  \\\n",
       "Tanggal                                              \n",
       "2020-03-02 00:00:00+00:00                        0   \n",
       "2020-03-03 00:00:00+00:00                        0   \n",
       "2020-03-04 00:00:00+00:00                        0   \n",
       "2020-03-05 00:00:00+00:00                        0   \n",
       "2020-03-06 00:00:00+00:00                        0   \n",
       "...                                            ...   \n",
       "2020-06-20 00:00:00+00:00                    17883   \n",
       "2020-06-21 00:00:00+00:00                    18404   \n",
       "2020-06-22 00:00:00+00:00                    18735   \n",
       "2020-06-23 00:00:00+00:00                    19241   \n",
       "2020-06-24 00:00:00+00:00                    19638   \n",
       "\n",
       "                           Kasus_Meninggal_Akumulatif  Kasus_Aktif_Akumulatif  \n",
       "Tanggal                                                                        \n",
       "2020-03-02 00:00:00+00:00                           0                       2  \n",
       "2020-03-03 00:00:00+00:00                           0                       2  \n",
       "2020-03-04 00:00:00+00:00                           0                       2  \n",
       "2020-03-05 00:00:00+00:00                           0                       2  \n",
       "2020-03-06 00:00:00+00:00                           0                       4  \n",
       "...                                               ...                     ...  \n",
       "2020-06-20 00:00:00+00:00                        2429                   24717  \n",
       "2020-06-21 00:00:00+00:00                        2465                   25022  \n",
       "2020-06-22 00:00:00+00:00                        2500                   25610  \n",
       "2020-06-23 00:00:00+00:00                        2535                   26120  \n",
       "2020-06-24 00:00:00+00:00                        2573                   26798  \n",
       "\n",
       "[115 rows x 4 columns]"
      ]
     },
     "execution_count": 498,
     "metadata": {},
     "output_type": "execute_result"
    }
   ],
   "source": [
    "akum_per_day"
   ]
  },
  {
   "cell_type": "code",
   "execution_count": 499,
   "metadata": {},
   "outputs": [
    {
     "data": {
      "text/plain": [
       "Text(0, 0.5, 'jumlah kasus')"
      ]
     },
     "execution_count": 499,
     "metadata": {},
     "output_type": "execute_result"
    },
    {
     "data": {
      "image/png": "[encoded data removed]",
      "text/plain": [
       "<Figure size 1080x360 with 1 Axes>"
      ]
     },
     "metadata": {
      "needs_background": "light"
     },
     "output_type": "display_data"
    }
   ],
   "source": [
    "ax = akum_per_day.plot(figsize=(15,5), style=['r-', 'g--', 'b-.', 'c-'], title=\"Total Akumulasi Kasus COVID 19\")\n",
    "ax.set_ylabel(\"jumlah kasus\")"
   ]
  },
  {
   "cell_type": "code",
   "execution_count": null,
   "metadata": {},
   "outputs": [],
   "source": []
  },
  {
   "cell_type": "markdown",
   "metadata": {},
   "source": [
    "### Sumber :\n",
    "\n",
    "- https://en.wikipedia.org/wiki/Matrix_%28mathematics%29#Basic_operations\n",
    "- https://becominghuman.ai/an-essential-guide-to-numpy-for-machine-learning-in-python-5615e1758301\n",
    "- https://data-flair.training/blogs/python-data-structures-tutorial/\n",
    "- https://www.petanikode.com/tutorial/python/\n",
    "- https://webcourses.ucf.edu/courses/1249560/pages/python-lists-vs-numpy-arrays-what-is-the-difference\n",
    "- https://medium.com/@yunusmuhammad007/python-data-science-pandas-part-2-838797f00a96\n",
    "- https://medium.com/@yunusmuhammad007/5-basic-python-programming-87c89e1d0d3e"
   ]
  },
  {
   "cell_type": "code",
   "execution_count": null,
   "metadata": {},
   "outputs": [],
   "source": []
  }
 ],
 "metadata": {
  "kernelspec": {
   "display_name": "Python 3",
   "language": "python",
   "name": "python3"
  },
  "language_info": {
   "codemirror_mode": {
    "name": "ipython",
    "version": 3
   },
   "file_extension": ".py",
   "mimetype": "text/x-python",
   "name": "python",
   "nbconvert_exporter": "python",
   "pygments_lexer": "ipython3",
   "version": "3.7.6"
  }
 },
 "nbformat": 4,
 "nbformat_minor": 4
}
